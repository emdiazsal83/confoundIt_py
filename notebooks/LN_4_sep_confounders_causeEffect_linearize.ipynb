{
 "cells": [
  {
   "cell_type": "code",
   "execution_count": 1,
   "id": "460109d2",
   "metadata": {},
   "outputs": [],
   "source": [
    "import sys"
   ]
  },
  {
   "cell_type": "code",
   "execution_count": 2,
   "id": "d7fe1118",
   "metadata": {},
   "outputs": [],
   "source": [
    "sys.path.insert(1,'../src')\n",
    "#sys.path.insert(1,'../src/ITE-1.1_code')"
   ]
  },
  {
   "cell_type": "code",
   "execution_count": 3,
   "id": "ba510aec",
   "metadata": {},
   "outputs": [],
   "source": [
    "#from latentNoise_funcs_gen   import *"
   ]
  },
  {
   "cell_type": "code",
   "execution_count": 4,
   "id": "5c795370",
   "metadata": {},
   "outputs": [
    {
     "name": "stdout",
     "output_type": "stream",
     "text": [
      "2023-09-29 18:44:20,059:INFO:NumExpr defaulting to 8 threads.\n"
     ]
    }
   ],
   "source": [
    "\n",
    "from funcs_LNC import *\n",
    "from funcs_LNC_lin import *\n",
    "from processResults import * "
   ]
  },
  {
   "cell_type": "code",
   "execution_count": 5,
   "id": "a67e1716",
   "metadata": {},
   "outputs": [
    {
     "data": {
      "text/plain": [
       "'0.13.2'"
      ]
     },
     "execution_count": 5,
     "metadata": {},
     "output_type": "execute_result"
    }
   ],
   "source": [
    "sm.__version__"
   ]
  },
  {
   "cell_type": "code",
   "execution_count": 6,
   "id": "c158c13f",
   "metadata": {},
   "outputs": [
    {
     "data": {
      "text/plain": [
       "'0.1.73'"
      ]
     },
     "execution_count": 6,
     "metadata": {},
     "output_type": "execute_result"
    }
   ],
   "source": [
    "jax.__version__"
   ]
  },
  {
   "cell_type": "code",
   "execution_count": 7,
   "id": "a6369109",
   "metadata": {},
   "outputs": [
    {
     "data": {
      "text/plain": [
       "'0.1.51'"
      ]
     },
     "execution_count": 7,
     "metadata": {},
     "output_type": "execute_result"
    }
   ],
   "source": [
    "import jaxlib\n",
    "jaxlib.__version__"
   ]
  },
  {
   "cell_type": "code",
   "execution_count": 8,
   "id": "0d680f7b",
   "metadata": {},
   "outputs": [],
   "source": [
    "import matplotlib.pyplot as plt"
   ]
  },
  {
   "cell_type": "code",
   "execution_count": 9,
   "id": "6daa578c",
   "metadata": {},
   "outputs": [
    {
     "data": {
      "text/plain": [
       "(1000, 1)"
      ]
     },
     "execution_count": 9,
     "metadata": {},
     "output_type": "execute_result"
    }
   ],
   "source": [
    "x = onp.random.normal(size=1000, scale=0.1)[:,None]\n",
    "z = onp.random.uniform(size=1000, low=-3.14, high=3.14)[:,None]\n",
    "y = 5*x + 3*z#onp.sin(z)\n",
    "y.shape"
   ]
  },
  {
   "cell_type": "code",
   "execution_count": 10,
   "id": "9852694d",
   "metadata": {},
   "outputs": [],
   "source": [
    "X = onp.hstack([x,z])\n",
    "X2 = onp.hstack([x,y])\n",
    "ws = np.ones(X.shape[1])"
   ]
  },
  {
   "cell_type": "code",
   "execution_count": 11,
   "id": "b762ea79",
   "metadata": {},
   "outputs": [
    {
     "data": {
      "text/plain": [
       "DeviceArray([ 2267.77 , 24424.686], dtype=float32)"
      ]
     },
     "execution_count": 11,
     "metadata": {},
     "output_type": "execute_result"
    }
   ],
   "source": [
    "lam = np.array(0.001)\n",
    "statss = linRegCoefStat(lam, X, y, ws)\n",
    "statss"
   ]
  },
  {
   "cell_type": "code",
   "execution_count": 12,
   "id": "3c032cbf",
   "metadata": {},
   "outputs": [
    {
     "name": "stderr",
     "output_type": "stream",
     "text": [
      "/home/emiliano/anaconda3/lib/python3.7/site-packages/sklearn/decomposition/_fastica.py:470: UserWarning: n_components is too large: it will be set to 2\n",
      "  % n_components\n"
     ]
    },
    {
     "data": {
      "text/plain": [
       "(1000, 2)"
      ]
     },
     "execution_count": 12,
     "metadata": {},
     "output_type": "execute_result"
    }
   ],
   "source": [
    "transformer = FastICA(n_components=10,random_state=0,whiten='unit-variance')\n",
    "X_transformed = transformer.fit_transform(X2)\n",
    "X_transformed.shape"
   ]
  },
  {
   "cell_type": "code",
   "execution_count": 13,
   "id": "34099742",
   "metadata": {},
   "outputs": [
    {
     "data": {
      "text/plain": [
       "(1000, 1)"
      ]
     },
     "execution_count": 13,
     "metadata": {},
     "output_type": "execute_result"
    }
   ],
   "source": [
    "X[:,0][:,None].shape"
   ]
  },
  {
   "cell_type": "code",
   "execution_count": 14,
   "id": "5295fe9d",
   "metadata": {},
   "outputs": [
    {
     "data": {
      "text/plain": [
       "<matplotlib.collections.PathCollection at 0x7fc3136b4b10>"
      ]
     },
     "execution_count": 14,
     "metadata": {},
     "output_type": "execute_result"
    },
    {
     "data": {
      "image/png": "[encoded data removed]",
      "text/plain": [
       "<Figure size 640x480 with 1 Axes>"
      ]
     },
     "metadata": {},
     "output_type": "display_data"
    }
   ],
   "source": [
    "plt.scatter(X_transformed[:,0][:,None],y)"
   ]
  },
  {
   "cell_type": "code",
   "execution_count": 15,
   "id": "c475c2e2",
   "metadata": {},
   "outputs": [
    {
     "name": "stdout",
     "output_type": "stream",
     "text": [
      "                            OLS Regression Results                            \n",
      "==============================================================================\n",
      "Dep. Variable:                      y   R-squared:                       0.022\n",
      "Model:                            OLS   Adj. R-squared:                  0.021\n",
      "Method:                 Least Squares   F-statistic:                     22.69\n",
      "Date:                Fri, 29 Sep 2023   Prob (F-statistic):           2.18e-06\n",
      "Time:                        18:44:21   Log-Likelihood:                -3105.1\n",
      "No. Observations:                1000   AIC:                             6214.\n",
      "Df Residuals:                     998   BIC:                             6224.\n",
      "Df Model:                           1                                         \n",
      "Covariance Type:            nonrobust                                         \n",
      "==============================================================================\n",
      "                 coef    std err          t      P>|t|      [0.025      0.975]\n",
      "------------------------------------------------------------------------------\n",
      "const          0.1102      0.171      0.645      0.519      -0.225       0.446\n",
      "x1            25.7434      5.404      4.764      0.000      15.139      36.348\n",
      "==============================================================================\n",
      "Omnibus:                      703.846   Durbin-Watson:                   1.978\n",
      "Prob(Omnibus):                  0.000   Jarque-Bera (JB):               59.776\n",
      "Skew:                          -0.044   Prob(JB):                     1.05e-13\n",
      "Kurtosis:                       1.806   Cond. No.                         31.6\n",
      "==============================================================================\n",
      "\n",
      "Notes:\n",
      "[1] Standard Errors assume that the covariance matrix of the errors is correctly specified.\n"
     ]
    }
   ],
   "source": [
    "X3 = sm.add_constant(X_transformed[:,1][:,None])\n",
    "est = sm.OLS(y, X3)\n",
    "est2 = est.fit()\n",
    "print(est2.summary())"
   ]
  },
  {
   "cell_type": "code",
   "execution_count": 16,
   "id": "a8e1f3c7",
   "metadata": {},
   "outputs": [
    {
     "data": {
      "text/plain": [
       "2.181043338609213e-06"
      ]
     },
     "execution_count": 16,
     "metadata": {},
     "output_type": "execute_result"
    }
   ],
   "source": [
    "est2.f_pvalue"
   ]
  },
  {
   "cell_type": "code",
   "execution_count": 17,
   "id": "d6dbba8c",
   "metadata": {},
   "outputs": [
    {
     "data": {
      "text/plain": [
       "array([0.519, 0.   ])"
      ]
     },
     "execution_count": 17,
     "metadata": {},
     "output_type": "execute_result"
    }
   ],
   "source": [
    "est2.pvalues"
   ]
  },
  {
   "cell_type": "code",
   "execution_count": 18,
   "id": "72c00c53",
   "metadata": {},
   "outputs": [],
   "source": [
    "pvalsy = [sm.OLS(y, sm.add_constant(X_transformed[:,i][:,None])).fit().f_pvalue for i in range(X_transformed.shape[1])]\n",
    "pvalsx = [sm.OLS(x, sm.add_constant(X_transformed[:,i][:,None])).fit().f_pvalue for i in range(X_transformed.shape[1])]"
   ]
  },
  {
   "cell_type": "code",
   "execution_count": 19,
   "id": "33e631c9",
   "metadata": {},
   "outputs": [
    {
     "data": {
      "text/plain": [
       "[0.0, 2.181043338609213e-06]"
      ]
     },
     "execution_count": 19,
     "metadata": {},
     "output_type": "execute_result"
    }
   ],
   "source": [
    "pvalsy"
   ]
  },
  {
   "cell_type": "code",
   "execution_count": 20,
   "id": "3f3bd97d",
   "metadata": {},
   "outputs": [
    {
     "data": {
      "text/plain": [
       "[0.028287575427144038, 0.0]"
      ]
     },
     "execution_count": 20,
     "metadata": {},
     "output_type": "execute_result"
    }
   ],
   "source": [
    "pvalsx"
   ]
  },
  {
   "cell_type": "code",
   "execution_count": 21,
   "id": "5a1bda3c",
   "metadata": {},
   "outputs": [],
   "source": [
    "#pvalsx = [1, 2]\n",
    "#pvalsy = [3, 4]"
   ]
  },
  {
   "cell_type": "code",
   "execution_count": 22,
   "id": "f11c0ed2",
   "metadata": {},
   "outputs": [],
   "source": [
    "pvals = np.array([pvalsx, pvalsy])"
   ]
  },
  {
   "cell_type": "code",
   "execution_count": 23,
   "id": "04ae770a",
   "metadata": {},
   "outputs": [
    {
     "data": {
      "text/plain": [
       "array([0.028, 0.   ], dtype=float32)"
      ]
     },
     "execution_count": 23,
     "metadata": {},
     "output_type": "execute_result"
    }
   ],
   "source": [
    "sumpvals = onp.apply_along_axis(np.sum, 0, pvals)\n",
    "sumpvals"
   ]
  },
  {
   "cell_type": "code",
   "execution_count": 24,
   "id": "b24d695c",
   "metadata": {},
   "outputs": [
    {
     "data": {
      "text/plain": [
       "1"
      ]
     },
     "execution_count": 24,
     "metadata": {},
     "output_type": "execute_result"
    }
   ],
   "source": [
    "onp.argmin(sumpvals)"
   ]
  },
  {
   "cell_type": "code",
   "execution_count": 25,
   "id": "632c2642",
   "metadata": {},
   "outputs": [
    {
     "data": {
      "text/plain": [
       "<matplotlib.collections.PathCollection at 0x7fc313659b10>"
      ]
     },
     "execution_count": 25,
     "metadata": {},
     "output_type": "execute_result"
    },
    {
     "data": {
      "image/png": "[encoded data removed]",
      "text/plain": [
       "<Figure size 640x480 with 1 Axes>"
      ]
     },
     "metadata": {},
     "output_type": "display_data"
    }
   ],
   "source": [
    "plt.scatter(z, y)"
   ]
  },
  {
   "cell_type": "code",
   "execution_count": 26,
   "id": "8a93f3c5",
   "metadata": {},
   "outputs": [
    {
     "data": {
      "text/plain": [
       "<matplotlib.collections.PathCollection at 0x7fc2dc04c150>"
      ]
     },
     "execution_count": 26,
     "metadata": {},
     "output_type": "execute_result"
    },
    {
     "data": {
      "image/png": "[encoded data removed]",
      "text/plain": [
       "<Figure size 640x480 with 1 Axes>"
      ]
     },
     "metadata": {},
     "output_type": "display_data"
    }
   ],
   "source": [
    "plt.scatter(x, y)"
   ]
  },
  {
   "cell_type": "code",
   "execution_count": 27,
   "id": "b490710e",
   "metadata": {},
   "outputs": [],
   "source": [
    "X = np.array(X)\n",
    "x = np.array(x)\n",
    "y = np.array(y)\n",
    "n = x.shape[0]\n",
    "p = X.shape[1]\n",
    "ws = np.ones(p)"
   ]
  },
  {
   "cell_type": "code",
   "execution_count": 28,
   "id": "c5150722",
   "metadata": {},
   "outputs": [],
   "source": [
    "lam = np.array(0.001)\n",
    "\n",
    "\n",
    "beta, resids, y_hat = rrModel(lam, X, y, ws)"
   ]
  },
  {
   "cell_type": "code",
   "execution_count": 29,
   "id": "75211ad7",
   "metadata": {},
   "outputs": [
    {
     "data": {
      "text/plain": [
       "(1000, 1)"
      ]
     },
     "execution_count": 29,
     "metadata": {},
     "output_type": "execute_result"
    }
   ],
   "source": [
    "resids.shape"
   ]
  },
  {
   "cell_type": "code",
   "execution_count": 30,
   "id": "df981432",
   "metadata": {},
   "outputs": [
    {
     "data": {
      "text/plain": [
       "DeviceArray([[5.],\n",
       "             [3.]], dtype=float32)"
      ]
     },
     "execution_count": 30,
     "metadata": {},
     "output_type": "execute_result"
    }
   ],
   "source": [
    "beta"
   ]
  },
  {
   "cell_type": "code",
   "execution_count": 31,
   "id": "282ef925",
   "metadata": {},
   "outputs": [
    {
     "data": {
      "text/plain": [
       "<matplotlib.collections.PathCollection at 0x7fc2c43ada90>"
      ]
     },
     "execution_count": 31,
     "metadata": {},
     "output_type": "execute_result"
    },
    {
     "data": {
      "image/png": "[encoded data removed]",
      "text/plain": [
       "<Figure size 640x480 with 1 Axes>"
      ]
     },
     "metadata": {},
     "output_type": "display_data"
    }
   ],
   "source": [
    "plt.scatter(y, y_hat)"
   ]
  },
  {
   "cell_type": "code",
   "execution_count": 32,
   "id": "609cc521",
   "metadata": {},
   "outputs": [
    {
     "data": {
      "text/plain": [
       "DeviceArray([[ -3.934],\n",
       "             [ -9.749],\n",
       "             [ -3.082],\n",
       "             [ -1.023],\n",
       "             [ -8.84 ],\n",
       "             [ -0.222],\n",
       "             [  7.995],\n",
       "             [  7.427],\n",
       "             [ -4.627],\n",
       "             [ -2.207],\n",
       "             [ -1.049],\n",
       "             [ -7.026],\n",
       "             [ -9.126],\n",
       "             [  6.755],\n",
       "             [ -4.621],\n",
       "             [ -6.192],\n",
       "             [  3.257],\n",
       "             [ -4.999],\n",
       "             [ -6.08 ],\n",
       "             [  8.235],\n",
       "             [  4.823],\n",
       "             [ -7.099],\n",
       "             [ -7.331],\n",
       "             [  4.117],\n",
       "             [ -9.322],\n",
       "             [ -3.991],\n",
       "             [  2.001],\n",
       "             [ -8.559],\n",
       "             [ -3.211],\n",
       "             [  0.438],\n",
       "             [ -2.562],\n",
       "             [ -2.315],\n",
       "             [  9.528],\n",
       "             [ -3.36 ],\n",
       "             [ -5.538],\n",
       "             [ -9.044],\n",
       "             [ -1.468],\n",
       "             [  3.237],\n",
       "             [ -7.665],\n",
       "             [  6.684],\n",
       "             [  8.142],\n",
       "             [ -1.82 ],\n",
       "             [  7.51 ],\n",
       "             [  7.765],\n",
       "             [  2.838],\n",
       "             [ -5.662],\n",
       "             [  2.145],\n",
       "             [  0.713],\n",
       "             [  2.454],\n",
       "             [  8.153],\n",
       "             [ -5.512],\n",
       "             [  6.921],\n",
       "             [ -5.678],\n",
       "             [ -6.975],\n",
       "             [  5.897],\n",
       "             [  6.61 ],\n",
       "             [  8.299],\n",
       "             [  3.621],\n",
       "             [  8.502],\n",
       "             [ -7.932],\n",
       "             [  8.517],\n",
       "             [ -5.591],\n",
       "             [ -1.032],\n",
       "             [  5.474],\n",
       "             [ -5.461],\n",
       "             [  7.75 ],\n",
       "             [ -2.314],\n",
       "             [  0.202],\n",
       "             [ -0.645],\n",
       "             [  1.583],\n",
       "             [ -5.478],\n",
       "             [  7.515],\n",
       "             [ -8.235],\n",
       "             [  3.094],\n",
       "             [ -8.727],\n",
       "             [  8.784],\n",
       "             [ -5.09 ],\n",
       "             [  6.655],\n",
       "             [  6.68 ],\n",
       "             [  6.319],\n",
       "             [ -3.826],\n",
       "             [ -8.715],\n",
       "             [ -6.904],\n",
       "             [  2.659],\n",
       "             [  2.076],\n",
       "             [  0.198],\n",
       "             [  7.045],\n",
       "             [ -3.611],\n",
       "             [  9.019],\n",
       "             [ -3.352],\n",
       "             [ -1.536],\n",
       "             [ -4.814],\n",
       "             [  7.653],\n",
       "             [  0.708],\n",
       "             [  3.378],\n",
       "             [  8.342],\n",
       "             [  0.049],\n",
       "             [ -7.275],\n",
       "             [  2.187],\n",
       "             [  9.498],\n",
       "             [ -8.889],\n",
       "             [ -4.521],\n",
       "             [  2.075],\n",
       "             [ -1.755],\n",
       "             [ -7.564],\n",
       "             [  1.931],\n",
       "             [  2.731],\n",
       "             [ -4.987],\n",
       "             [  8.169],\n",
       "             [  7.851],\n",
       "             [ -7.094],\n",
       "             [ -7.538],\n",
       "             [ -7.804],\n",
       "             [  8.487],\n",
       "             [ -2.392],\n",
       "             [  8.962],\n",
       "             [ -1.211],\n",
       "             [  5.782],\n",
       "             [  5.439],\n",
       "             [ -7.601],\n",
       "             [ -3.636],\n",
       "             [  9.782],\n",
       "             [ -2.449],\n",
       "             [  1.446],\n",
       "             [  5.824],\n",
       "             [  2.716],\n",
       "             [ -2.763],\n",
       "             [ -2.679],\n",
       "             [ -0.823],\n",
       "             [ -2.551],\n",
       "             [ -0.973],\n",
       "             [  1.604],\n",
       "             [ -0.038],\n",
       "             [ -6.269],\n",
       "             [  1.783],\n",
       "             [ -8.264],\n",
       "             [  7.492],\n",
       "             [  2.865],\n",
       "             [ -8.919],\n",
       "             [ -0.806],\n",
       "             [  4.758],\n",
       "             [  0.661],\n",
       "             [  7.026],\n",
       "             [ -7.588],\n",
       "             [  2.464],\n",
       "             [ -5.118],\n",
       "             [  4.314],\n",
       "             [  6.339],\n",
       "             [ -6.257],\n",
       "             [ -0.145],\n",
       "             [ -2.194],\n",
       "             [  4.219],\n",
       "             [ -5.274],\n",
       "             [ -1.806],\n",
       "             [  8.641],\n",
       "             [ -4.184],\n",
       "             [  1.186],\n",
       "             [ -6.93 ],\n",
       "             [ -3.076],\n",
       "             [ -0.815],\n",
       "             [  1.159],\n",
       "             [  6.644],\n",
       "             [ -2.535],\n",
       "             [  5.31 ],\n",
       "             [ -1.076],\n",
       "             [ -4.039],\n",
       "             [ -3.837],\n",
       "             [ -1.392],\n",
       "             [  8.047],\n",
       "             [ -6.621],\n",
       "             [ -0.748],\n",
       "             [ -4.925],\n",
       "             [ -4.846],\n",
       "             [  6.243],\n",
       "             [  5.936],\n",
       "             [ -0.624],\n",
       "             [ -2.506],\n",
       "             [  2.226],\n",
       "             [  2.69 ],\n",
       "             [ -5.061],\n",
       "             [  4.713],\n",
       "             [ -0.145],\n",
       "             [ -2.062],\n",
       "             [  2.581],\n",
       "             [  1.755],\n",
       "             [ -6.105],\n",
       "             [ -5.969],\n",
       "             [ -7.827],\n",
       "             [  8.826],\n",
       "             [  9.413],\n",
       "             [  7.409],\n",
       "             [ -4.208],\n",
       "             [  4.911],\n",
       "             [ -0.048],\n",
       "             [ -7.273],\n",
       "             [ -4.293],\n",
       "             [ -2.287],\n",
       "             [  3.156],\n",
       "             [  3.209],\n",
       "             [ -3.668],\n",
       "             [ -8.853],\n",
       "             [ -3.725],\n",
       "             [  5.799],\n",
       "             [  6.363],\n",
       "             [ -5.533],\n",
       "             [  5.134],\n",
       "             [  1.762],\n",
       "             [ -8.738],\n",
       "             [  1.543],\n",
       "             [ -7.586],\n",
       "             [  6.933],\n",
       "             [ -8.389],\n",
       "             [  4.827],\n",
       "             [  2.32 ],\n",
       "             [ -3.422],\n",
       "             [  9.966],\n",
       "             [  1.188],\n",
       "             [  5.434],\n",
       "             [ -3.206],\n",
       "             [  3.193],\n",
       "             [ -1.738],\n",
       "             [ -1.885],\n",
       "             [ -1.236],\n",
       "             [  5.831],\n",
       "             [ -1.58 ],\n",
       "             [  3.418],\n",
       "             [  7.912],\n",
       "             [  3.856],\n",
       "             [ -4.995],\n",
       "             [ -4.039],\n",
       "             [ -8.692],\n",
       "             [ -4.974],\n",
       "             [  7.718],\n",
       "             [  7.448],\n",
       "             [  6.568],\n",
       "             [  1.555],\n",
       "             [ -8.983],\n",
       "             [  8.968],\n",
       "             [  8.006],\n",
       "             [ -3.56 ],\n",
       "             [ -4.846],\n",
       "             [  1.248],\n",
       "             [  8.395],\n",
       "             [  7.499],\n",
       "             [ -4.359],\n",
       "             [ -4.8  ],\n",
       "             [ -0.333],\n",
       "             [  5.085],\n",
       "             [  0.322],\n",
       "             [  7.922],\n",
       "             [  6.015],\n",
       "             [  6.203],\n",
       "             [ -4.618],\n",
       "             [ -5.97 ],\n",
       "             [ -1.758],\n",
       "             [ -4.688],\n",
       "             [  5.04 ],\n",
       "             [ -2.688],\n",
       "             [  8.626],\n",
       "             [ -2.724],\n",
       "             [ -6.165],\n",
       "             [  0.037],\n",
       "             [  7.213],\n",
       "             [ -5.171],\n",
       "             [  2.255],\n",
       "             [  4.64 ],\n",
       "             [  1.499],\n",
       "             [ -3.275],\n",
       "             [  2.437],\n",
       "             [ -0.091],\n",
       "             [  7.789],\n",
       "             [  7.736],\n",
       "             [  1.924],\n",
       "             [  4.118],\n",
       "             [  0.234],\n",
       "             [  6.683],\n",
       "             [  0.491],\n",
       "             [ -0.156],\n",
       "             [  6.178],\n",
       "             [  4.28 ],\n",
       "             [ -6.125],\n",
       "             [ -2.04 ],\n",
       "             [  7.87 ],\n",
       "             [  8.309],\n",
       "             [  1.053],\n",
       "             [ -6.856],\n",
       "             [ -1.402],\n",
       "             [ -6.931],\n",
       "             [ -8.905],\n",
       "             [  1.092],\n",
       "             [  3.283],\n",
       "             [ -3.825],\n",
       "             [  8.796],\n",
       "             [  1.029],\n",
       "             [  4.871],\n",
       "             [  3.648],\n",
       "             [ -2.957],\n",
       "             [ -6.791],\n",
       "             [  6.897],\n",
       "             [ -7.962],\n",
       "             [  5.057],\n",
       "             [  5.062],\n",
       "             [ -5.538],\n",
       "             [  6.023],\n",
       "             [  3.002],\n",
       "             [ -0.071],\n",
       "             [ -1.414],\n",
       "             [  2.463],\n",
       "             [ -3.037],\n",
       "             [  5.594],\n",
       "             [  8.808],\n",
       "             [ -7.574],\n",
       "             [ -6.509],\n",
       "             [  2.629],\n",
       "             [ -0.743],\n",
       "             [  2.93 ],\n",
       "             [ -1.466],\n",
       "             [ -7.739],\n",
       "             [  3.667],\n",
       "             [  2.894],\n",
       "             [ -3.88 ],\n",
       "             [  2.497],\n",
       "             [  1.707],\n",
       "             [  7.163],\n",
       "             [  4.784],\n",
       "             [ -8.372],\n",
       "             [  2.572],\n",
       "             [ -0.318],\n",
       "             [  0.649],\n",
       "             [ -5.17 ],\n",
       "             [  2.051],\n",
       "             [ -0.784],\n",
       "             [ -3.812],\n",
       "             [ -1.056],\n",
       "             [  3.381],\n",
       "             [  7.332],\n",
       "             [  8.399],\n",
       "             [  6.578],\n",
       "             [  4.638],\n",
       "             [  7.228],\n",
       "             [  1.069],\n",
       "             [  6.181],\n",
       "             [ -6.437],\n",
       "             [  2.147],\n",
       "             [  6.982],\n",
       "             [ -2.712],\n",
       "             [ -8.892],\n",
       "             [  5.046],\n",
       "             [ -2.689],\n",
       "             [  1.363],\n",
       "             [ -6.128],\n",
       "             [ -9.473],\n",
       "             [  5.143],\n",
       "             [ -6.929],\n",
       "             [ -7.511],\n",
       "             [  2.54 ],\n",
       "             [  5.562],\n",
       "             [ -7.864],\n",
       "             [  5.346],\n",
       "             [  5.35 ],\n",
       "             [ -3.989],\n",
       "             [  3.69 ],\n",
       "             [ -0.008],\n",
       "             [  6.935],\n",
       "             [ -0.251],\n",
       "             [  9.794],\n",
       "             [ -7.594],\n",
       "             [  1.847],\n",
       "             [  6.03 ],\n",
       "             [ -6.929],\n",
       "             [  7.033],\n",
       "             [  9.315],\n",
       "             [  4.683],\n",
       "             [ -0.683],\n",
       "             [  7.185],\n",
       "             [  2.741],\n",
       "             [  4.363],\n",
       "             [ 10.051],\n",
       "             [  6.043],\n",
       "             [  5.05 ],\n",
       "             [  6.869],\n",
       "             [  6.376],\n",
       "             [ -7.04 ],\n",
       "             [  9.713],\n",
       "             [ -2.625],\n",
       "             [ -7.963],\n",
       "             [  3.854],\n",
       "             [ -6.153],\n",
       "             [  5.466],\n",
       "             [  3.04 ],\n",
       "             [ -1.429],\n",
       "             [ -4.705],\n",
       "             [ -7.203],\n",
       "             [ -5.379],\n",
       "             [ -7.401],\n",
       "             [ -9.866],\n",
       "             [  7.181],\n",
       "             [  1.24 ],\n",
       "             [ -9.132],\n",
       "             [ -6.418],\n",
       "             [ -2.292],\n",
       "             [ -6.471],\n",
       "             [  0.353],\n",
       "             [  4.076],\n",
       "             [  5.09 ],\n",
       "             [  3.113],\n",
       "             [  9.954],\n",
       "             [  2.044],\n",
       "             [ -2.415],\n",
       "             [ -3.409],\n",
       "             [ -6.955],\n",
       "             [  6.336],\n",
       "             [  3.042],\n",
       "             [  4.579],\n",
       "             [  5.78 ],\n",
       "             [ -7.091],\n",
       "             [  0.428],\n",
       "             [ -7.55 ],\n",
       "             [ -5.097],\n",
       "             [ -8.561],\n",
       "             [ -2.953],\n",
       "             [ -0.023],\n",
       "             [ -7.075],\n",
       "             [ -1.347],\n",
       "             [  5.862],\n",
       "             [ -2.002],\n",
       "             [  9.13 ],\n",
       "             [ -3.748],\n",
       "             [ -0.066],\n",
       "             [ -1.433],\n",
       "             [  6.92 ],\n",
       "             [  8.893],\n",
       "             [ -5.192],\n",
       "             [ -0.511],\n",
       "             [  7.879],\n",
       "             [  2.723],\n",
       "             [  5.72 ],\n",
       "             [  9.476],\n",
       "             [  7.958],\n",
       "             [  4.567],\n",
       "             [  6.984],\n",
       "             [  3.147],\n",
       "             [  2.692],\n",
       "             [  3.801],\n",
       "             [  6.473],\n",
       "             [  6.562],\n",
       "             [  8.976],\n",
       "             [  3.789],\n",
       "             [ -1.613],\n",
       "             [  3.258],\n",
       "             [ -3.959],\n",
       "             [ -6.16 ],\n",
       "             [ -7.512],\n",
       "             [  2.223],\n",
       "             [  4.401],\n",
       "             [ -0.707],\n",
       "             [ -9.218],\n",
       "             [ -1.917],\n",
       "             [  6.842],\n",
       "             [ -3.218],\n",
       "             [ -6.134],\n",
       "             [  8.803],\n",
       "             [  4.338],\n",
       "             [ -0.98 ],\n",
       "             [  4.203],\n",
       "             [  1.99 ],\n",
       "             [  4.268],\n",
       "             [ -6.942],\n",
       "             [  6.278],\n",
       "             [  2.671],\n",
       "             [  7.654],\n",
       "             [ -4.24 ],\n",
       "             [ -7.888],\n",
       "             [  7.747],\n",
       "             [ -3.422],\n",
       "             [  2.702],\n",
       "             [  9.339],\n",
       "             [  2.324],\n",
       "             [ -0.576],\n",
       "             [ -3.962],\n",
       "             [ -2.056],\n",
       "             [  7.527],\n",
       "             [ -5.537],\n",
       "             [ -3.824],\n",
       "             [ -5.231],\n",
       "             [ -7.683],\n",
       "             [  4.919],\n",
       "             [  1.771],\n",
       "             [ -3.729],\n",
       "             [  8.026],\n",
       "             [ -0.24 ],\n",
       "             [ -1.707],\n",
       "             [ -0.558],\n",
       "             [  3.069],\n",
       "             [ -2.322],\n",
       "             [  5.854],\n",
       "             [ -0.445],\n",
       "             [ -1.58 ],\n",
       "             [ -6.986],\n",
       "             [ -0.163],\n",
       "             [ -3.759],\n",
       "             [  7.962],\n",
       "             [ -4.393],\n",
       "             [  4.726],\n",
       "             [ -6.069],\n",
       "             [  5.21 ],\n",
       "             [ -5.563],\n",
       "             [  2.991],\n",
       "             [ -2.948],\n",
       "             [  0.378],\n",
       "             [ -9.054],\n",
       "             [ -9.468],\n",
       "             [ -7.449],\n",
       "             [  7.833],\n",
       "             [  2.42 ],\n",
       "             [  3.943],\n",
       "             [  7.196],\n",
       "             [  6.325],\n",
       "             [ -3.829],\n",
       "             [  1.699],\n",
       "             [ -7.394],\n",
       "             [  1.146],\n",
       "             [  4.572],\n",
       "             [ -6.493],\n",
       "             [ -6.672],\n",
       "             [ -4.446],\n",
       "             [  2.752],\n",
       "             [  3.927],\n",
       "             [ -2.539],\n",
       "             [ -6.806],\n",
       "             [  7.126],\n",
       "             [ -9.521],\n",
       "             [ -0.276],\n",
       "             [ -7.696],\n",
       "             [ -0.5  ],\n",
       "             [ -1.685],\n",
       "             [ -7.638],\n",
       "             [ -2.43 ],\n",
       "             [  7.557],\n",
       "             [  0.222],\n",
       "             [  0.166],\n",
       "             [  8.015],\n",
       "             [  9.487],\n",
       "             [  7.624],\n",
       "             [  0.854],\n",
       "             [ -4.141],\n",
       "             [  3.731],\n",
       "             [  8.684],\n",
       "             [ -1.131],\n",
       "             [ -0.312],\n",
       "             [ -1.418],\n",
       "             [ -8.476],\n",
       "             [  3.256],\n",
       "             [ -5.616],\n",
       "             [  0.323],\n",
       "             [  5.152],\n",
       "             [ -2.088],\n",
       "             [ -7.205],\n",
       "             [ -3.292],\n",
       "             [  2.249],\n",
       "             [ -4.725],\n",
       "             [  1.347],\n",
       "             [ -7.745],\n",
       "             [  6.084],\n",
       "             [ -6.5  ],\n",
       "             [ -3.135],\n",
       "             [ -5.685],\n",
       "             [ -1.866],\n",
       "             [ -5.964],\n",
       "             [  2.468],\n",
       "             [ -8.016],\n",
       "             [  2.01 ],\n",
       "             [ -2.041],\n",
       "             [ -2.359],\n",
       "             [  0.775],\n",
       "             [ -5.729],\n",
       "             [  6.205],\n",
       "             [ -2.066],\n",
       "             [  8.203],\n",
       "             [ -3.852],\n",
       "             [ -6.359],\n",
       "             [  2.441],\n",
       "             [  5.34 ],\n",
       "             [ -4.549],\n",
       "             [ -4.001],\n",
       "             [  1.933],\n",
       "             [ -9.53 ],\n",
       "             [  6.842],\n",
       "             [ -8.556],\n",
       "             [  8.622],\n",
       "             [  4.531],\n",
       "             [  0.935],\n",
       "             [ -0.017],\n",
       "             [  6.401],\n",
       "             [  3.02 ],\n",
       "             [  3.96 ],\n",
       "             [  8.149],\n",
       "             [  4.43 ],\n",
       "             [ -6.464],\n",
       "             [ -3.225],\n",
       "             [ -2.602],\n",
       "             [  3.687],\n",
       "             [  0.869],\n",
       "             [ -6.033],\n",
       "             [ -4.195],\n",
       "             [  3.46 ],\n",
       "             [ -3.087],\n",
       "             [  6.718],\n",
       "             [ -8.149],\n",
       "             [ -0.321],\n",
       "             [  6.982],\n",
       "             [ -3.629],\n",
       "             [ -2.234],\n",
       "             [ -8.486],\n",
       "             [  6.027],\n",
       "             [  1.58 ],\n",
       "             [ -8.617],\n",
       "             [  7.222],\n",
       "             [  2.581],\n",
       "             [ -7.03 ],\n",
       "             [  9.133],\n",
       "             [  2.262],\n",
       "             [ -0.344],\n",
       "             [  5.717],\n",
       "             [ -1.643],\n",
       "             [  6.335],\n",
       "             [ -3.818],\n",
       "             [ -3.31 ],\n",
       "             [  2.074],\n",
       "             [ -7.576],\n",
       "             [  7.226],\n",
       "             [ -5.416],\n",
       "             [  8.811],\n",
       "             [  2.296],\n",
       "             [  3.522],\n",
       "             [ -8.529],\n",
       "             [ -6.874],\n",
       "             [ -6.42 ],\n",
       "             [ -3.142],\n",
       "             [  7.297],\n",
       "             [  7.36 ],\n",
       "             [  2.571],\n",
       "             [  0.897],\n",
       "             [ -5.951],\n",
       "             [  3.215],\n",
       "             [ -2.256],\n",
       "             [ -0.506],\n",
       "             [ -5.546],\n",
       "             [ -3.017],\n",
       "             [  8.119],\n",
       "             [  2.196],\n",
       "             [ -8.91 ],\n",
       "             [  0.681],\n",
       "             [ -3.068],\n",
       "             [ -9.876],\n",
       "             [ -9.086],\n",
       "             [ -7.266],\n",
       "             [  4.829],\n",
       "             [  7.712],\n",
       "             [  8.266],\n",
       "             [  3.188],\n",
       "             [  2.865],\n",
       "             [  6.754],\n",
       "             [  0.632],\n",
       "             [  1.633],\n",
       "             [ -4.806],\n",
       "             [ -3.899],\n",
       "             [ -2.729],\n",
       "             [  5.173],\n",
       "             [ -0.084],\n",
       "             [ -0.541],\n",
       "             [  2.015],\n",
       "             [ -0.815],\n",
       "             [ -6.573],\n",
       "             [  7.752],\n",
       "             [  0.981],\n",
       "             [ -1.321],\n",
       "             [-10.117],\n",
       "             [  0.362],\n",
       "             [ -2.075],\n",
       "             [ -7.065],\n",
       "             [ -6.355],\n",
       "             [  3.112],\n",
       "             [  0.856],\n",
       "             [  7.782],\n",
       "             [ -5.14 ],\n",
       "             [ -3.713],\n",
       "             [ -6.101],\n",
       "             [  8.179],\n",
       "             [ -1.359],\n",
       "             [  0.274],\n",
       "             [ -0.141],\n",
       "             [  1.879],\n",
       "             [ -7.042],\n",
       "             [ -8.341],\n",
       "             [ -5.836],\n",
       "             [-10.082],\n",
       "             [ -1.018],\n",
       "             [ -6.51 ],\n",
       "             [ -9.146],\n",
       "             [ -6.937],\n",
       "             [  3.389],\n",
       "             [ -7.011],\n",
       "             [ -8.641],\n",
       "             [ -7.42 ],\n",
       "             [  5.959],\n",
       "             [  2.636],\n",
       "             [ -4.093],\n",
       "             [  5.508],\n",
       "             [  0.399],\n",
       "             [  2.201],\n",
       "             [  7.911],\n",
       "             [ -6.741],\n",
       "             [ -3.564],\n",
       "             [  4.825],\n",
       "             [ -2.02 ],\n",
       "             [ -2.334],\n",
       "             [  9.232],\n",
       "             [ -6.652],\n",
       "             [ -2.231],\n",
       "             [  5.947],\n",
       "             [  1.522],\n",
       "             [ -6.989],\n",
       "             [  3.026],\n",
       "             [ -2.531],\n",
       "             [ -8.521],\n",
       "             [  9.667],\n",
       "             [  1.299],\n",
       "             [  6.195],\n",
       "             [ -2.99 ],\n",
       "             [  9.146],\n",
       "             [  8.411],\n",
       "             [ -4.171],\n",
       "             [ -2.038],\n",
       "             [  1.92 ],\n",
       "             [  8.389],\n",
       "             [  2.093],\n",
       "             [  1.085],\n",
       "             [  3.391],\n",
       "             [  8.452],\n",
       "             [ -4.366],\n",
       "             [  4.415],\n",
       "             [  2.316],\n",
       "             [  7.083],\n",
       "             [  0.777],\n",
       "             [ -8.717],\n",
       "             [  5.772],\n",
       "             [  2.01 ],\n",
       "             [  5.822],\n",
       "             [ -9.371],\n",
       "             [  3.965],\n",
       "             [ -0.914],\n",
       "             [  2.864],\n",
       "             [ -9.838],\n",
       "             [  4.669],\n",
       "             [  0.509],\n",
       "             [ -4.73 ],\n",
       "             [  5.536],\n",
       "             [ -2.065],\n",
       "             [  3.111],\n",
       "             [  1.362],\n",
       "             [ -4.41 ],\n",
       "             [ -7.207],\n",
       "             [  1.027],\n",
       "             [ -2.458],\n",
       "             [ -0.794],\n",
       "             [ -4.021],\n",
       "             [  1.411],\n",
       "             [  3.105],\n",
       "             [ -5.279],\n",
       "             [  8.77 ],\n",
       "             [ -8.286],\n",
       "             [  1.135],\n",
       "             [ -5.869],\n",
       "             [ -9.344],\n",
       "             [  6.577],\n",
       "             [ -8.563],\n",
       "             [ -4.375],\n",
       "             [  3.824],\n",
       "             [  0.357],\n",
       "             [ -3.585],\n",
       "             [ -8.851],\n",
       "             [  7.269],\n",
       "             [  2.382],\n",
       "             [ -8.805],\n",
       "             [ -1.994],\n",
       "             [  0.171],\n",
       "             [ -9.63 ],\n",
       "             [ -0.175],\n",
       "             [  7.294],\n",
       "             [ -8.598],\n",
       "             [ -6.227],\n",
       "             [ -5.991],\n",
       "             [ -5.929],\n",
       "             [  2.984],\n",
       "             [ -5.837],\n",
       "             [ -3.752],\n",
       "             [  7.194],\n",
       "             [  8.686],\n",
       "             [  7.808],\n",
       "             [ -7.367],\n",
       "             [  4.101],\n",
       "             [  0.036],\n",
       "             [ -1.646],\n",
       "             [ -6.721],\n",
       "             [ -6.896],\n",
       "             [ -0.353],\n",
       "             [  0.654],\n",
       "             [  4.292],\n",
       "             [ -6.491],\n",
       "             [  3.809],\n",
       "             [  0.291],\n",
       "             [ -1.062],\n",
       "             [  5.523],\n",
       "             [  1.183],\n",
       "             [  8.214],\n",
       "             [  9.71 ],\n",
       "             [  7.413],\n",
       "             [ -4.187],\n",
       "             [  1.435],\n",
       "             [  6.819],\n",
       "             [ -6.416],\n",
       "             [  3.914],\n",
       "             [  2.494],\n",
       "             [  7.923],\n",
       "             [ -1.299],\n",
       "             [ -2.06 ],\n",
       "             [ -1.056],\n",
       "             [ -1.416],\n",
       "             [  4.698],\n",
       "             [  5.384],\n",
       "             [  5.283],\n",
       "             [ -7.275],\n",
       "             [ -6.248],\n",
       "             [  4.569],\n",
       "             [  0.808],\n",
       "             [  8.827],\n",
       "             [ -6.003],\n",
       "             [ -5.714],\n",
       "             [ -6.301],\n",
       "             [ -4.177],\n",
       "             [  8.531],\n",
       "             [  5.38 ],\n",
       "             [  1.852],\n",
       "             [  7.385],\n",
       "             [  6.608],\n",
       "             [  4.633],\n",
       "             [  5.095],\n",
       "             [  3.611],\n",
       "             [ -4.511],\n",
       "             [ -4.555],\n",
       "             [  3.96 ],\n",
       "             [  0.37 ],\n",
       "             [ -6.166],\n",
       "             [ -3.986],\n",
       "             [ -8.001],\n",
       "             [  3.497],\n",
       "             [  2.958],\n",
       "             [ -7.443],\n",
       "             [  5.449],\n",
       "             [  1.884],\n",
       "             [ -1.95 ],\n",
       "             [ -3.104],\n",
       "             [  3.29 ],\n",
       "             [  9.218],\n",
       "             [  0.134],\n",
       "             [  9.289],\n",
       "             [  3.088],\n",
       "             [  9.22 ],\n",
       "             [ -1.102],\n",
       "             [  7.114],\n",
       "             [  7.332],\n",
       "             [ -4.78 ],\n",
       "             [ -4.789],\n",
       "             [ -1.406],\n",
       "             [ -8.371],\n",
       "             [  3.136],\n",
       "             [ -6.339],\n",
       "             [ -5.287],\n",
       "             [ -8.409],\n",
       "             [ -8.099],\n",
       "             [  4.405],\n",
       "             [  1.449],\n",
       "             [  8.385],\n",
       "             [ -0.228],\n",
       "             [ -7.237],\n",
       "             [ -7.251],\n",
       "             [ -1.625],\n",
       "             [ -8.32 ],\n",
       "             [  4.271],\n",
       "             [  8.069],\n",
       "             [ -8.928],\n",
       "             [  0.474],\n",
       "             [ -4.349],\n",
       "             [ -1.723],\n",
       "             [ -7.838],\n",
       "             [ -5.816],\n",
       "             [  7.519],\n",
       "             [ -0.705],\n",
       "             [  7.29 ],\n",
       "             [ -4.77 ],\n",
       "             [ -5.433],\n",
       "             [  8.902],\n",
       "             [ -8.279],\n",
       "             [ -4.553],\n",
       "             [  4.183],\n",
       "             [  4.488],\n",
       "             [  7.65 ],\n",
       "             [  0.027],\n",
       "             [  8.34 ],\n",
       "             [  3.499],\n",
       "             [  1.997],\n",
       "             [ -2.807],\n",
       "             [  7.884],\n",
       "             [ -7.719],\n",
       "             [ -9.289],\n",
       "             [ -5.577],\n",
       "             [  2.187],\n",
       "             [ -1.356],\n",
       "             [ -1.105],\n",
       "             [ -6.493],\n",
       "             [  6.902],\n",
       "             [  7.097],\n",
       "             [ -0.122],\n",
       "             [  3.99 ],\n",
       "             [  0.22 ],\n",
       "             [  3.088],\n",
       "             [ -7.954],\n",
       "             [  3.481],\n",
       "             [  8.89 ],\n",
       "             [  1.681],\n",
       "             [ -8.21 ],\n",
       "             [  6.653],\n",
       "             [ -2.775],\n",
       "             [ -9.54 ],\n",
       "             [ -2.313],\n",
       "             [ -0.397],\n",
       "             [  3.242],\n",
       "             [ -6.555],\n",
       "             [ -3.877],\n",
       "             [  8.209],\n",
       "             [  7.993],\n",
       "             [  1.803],\n",
       "             [  1.083],\n",
       "             [ -4.837],\n",
       "             [  5.407],\n",
       "             [ -2.98 ],\n",
       "             [  4.108],\n",
       "             [ -2.134],\n",
       "             [ -0.745],\n",
       "             [ -2.306],\n",
       "             [ -0.783],\n",
       "             [ -8.844],\n",
       "             [  9.263],\n",
       "             [  2.572],\n",
       "             [  4.75 ],\n",
       "             [  0.134],\n",
       "             [  0.921],\n",
       "             [  6.596],\n",
       "             [  2.381],\n",
       "             [  6.433],\n",
       "             [  1.261],\n",
       "             [ -2.905],\n",
       "             [ -0.642],\n",
       "             [ -4.297],\n",
       "             [  6.947],\n",
       "             [  6.93 ],\n",
       "             [  1.005],\n",
       "             [  7.837],\n",
       "             [  7.704],\n",
       "             [  7.693],\n",
       "             [  2.565],\n",
       "             [ -6.522],\n",
       "             [ -5.571],\n",
       "             [  0.733],\n",
       "             [ -3.8  ],\n",
       "             [  4.102],\n",
       "             [  7.27 ],\n",
       "             [  2.2  ],\n",
       "             [ -7.33 ],\n",
       "             [ -7.644],\n",
       "             [  4.225],\n",
       "             [ -3.894],\n",
       "             [ -1.434],\n",
       "             [ -3.31 ],\n",
       "             [ -2.871],\n",
       "             [ -1.499],\n",
       "             [  0.013],\n",
       "             [ -2.604],\n",
       "             [  4.649],\n",
       "             [ -1.537],\n",
       "             [ -5.095],\n",
       "             [ -8.355],\n",
       "             [ -1.267],\n",
       "             [ -7.148],\n",
       "             [  5.487],\n",
       "             [ -9.021],\n",
       "             [ -6.59 ],\n",
       "             [  1.829],\n",
       "             [ -6.281]], dtype=float32)"
      ]
     },
     "execution_count": 32,
     "metadata": {},
     "output_type": "execute_result"
    }
   ],
   "source": [
    "np.dot(X, beta)"
   ]
  },
  {
   "cell_type": "markdown",
   "id": "44485e79",
   "metadata": {},
   "source": [
    "## optimize for hyperparameter choice"
   ]
  },
  {
   "cell_type": "code",
   "execution_count": 33,
   "id": "65fabf36",
   "metadata": {},
   "outputs": [],
   "source": [
    "# beta: np.ndarray, neta: np.ndarray,  lam: np.ndarray, lu: np.ndarray\n",
    "beta = np.array(1.0) # mse\n",
    "neta = np.array(1.0) # indep zs\n",
    "lam = np.array(0.01) # krr\n",
    "nu = np.array(1.0) # z norm\n",
    "lu = np.array(0.0) # hsic(xy, zc)\n",
    "pars = (beta, neta, lam, nu, lu)  \n"
   ]
  },
  {
   "cell_type": "code",
   "execution_count": 34,
   "id": "7612b4aa",
   "metadata": {},
   "outputs": [],
   "source": [
    "# read file\n",
    "import pandas as pd\n",
    "#folder = \"/home/emiliano/Documents/ISP/postdoc/discoveringLatentConfounders/data/data_to_try/13:45:44_14092023/\"\n",
    "#file = \"5_exponential1gaussian1_dependent_10_1_100.csv\"\n",
    "folder = \"/home/emiliano/Documents/ISP/postdoc/discoveringLatentConfounders/data/data_noisyproxy2/\"\n",
    "file = \"rep1_gaussian1exponential1_independent_20_1_50_50.csv\"\n",
    "file = \"rep47_gaussian1uniform1_independent_20_1_1000_1000.csv\""
   ]
  },
  {
   "cell_type": "code",
   "execution_count": 35,
   "id": "4e3ef02f",
   "metadata": {},
   "outputs": [
    {
     "data": {
      "text/plain": [
       "['rep5_gaussian1uniform1_independent_20_1_1000_500.csv',\n",
       " 'rep25_gaussian1uniform1_independent_20_1_1000_10.csv',\n",
       " 'rep55_gaussian1gaussian1_independent_20_1_1000_500.csv',\n",
       " 'rep24_gaussian1gaussian1_independent_20_1_1000_10.csv',\n",
       " 'rep62_gaussian1uniform1_independent_20_1_1000_10.csv',\n",
       " 'rep70_gaussian1uniform1_independent_20_1_1000_100.csv',\n",
       " 'rep28_gaussian1gaussian1_independent_20_1_1000_500.csv',\n",
       " 'rep47_gaussian1uniform1_independent_20_1_1000_500.csv',\n",
       " 'rep21_gaussian1exponential1_independent_20_1_1000_100.csv',\n",
       " 'rep54_gaussian1gaussian1_independent_20_1_1000_1000.csv',\n",
       " 'rep65_gaussian1exponential1_independent_20_1_1000_10.csv',\n",
       " 'rep70_gaussian1exponential1_independent_20_1_1000_100.csv',\n",
       " 'rep46_gaussian1exponential1_independent_20_1_1000_100.csv',\n",
       " 'rep84_gaussian1uniform1_independent_20_1_1000_10.csv',\n",
       " 'rep30_gaussian1exponential1_independent_20_1_1000_1000.csv',\n",
       " 'rep32_gaussian1exponential1_independent_20_1_1000_500.csv',\n",
       " 'rep16_gaussian1uniform1_independent_20_1_1000_100.csv',\n",
       " 'rep100_gaussian1gaussian1_independent_20_1_1000_1000.csv',\n",
       " 'rep46_gaussian1gaussian1_independent_20_1_1000_50.csv',\n",
       " 'rep48_gaussian1gaussian1_independent_20_1_1000_1000.csv',\n",
       " 'rep66_gaussian1gaussian1_independent_20_1_1000_10.csv',\n",
       " 'rep71_gaussian1gaussian1_independent_20_1_1000_1000.csv',\n",
       " 'rep36_gaussian1uniform1_independent_20_1_1000_1000.csv',\n",
       " 'rep16_gaussian1gaussian1_independent_20_1_1000_10.csv',\n",
       " 'rep89_gaussian1exponential1_independent_20_1_1000_1000.csv',\n",
       " 'rep56_gaussian1uniform1_independent_20_1_1000_50.csv',\n",
       " 'rep67_gaussian1exponential1_independent_20_1_1000_50.csv',\n",
       " 'rep88_gaussian1exponential1_independent_20_1_1000_500.csv',\n",
       " 'rep22_gaussian1uniform1_independent_20_1_1000_50.csv',\n",
       " 'rep74_gaussian1exponential1_independent_20_1_1000_1000.csv',\n",
       " 'rep19_gaussian1gaussian1_independent_20_1_1000_100.csv',\n",
       " 'rep57_gaussian1gaussian1_independent_20_1_1000_1000.csv',\n",
       " 'rep85_gaussian1gaussian1_independent_20_1_1000_10.csv',\n",
       " 'rep15_gaussian1gaussian1_independent_20_1_1000_50.csv',\n",
       " 'rep69_gaussian1uniform1_independent_20_1_1000_10.csv',\n",
       " 'rep34_gaussian1exponential1_independent_20_1_1000_500.csv',\n",
       " 'rep4_gaussian1exponential1_independent_20_1_1000_50.csv',\n",
       " 'rep100_gaussian1gaussian1_independent_20_1_1000_100.csv',\n",
       " 'rep100_gaussian1gaussian1_independent_20_1_1000_500.csv',\n",
       " 'rep36_gaussian1uniform1_independent_20_1_1000_100.csv',\n",
       " 'rep29_gaussian1gaussian1_independent_20_1_1000_50.csv',\n",
       " 'rep81_gaussian1exponential1_independent_20_1_1000_1000.csv',\n",
       " 'rep94_gaussian1uniform1_independent_20_1_1000_1000.csv',\n",
       " 'rep18_gaussian1exponential1_independent_20_1_1000_100.csv',\n",
       " 'rep68_gaussian1uniform1_independent_20_1_1000_1000.csv',\n",
       " 'rep53_gaussian1gaussian1_independent_20_1_1000_100.csv',\n",
       " 'rep28_gaussian1gaussian1_independent_20_1_1000_50.csv',\n",
       " 'rep52_gaussian1gaussian1_independent_20_1_1000_500.csv',\n",
       " 'rep43_gaussian1exponential1_independent_20_1_1000_50.csv',\n",
       " 'rep5_gaussian1gaussian1_independent_20_1_1000_100.csv',\n",
       " 'rep2_gaussian1gaussian1_independent_20_1_1000_1000.csv',\n",
       " 'rep98_gaussian1exponential1_independent_20_1_1000_500.csv',\n",
       " 'rep57_gaussian1gaussian1_independent_20_1_1000_50.csv',\n",
       " 'rep55_gaussian1gaussian1_independent_20_1_1000_10.csv',\n",
       " 'rep61_gaussian1uniform1_independent_20_1_1000_50.csv',\n",
       " 'rep4_gaussian1uniform1_independent_20_1_1000_1000.csv',\n",
       " 'rep72_gaussian1gaussian1_independent_20_1_1000_100.csv',\n",
       " 'rep93_gaussian1exponential1_independent_20_1_1000_1000.csv',\n",
       " 'rep40_gaussian1exponential1_independent_20_1_1000_50.csv',\n",
       " 'rep93_gaussian1exponential1_independent_20_1_1000_100.csv',\n",
       " 'rep20_gaussian1uniform1_independent_20_1_1000_1000.csv',\n",
       " 'rep70_gaussian1gaussian1_independent_20_1_1000_50.csv',\n",
       " 'rep42_gaussian1uniform1_independent_20_1_1000_50.csv',\n",
       " 'rep92_gaussian1uniform1_independent_20_1_1000_10.csv',\n",
       " 'rep97_gaussian1uniform1_independent_20_1_1000_100.csv',\n",
       " 'rep9_gaussian1exponential1_independent_20_1_1000_10.csv',\n",
       " 'rep41_gaussian1gaussian1_independent_20_1_1000_100.csv',\n",
       " 'rep24_gaussian1exponential1_independent_20_1_1000_500.csv',\n",
       " 'rep39_gaussian1uniform1_independent_20_1_1000_1000.csv',\n",
       " 'rep62_gaussian1exponential1_independent_20_1_1000_1000.csv',\n",
       " 'rep75_gaussian1gaussian1_independent_20_1_1000_100.csv',\n",
       " 'rep55_gaussian1uniform1_independent_20_1_1000_10.csv',\n",
       " 'rep74_gaussian1uniform1_independent_20_1_1000_10.csv',\n",
       " 'rep14_gaussian1gaussian1_independent_20_1_1000_10.csv',\n",
       " 'rep92_gaussian1gaussian1_independent_20_1_1000_100.csv',\n",
       " 'rep25_gaussian1exponential1_independent_20_1_1000_100.csv',\n",
       " 'rep94_gaussian1exponential1_independent_20_1_1000_500.csv',\n",
       " 'rep67_gaussian1gaussian1_independent_20_1_1000_50.csv',\n",
       " 'rep34_gaussian1exponential1_independent_20_1_1000_50.csv',\n",
       " 'rep95_gaussian1gaussian1_independent_20_1_1000_100.csv',\n",
       " 'rep90_gaussian1uniform1_independent_20_1_1000_500.csv',\n",
       " 'rep27_gaussian1uniform1_independent_20_1_1000_50.csv',\n",
       " 'rep85_gaussian1exponential1_independent_20_1_1000_50.csv',\n",
       " 'rep13_gaussian1exponential1_independent_20_1_1000_500.csv',\n",
       " 'rep41_gaussian1exponential1_independent_20_1_1000_10.csv',\n",
       " 'rep17_gaussian1exponential1_independent_20_1_1000_1000.csv',\n",
       " 'rep89_gaussian1gaussian1_independent_20_1_1000_500.csv',\n",
       " 'rep86_gaussian1uniform1_independent_20_1_1000_50.csv',\n",
       " 'rep59_gaussian1exponential1_independent_20_1_1000_500.csv',\n",
       " 'rep71_gaussian1exponential1_independent_20_1_1000_500.csv',\n",
       " 'rep35_gaussian1gaussian1_independent_20_1_1000_50.csv',\n",
       " 'rep32_gaussian1uniform1_independent_20_1_1000_100.csv',\n",
       " 'rep4_gaussian1uniform1_independent_20_1_1000_100.csv',\n",
       " 'rep25_gaussian1exponential1_independent_20_1_1000_1000.csv',\n",
       " 'rep56_gaussian1gaussian1_independent_20_1_1000_1000.csv',\n",
       " 'rep68_gaussian1exponential1_independent_20_1_1000_50.csv',\n",
       " 'rep93_gaussian1uniform1_independent_20_1_1000_100.csv',\n",
       " 'rep87_gaussian1gaussian1_independent_20_1_1000_500.csv',\n",
       " 'rep15_gaussian1gaussian1_independent_20_1_1000_10.csv',\n",
       " 'rep99_gaussian1uniform1_independent_20_1_1000_50.csv',\n",
       " 'rep98_gaussian1uniform1_independent_20_1_1000_10.csv',\n",
       " 'rep74_gaussian1gaussian1_independent_20_1_1000_10.csv',\n",
       " 'rep79_gaussian1exponential1_independent_20_1_1000_10.csv',\n",
       " 'rep49_gaussian1gaussian1_independent_20_1_1000_500.csv',\n",
       " 'rep75_gaussian1uniform1_independent_20_1_1000_1000.csv',\n",
       " 'rep80_gaussian1uniform1_independent_20_1_1000_10.csv',\n",
       " 'rep15_gaussian1exponential1_independent_20_1_1000_50.csv',\n",
       " 'rep29_gaussian1gaussian1_independent_20_1_1000_1000.csv',\n",
       " 'rep31_gaussian1gaussian1_independent_20_1_1000_10.csv',\n",
       " 'rep77_gaussian1gaussian1_independent_20_1_1000_500.csv',\n",
       " 'rep24_gaussian1uniform1_independent_20_1_1000_50.csv',\n",
       " 'rep42_gaussian1gaussian1_independent_20_1_1000_50.csv',\n",
       " 'rep18_gaussian1uniform1_independent_20_1_1000_50.csv',\n",
       " 'rep32_gaussian1uniform1_independent_20_1_1000_50.csv',\n",
       " 'rep86_gaussian1gaussian1_independent_20_1_1000_10.csv',\n",
       " 'rep64_gaussian1uniform1_independent_20_1_1000_100.csv',\n",
       " 'rep37_gaussian1exponential1_independent_20_1_1000_500.csv',\n",
       " 'rep34_gaussian1gaussian1_independent_20_1_1000_100.csv',\n",
       " 'rep65_gaussian1gaussian1_independent_20_1_1000_10.csv',\n",
       " 'rep33_gaussian1gaussian1_independent_20_1_1000_1000.csv',\n",
       " 'rep96_gaussian1gaussian1_independent_20_1_1000_500.csv',\n",
       " 'rep52_gaussian1exponential1_independent_20_1_1000_10.csv',\n",
       " 'rep47_gaussian1exponential1_independent_20_1_1000_1000.csv',\n",
       " 'rep30_gaussian1uniform1_independent_20_1_1000_100.csv',\n",
       " 'rep31_gaussian1exponential1_independent_20_1_1000_10.csv',\n",
       " 'rep8_gaussian1exponential1_independent_20_1_1000_500.csv',\n",
       " 'rep62_gaussian1uniform1_independent_20_1_1000_1000.csv',\n",
       " 'rep31_gaussian1uniform1_independent_20_1_1000_500.csv',\n",
       " 'rep69_gaussian1exponential1_independent_20_1_1000_10.csv',\n",
       " 'rep14_gaussian1exponential1_independent_20_1_1000_1000.csv',\n",
       " 'rep92_gaussian1uniform1_independent_20_1_1000_50.csv',\n",
       " 'rep64_gaussian1gaussian1_independent_20_1_1000_100.csv',\n",
       " 'rep41_gaussian1exponential1_independent_20_1_1000_50.csv',\n",
       " 'rep96_gaussian1uniform1_independent_20_1_1000_100.csv',\n",
       " 'rep44_gaussian1exponential1_independent_20_1_1000_100.csv',\n",
       " 'rep56_gaussian1exponential1_independent_20_1_1000_100.csv',\n",
       " 'rep52_gaussian1uniform1_independent_20_1_1000_1000.csv',\n",
       " 'rep12_gaussian1gaussian1_independent_20_1_1000_100.csv',\n",
       " 'rep46_gaussian1exponential1_independent_20_1_1000_50.csv',\n",
       " 'rep43_gaussian1gaussian1_independent_20_1_1000_100.csv',\n",
       " 'rep35_gaussian1uniform1_independent_20_1_1000_50.csv',\n",
       " 'rep69_gaussian1uniform1_independent_20_1_1000_1000.csv',\n",
       " 'rep19_gaussian1gaussian1_independent_20_1_1000_10.csv',\n",
       " 'rep82_gaussian1exponential1_independent_20_1_1000_100.csv',\n",
       " 'rep75_gaussian1exponential1_independent_20_1_1000_10.csv',\n",
       " 'rep58_gaussian1uniform1_independent_20_1_1000_1000.csv',\n",
       " 'rep33_gaussian1gaussian1_independent_20_1_1000_10.csv',\n",
       " 'rep85_gaussian1gaussian1_independent_20_1_1000_500.csv',\n",
       " 'rep34_gaussian1gaussian1_independent_20_1_1000_50.csv',\n",
       " 'rep13_gaussian1gaussian1_independent_20_1_1000_500.csv',\n",
       " 'rep35_gaussian1uniform1_independent_20_1_1000_500.csv',\n",
       " 'rep7_gaussian1exponential1_independent_20_1_1000_50.csv',\n",
       " 'rep38_gaussian1exponential1_independent_20_1_1000_50.csv',\n",
       " 'rep67_gaussian1gaussian1_independent_20_1_1000_10.csv',\n",
       " 'rep66_gaussian1uniform1_independent_20_1_1000_50.csv',\n",
       " 'rep87_gaussian1uniform1_independent_20_1_1000_100.csv',\n",
       " 'rep79_gaussian1exponential1_independent_20_1_1000_100.csv',\n",
       " 'rep62_gaussian1exponential1_independent_20_1_1000_50.csv',\n",
       " 'rep48_gaussian1gaussian1_independent_20_1_1000_100.csv',\n",
       " 'rep32_gaussian1gaussian1_independent_20_1_1000_50.csv',\n",
       " 'rep12_gaussian1exponential1_independent_20_1_1000_100.csv',\n",
       " 'rep91_gaussian1exponential1_independent_20_1_1000_100.csv',\n",
       " 'rep89_gaussian1uniform1_independent_20_1_1000_100.csv',\n",
       " 'rep55_gaussian1exponential1_independent_20_1_1000_100.csv',\n",
       " 'rep85_gaussian1exponential1_independent_20_1_1000_10.csv',\n",
       " 'rep71_gaussian1uniform1_independent_20_1_1000_100.csv',\n",
       " 'rep8_gaussian1gaussian1_independent_20_1_1000_10.csv',\n",
       " 'rep1_gaussian1exponential1_independent_20_1_1000_100.csv',\n",
       " 'rep11_gaussian1gaussian1_independent_20_1_1000_1000.csv',\n",
       " 'rep26_gaussian1gaussian1_independent_20_1_1000_500.csv',\n",
       " 'rep4_gaussian1uniform1_independent_20_1_1000_500.csv',\n",
       " 'rep16_gaussian1exponential1_independent_20_1_1000_1000.csv',\n",
       " 'rep99_gaussian1gaussian1_independent_20_1_1000_50.csv',\n",
       " 'rep67_gaussian1exponential1_independent_20_1_1000_10.csv',\n",
       " 'rep10_gaussian1exponential1_independent_20_1_1000_50.csv',\n",
       " 'rep36_gaussian1exponential1_independent_20_1_1000_500.csv',\n",
       " 'rep40_gaussian1gaussian1_independent_20_1_1000_500.csv',\n",
       " 'rep92_gaussian1gaussian1_independent_20_1_1000_50.csv',\n",
       " 'rep28_gaussian1gaussian1_independent_20_1_1000_100.csv',\n",
       " 'rep60_gaussian1gaussian1_independent_20_1_1000_1000.csv',\n",
       " 'rep76_gaussian1exponential1_independent_20_1_1000_100.csv',\n",
       " 'rep31_gaussian1exponential1_independent_20_1_1000_50.csv',\n",
       " 'rep42_gaussian1exponential1_independent_20_1_1000_500.csv',\n",
       " 'rep76_gaussian1gaussian1_independent_20_1_1000_1000.csv',\n",
       " 'rep77_gaussian1uniform1_independent_20_1_1000_100.csv',\n",
       " 'rep25_gaussian1gaussian1_independent_20_1_1000_1000.csv',\n",
       " 'rep2_gaussian1exponential1_independent_20_1_1000_50.csv',\n",
       " 'rep35_gaussian1exponential1_independent_20_1_1000_100.csv',\n",
       " 'rep88_gaussian1exponential1_independent_20_1_1000_10.csv',\n",
       " 'rep82_gaussian1gaussian1_independent_20_1_1000_10.csv',\n",
       " 'rep61_gaussian1gaussian1_independent_20_1_1000_1000.csv',\n",
       " 'rep99_gaussian1exponential1_independent_20_1_1000_50.csv',\n",
       " 'rep56_gaussian1uniform1_independent_20_1_1000_500.csv',\n",
       " 'rep61_gaussian1uniform1_independent_20_1_1000_500.csv',\n",
       " 'rep84_gaussian1uniform1_independent_20_1_1000_1000.csv',\n",
       " 'rep66_gaussian1gaussian1_independent_20_1_1000_500.csv',\n",
       " 'rep87_gaussian1exponential1_independent_20_1_1000_100.csv',\n",
       " 'rep85_gaussian1exponential1_independent_20_1_1000_500.csv',\n",
       " 'rep69_gaussian1gaussian1_independent_20_1_1000_1000.csv',\n",
       " 'rep63_gaussian1uniform1_independent_20_1_1000_1000.csv',\n",
       " 'rep57_gaussian1gaussian1_independent_20_1_1000_100.csv',\n",
       " 'rep63_gaussian1uniform1_independent_20_1_1000_100.csv',\n",
       " 'rep17_gaussian1gaussian1_independent_20_1_1000_100.csv',\n",
       " 'rep25_gaussian1uniform1_independent_20_1_1000_500.csv',\n",
       " 'rep88_gaussian1exponential1_independent_20_1_1000_50.csv',\n",
       " 'rep8_gaussian1uniform1_independent_20_1_1000_100.csv',\n",
       " 'rep41_gaussian1uniform1_independent_20_1_1000_10.csv',\n",
       " 'rep14_gaussian1uniform1_independent_20_1_1000_100.csv',\n",
       " 'rep20_gaussian1exponential1_independent_20_1_1000_100.csv',\n",
       " 'rep95_gaussian1uniform1_independent_20_1_1000_500.csv',\n",
       " 'rep38_gaussian1gaussian1_independent_20_1_1000_10.csv',\n",
       " 'rep11_gaussian1uniform1_independent_20_1_1000_100.csv',\n",
       " 'rep56_gaussian1gaussian1_independent_20_1_1000_100.csv',\n",
       " 'rep59_gaussian1uniform1_independent_20_1_1000_10.csv',\n",
       " 'rep51_gaussian1exponential1_independent_20_1_1000_500.csv',\n",
       " 'rep45_gaussian1uniform1_independent_20_1_1000_100.csv',\n",
       " 'rep32_gaussian1gaussian1_independent_20_1_1000_500.csv',\n",
       " 'rep58_gaussian1exponential1_independent_20_1_1000_10.csv',\n",
       " 'rep12_gaussian1gaussian1_independent_20_1_1000_50.csv',\n",
       " 'rep99_gaussian1gaussian1_independent_20_1_1000_100.csv',\n",
       " 'rep13_gaussian1uniform1_independent_20_1_1000_1000.csv',\n",
       " 'rep99_gaussian1gaussian1_independent_20_1_1000_10.csv',\n",
       " 'rep49_gaussian1exponential1_independent_20_1_1000_50.csv',\n",
       " 'rep71_gaussian1exponential1_independent_20_1_1000_1000.csv',\n",
       " 'rep42_gaussian1exponential1_independent_20_1_1000_1000.csv',\n",
       " 'rep100_gaussian1exponential1_independent_20_1_1000_500.csv',\n",
       " 'rep7_gaussian1uniform1_independent_20_1_1000_1000.csv',\n",
       " 'rep3_gaussian1gaussian1_independent_20_1_1000_100.csv',\n",
       " 'rep22_gaussian1gaussian1_independent_20_1_1000_10.csv',\n",
       " 'rep42_gaussian1gaussian1_independent_20_1_1000_500.csv',\n",
       " 'rep51_gaussian1exponential1_independent_20_1_1000_1000.csv',\n",
       " 'rep1_gaussian1exponential1_independent_20_1_1000_50.csv',\n",
       " 'rep95_gaussian1gaussian1_independent_20_1_1000_1000.csv',\n",
       " 'rep7_gaussian1gaussian1_independent_20_1_1000_100.csv',\n",
       " 'rep58_gaussian1uniform1_independent_20_1_1000_100.csv',\n",
       " 'rep34_gaussian1uniform1_independent_20_1_1000_10.csv',\n",
       " 'rep76_gaussian1exponential1_independent_20_1_1000_50.csv',\n",
       " 'rep46_gaussian1gaussian1_independent_20_1_1000_100.csv',\n",
       " 'rep53_gaussian1uniform1_independent_20_1_1000_50.csv',\n",
       " 'rep8_gaussian1uniform1_independent_20_1_1000_50.csv',\n",
       " 'rep27_gaussian1gaussian1_independent_20_1_1000_50.csv',\n",
       " 'rep58_gaussian1exponential1_independent_20_1_1000_500.csv',\n",
       " 'rep86_gaussian1exponential1_independent_20_1_1000_10.csv',\n",
       " 'rep26_gaussian1uniform1_independent_20_1_1000_1000.csv',\n",
       " 'rep90_gaussian1exponential1_independent_20_1_1000_10.csv',\n",
       " 'rep26_gaussian1exponential1_independent_20_1_1000_10.csv',\n",
       " 'rep47_gaussian1uniform1_independent_20_1_1000_50.csv',\n",
       " 'rep1_gaussian1uniform1_independent_20_1_1000_1000.csv',\n",
       " 'rep74_gaussian1uniform1_independent_20_1_1000_100.csv',\n",
       " 'rep9_gaussian1gaussian1_independent_20_1_1000_10.csv',\n",
       " 'rep65_gaussian1gaussian1_independent_20_1_1000_1000.csv',\n",
       " 'log.txt',\n",
       " 'rep91_gaussian1uniform1_independent_20_1_1000_10.csv',\n",
       " 'rep59_gaussian1gaussian1_independent_20_1_1000_1000.csv',\n",
       " 'rep60_gaussian1uniform1_independent_20_1_1000_100.csv',\n",
       " 'rep52_gaussian1exponential1_independent_20_1_1000_1000.csv',\n",
       " 'rep11_gaussian1uniform1_independent_20_1_1000_10.csv',\n",
       " 'rep64_gaussian1exponential1_independent_20_1_1000_1000.csv',\n",
       " 'rep2_gaussian1gaussian1_independent_20_1_1000_10.csv',\n",
       " 'rep35_gaussian1uniform1_independent_20_1_1000_1000.csv',\n",
       " 'rep18_gaussian1gaussian1_independent_20_1_1000_50.csv',\n",
       " 'rep57_gaussian1uniform1_independent_20_1_1000_500.csv',\n",
       " 'rep69_gaussian1exponential1_independent_20_1_1000_50.csv',\n",
       " 'rep95_gaussian1exponential1_independent_20_1_1000_500.csv',\n",
       " 'rep48_gaussian1uniform1_independent_20_1_1000_500.csv',\n",
       " 'rep86_gaussian1exponential1_independent_20_1_1000_500.csv',\n",
       " 'rep57_gaussian1uniform1_independent_20_1_1000_100.csv',\n",
       " 'rep80_gaussian1exponential1_independent_20_1_1000_1000.csv',\n",
       " 'rep26_gaussian1uniform1_independent_20_1_1000_500.csv',\n",
       " 'rep98_gaussian1exponential1_independent_20_1_1000_10.csv',\n",
       " 'rep66_gaussian1uniform1_independent_20_1_1000_10.csv',\n",
       " 'rep51_gaussian1uniform1_independent_20_1_1000_10.csv',\n",
       " 'rep67_gaussian1uniform1_independent_20_1_1000_100.csv',\n",
       " 'rep79_gaussian1gaussian1_independent_20_1_1000_500.csv',\n",
       " 'rep12_gaussian1uniform1_independent_20_1_1000_1000.csv',\n",
       " 'rep48_gaussian1exponential1_independent_20_1_1000_1000.csv',\n",
       " 'rep100_gaussian1uniform1_independent_20_1_1000_10.csv',\n",
       " 'rep78_gaussian1uniform1_independent_20_1_1000_50.csv',\n",
       " 'rep30_gaussian1uniform1_independent_20_1_1000_1000.csv',\n",
       " 'rep13_gaussian1uniform1_independent_20_1_1000_10.csv',\n",
       " 'rep83_gaussian1gaussian1_independent_20_1_1000_50.csv',\n",
       " 'rep82_gaussian1uniform1_independent_20_1_1000_500.csv',\n",
       " 'rep84_gaussian1uniform1_independent_20_1_1000_50.csv',\n",
       " 'rep98_gaussian1exponential1_independent_20_1_1000_50.csv',\n",
       " 'rep50_gaussian1gaussian1_independent_20_1_1000_100.csv',\n",
       " 'rep44_gaussian1gaussian1_independent_20_1_1000_500.csv',\n",
       " 'rep29_gaussian1uniform1_independent_20_1_1000_500.csv',\n",
       " 'rep99_gaussian1uniform1_independent_20_1_1000_10.csv',\n",
       " 'rep62_gaussian1uniform1_independent_20_1_1000_500.csv',\n",
       " 'rep67_gaussian1exponential1_independent_20_1_1000_100.csv',\n",
       " 'rep3_gaussian1uniform1_independent_20_1_1000_50.csv',\n",
       " 'rep30_gaussian1gaussian1_independent_20_1_1000_50.csv',\n",
       " 'rep49_gaussian1gaussian1_independent_20_1_1000_50.csv',\n",
       " 'rep17_gaussian1gaussian1_independent_20_1_1000_500.csv',\n",
       " 'rep60_gaussian1gaussian1_independent_20_1_1000_50.csv',\n",
       " 'rep75_gaussian1uniform1_independent_20_1_1000_100.csv',\n",
       " 'rep62_gaussian1uniform1_independent_20_1_1000_50.csv',\n",
       " 'rep59_gaussian1exponential1_independent_20_1_1000_50.csv',\n",
       " 'rep55_gaussian1gaussian1_independent_20_1_1000_50.csv',\n",
       " 'rep36_gaussian1gaussian1_independent_20_1_1000_10.csv',\n",
       " 'rep97_gaussian1gaussian1_independent_20_1_1000_100.csv',\n",
       " 'rep61_gaussian1exponential1_independent_20_1_1000_100.csv',\n",
       " 'rep38_gaussian1uniform1_independent_20_1_1000_100.csv',\n",
       " 'rep8_gaussian1gaussian1_independent_20_1_1000_500.csv',\n",
       " 'rep80_gaussian1gaussian1_independent_20_1_1000_1000.csv',\n",
       " 'rep33_gaussian1exponential1_independent_20_1_1000_1000.csv',\n",
       " 'rep29_gaussian1uniform1_independent_20_1_1000_10.csv',\n",
       " 'rep91_gaussian1gaussian1_independent_20_1_1000_10.csv',\n",
       " 'rep79_gaussian1gaussian1_independent_20_1_1000_1000.csv',\n",
       " 'rep99_gaussian1uniform1_independent_20_1_1000_500.csv',\n",
       " 'rep22_gaussian1uniform1_independent_20_1_1000_1000.csv',\n",
       " 'rep51_gaussian1uniform1_independent_20_1_1000_50.csv',\n",
       " 'rep58_gaussian1gaussian1_independent_20_1_1000_500.csv',\n",
       " 'rep22_gaussian1exponential1_independent_20_1_1000_500.csv',\n",
       " 'rep61_gaussian1uniform1_independent_20_1_1000_10.csv',\n",
       " 'rep30_gaussian1uniform1_independent_20_1_1000_10.csv',\n",
       " 'rep9_gaussian1uniform1_independent_20_1_1000_1000.csv',\n",
       " 'rep96_gaussian1uniform1_independent_20_1_1000_1000.csv',\n",
       " 'rep12_gaussian1uniform1_independent_20_1_1000_50.csv',\n",
       " 'rep82_gaussian1uniform1_independent_20_1_1000_10.csv',\n",
       " 'rep6_gaussian1gaussian1_independent_20_1_1000_1000.csv',\n",
       " 'rep40_gaussian1gaussian1_independent_20_1_1000_100.csv',\n",
       " 'rep52_gaussian1gaussian1_independent_20_1_1000_50.csv',\n",
       " 'rep43_gaussian1uniform1_independent_20_1_1000_50.csv',\n",
       " 'rep25_gaussian1uniform1_independent_20_1_1000_1000.csv',\n",
       " 'rep16_gaussian1uniform1_independent_20_1_1000_500.csv',\n",
       " 'rep59_gaussian1gaussian1_independent_20_1_1000_10.csv',\n",
       " 'rep21_gaussian1uniform1_independent_20_1_1000_100.csv',\n",
       " 'rep38_gaussian1gaussian1_independent_20_1_1000_500.csv',\n",
       " 'rep30_gaussian1gaussian1_independent_20_1_1000_500.csv',\n",
       " 'rep99_gaussian1gaussian1_independent_20_1_1000_500.csv',\n",
       " 'rep31_gaussian1exponential1_independent_20_1_1000_500.csv',\n",
       " 'rep18_gaussian1uniform1_independent_20_1_1000_500.csv',\n",
       " 'rep30_gaussian1gaussian1_independent_20_1_1000_10.csv',\n",
       " 'rep46_gaussian1gaussian1_independent_20_1_1000_10.csv',\n",
       " 'rep76_gaussian1gaussian1_independent_20_1_1000_100.csv',\n",
       " 'rep62_gaussian1gaussian1_independent_20_1_1000_50.csv',\n",
       " 'rep37_gaussian1exponential1_independent_20_1_1000_100.csv',\n",
       " 'rep75_gaussian1exponential1_independent_20_1_1000_50.csv',\n",
       " 'rep28_gaussian1exponential1_independent_20_1_1000_50.csv',\n",
       " 'rep75_gaussian1exponential1_independent_20_1_1000_100.csv',\n",
       " 'rep10_gaussian1gaussian1_independent_20_1_1000_100.csv',\n",
       " 'rep26_gaussian1uniform1_independent_20_1_1000_50.csv',\n",
       " 'rep93_gaussian1exponential1_independent_20_1_1000_50.csv',\n",
       " 'rep45_gaussian1uniform1_independent_20_1_1000_500.csv',\n",
       " 'rep95_gaussian1uniform1_independent_20_1_1000_10.csv',\n",
       " 'rep35_gaussian1exponential1_independent_20_1_1000_10.csv',\n",
       " 'rep94_gaussian1gaussian1_independent_20_1_1000_100.csv',\n",
       " 'rep41_gaussian1uniform1_independent_20_1_1000_1000.csv',\n",
       " 'rep43_gaussian1uniform1_independent_20_1_1000_100.csv',\n",
       " 'rep23_gaussian1exponential1_independent_20_1_1000_1000.csv',\n",
       " 'rep36_gaussian1gaussian1_independent_20_1_1000_100.csv',\n",
       " 'rep1_gaussian1gaussian1_independent_20_1_1000_100.csv',\n",
       " 'rep61_gaussian1uniform1_independent_20_1_1000_100.csv',\n",
       " 'rep74_gaussian1gaussian1_independent_20_1_1000_500.csv',\n",
       " 'rep99_gaussian1uniform1_independent_20_1_1000_1000.csv',\n",
       " 'rep56_gaussian1uniform1_independent_20_1_1000_1000.csv',\n",
       " 'rep3_gaussian1uniform1_independent_20_1_1000_100.csv',\n",
       " 'rep33_gaussian1exponential1_independent_20_1_1000_50.csv',\n",
       " 'rep1_gaussian1uniform1_independent_20_1_1000_500.csv',\n",
       " 'rep79_gaussian1uniform1_independent_20_1_1000_50.csv',\n",
       " 'rep15_gaussian1uniform1_independent_20_1_1000_1000.csv',\n",
       " 'rep82_gaussian1exponential1_independent_20_1_1000_50.csv',\n",
       " 'rep90_gaussian1gaussian1_independent_20_1_1000_500.csv',\n",
       " 'rep93_gaussian1uniform1_independent_20_1_1000_10.csv',\n",
       " 'rep29_gaussian1gaussian1_independent_20_1_1000_100.csv',\n",
       " 'rep21_gaussian1uniform1_independent_20_1_1000_500.csv',\n",
       " 'rep34_gaussian1gaussian1_independent_20_1_1000_500.csv',\n",
       " 'rep69_gaussian1exponential1_independent_20_1_1000_500.csv',\n",
       " 'rep42_gaussian1uniform1_independent_20_1_1000_100.csv',\n",
       " 'rep23_gaussian1uniform1_independent_20_1_1000_10.csv',\n",
       " 'rep65_gaussian1exponential1_independent_20_1_1000_100.csv',\n",
       " 'rep60_gaussian1exponential1_independent_20_1_1000_500.csv',\n",
       " 'rep77_gaussian1gaussian1_independent_20_1_1000_50.csv',\n",
       " 'rep5_gaussian1gaussian1_independent_20_1_1000_500.csv',\n",
       " 'rep19_gaussian1uniform1_independent_20_1_1000_1000.csv',\n",
       " 'rep26_gaussian1gaussian1_independent_20_1_1000_100.csv',\n",
       " 'rep14_gaussian1exponential1_independent_20_1_1000_50.csv',\n",
       " 'rep81_gaussian1gaussian1_independent_20_1_1000_100.csv',\n",
       " 'rep22_gaussian1gaussian1_independent_20_1_1000_50.csv',\n",
       " 'rep19_gaussian1gaussian1_independent_20_1_1000_1000.csv',\n",
       " 'rep75_gaussian1exponential1_independent_20_1_1000_500.csv',\n",
       " 'rep1_gaussian1exponential1_independent_20_1_1000_10.csv',\n",
       " 'rep45_gaussian1exponential1_independent_20_1_1000_1000.csv',\n",
       " 'rep74_gaussian1gaussian1_independent_20_1_1000_100.csv',\n",
       " 'rep94_gaussian1exponential1_independent_20_1_1000_50.csv',\n",
       " 'rep8_gaussian1uniform1_independent_20_1_1000_10.csv',\n",
       " 'rep45_gaussian1exponential1_independent_20_1_1000_500.csv',\n",
       " 'rep12_gaussian1gaussian1_independent_20_1_1000_1000.csv',\n",
       " 'rep66_gaussian1exponential1_independent_20_1_1000_100.csv',\n",
       " 'rep94_gaussian1exponential1_independent_20_1_1000_10.csv',\n",
       " 'rep18_gaussian1gaussian1_independent_20_1_1000_500.csv',\n",
       " 'rep72_gaussian1exponential1_independent_20_1_1000_100.csv',\n",
       " 'rep39_gaussian1gaussian1_independent_20_1_1000_10.csv',\n",
       " 'rep32_gaussian1exponential1_independent_20_1_1000_1000.csv',\n",
       " 'rep33_gaussian1exponential1_independent_20_1_1000_10.csv',\n",
       " 'rep64_gaussian1gaussian1_independent_20_1_1000_50.csv',\n",
       " 'rep48_gaussian1gaussian1_independent_20_1_1000_10.csv',\n",
       " 'rep40_gaussian1uniform1_independent_20_1_1000_500.csv',\n",
       " 'rep71_gaussian1uniform1_independent_20_1_1000_1000.csv',\n",
       " 'rep79_gaussian1uniform1_independent_20_1_1000_100.csv',\n",
       " 'rep82_gaussian1gaussian1_independent_20_1_1000_500.csv',\n",
       " 'rep64_gaussian1uniform1_independent_20_1_1000_500.csv',\n",
       " 'rep94_gaussian1gaussian1_independent_20_1_1000_1000.csv',\n",
       " 'rep42_gaussian1exponential1_independent_20_1_1000_50.csv',\n",
       " 'rep24_gaussian1gaussian1_independent_20_1_1000_1000.csv',\n",
       " 'rep11_gaussian1gaussian1_independent_20_1_1000_50.csv',\n",
       " 'rep23_gaussian1gaussian1_independent_20_1_1000_50.csv',\n",
       " 'rep30_gaussian1gaussian1_independent_20_1_1000_100.csv',\n",
       " 'rep3_gaussian1uniform1_independent_20_1_1000_1000.csv',\n",
       " 'rep3_gaussian1exponential1_independent_20_1_1000_1000.csv',\n",
       " 'rep44_gaussian1exponential1_independent_20_1_1000_1000.csv',\n",
       " 'rep90_gaussian1exponential1_independent_20_1_1000_500.csv',\n",
       " 'rep40_gaussian1gaussian1_independent_20_1_1000_50.csv',\n",
       " 'rep48_gaussian1exponential1_independent_20_1_1000_10.csv',\n",
       " 'rep55_gaussian1exponential1_independent_20_1_1000_50.csv',\n",
       " 'rep24_gaussian1uniform1_independent_20_1_1000_500.csv',\n",
       " 'rep34_gaussian1exponential1_independent_20_1_1000_1000.csv',\n",
       " 'rep6_gaussian1exponential1_independent_20_1_1000_1000.csv',\n",
       " 'rep56_gaussian1exponential1_independent_20_1_1000_50.csv',\n",
       " 'rep73_gaussian1uniform1_independent_20_1_1000_10.csv',\n",
       " 'rep39_gaussian1exponential1_independent_20_1_1000_1000.csv',\n",
       " 'rep95_gaussian1exponential1_independent_20_1_1000_10.csv',\n",
       " 'rep15_gaussian1exponential1_independent_20_1_1000_500.csv',\n",
       " 'rep84_gaussian1exponential1_independent_20_1_1000_10.csv',\n",
       " 'rep97_gaussian1gaussian1_independent_20_1_1000_1000.csv',\n",
       " 'rep91_gaussian1uniform1_independent_20_1_1000_500.csv',\n",
       " 'rep1_gaussian1exponential1_independent_20_1_1000_1000.csv',\n",
       " 'rep15_gaussian1gaussian1_independent_20_1_1000_500.csv',\n",
       " 'rep77_gaussian1uniform1_independent_20_1_1000_10.csv',\n",
       " 'rep91_gaussian1exponential1_independent_20_1_1000_1000.csv',\n",
       " 'rep63_gaussian1gaussian1_independent_20_1_1000_10.csv',\n",
       " 'rep98_gaussian1uniform1_independent_20_1_1000_1000.csv',\n",
       " 'rep10_gaussian1gaussian1_independent_20_1_1000_50.csv',\n",
       " 'rep10_gaussian1exponential1_independent_20_1_1000_100.csv',\n",
       " 'rep48_gaussian1exponential1_independent_20_1_1000_500.csv',\n",
       " 'rep95_gaussian1gaussian1_independent_20_1_1000_50.csv',\n",
       " 'rep29_gaussian1exponential1_independent_20_1_1000_100.csv',\n",
       " 'rep26_gaussian1exponential1_independent_20_1_1000_100.csv',\n",
       " 'rep20_gaussian1uniform1_independent_20_1_1000_10.csv',\n",
       " 'rep4_gaussian1uniform1_independent_20_1_1000_10.csv',\n",
       " 'rep70_gaussian1exponential1_independent_20_1_1000_10.csv',\n",
       " 'rep39_gaussian1uniform1_independent_20_1_1000_100.csv',\n",
       " 'rep84_gaussian1gaussian1_independent_20_1_1000_10.csv',\n",
       " 'rep87_gaussian1exponential1_independent_20_1_1000_50.csv',\n",
       " 'rep70_gaussian1exponential1_independent_20_1_1000_500.csv',\n",
       " 'rep18_gaussian1exponential1_independent_20_1_1000_1000.csv',\n",
       " 'rep78_gaussian1uniform1_independent_20_1_1000_10.csv',\n",
       " 'rep74_gaussian1uniform1_independent_20_1_1000_1000.csv',\n",
       " 'rep73_gaussian1uniform1_independent_20_1_1000_1000.csv',\n",
       " 'rep56_gaussian1exponential1_independent_20_1_1000_10.csv',\n",
       " 'rep70_gaussian1gaussian1_independent_20_1_1000_1000.csv',\n",
       " 'rep7_gaussian1uniform1_independent_20_1_1000_100.csv',\n",
       " 'rep43_gaussian1exponential1_independent_20_1_1000_100.csv',\n",
       " 'rep4_gaussian1gaussian1_independent_20_1_1000_10.csv',\n",
       " 'rep9_gaussian1exponential1_independent_20_1_1000_50.csv',\n",
       " 'rep15_gaussian1exponential1_independent_20_1_1000_1000.csv',\n",
       " 'rep12_gaussian1uniform1_independent_20_1_1000_100.csv',\n",
       " 'rep5_gaussian1gaussian1_independent_20_1_1000_1000.csv',\n",
       " 'rep100_gaussian1gaussian1_independent_20_1_1000_50.csv',\n",
       " 'rep47_gaussian1exponential1_independent_20_1_1000_50.csv',\n",
       " 'rep83_gaussian1gaussian1_independent_20_1_1000_10.csv',\n",
       " 'rep68_gaussian1gaussian1_independent_20_1_1000_1000.csv',\n",
       " 'rep60_gaussian1uniform1_independent_20_1_1000_500.csv',\n",
       " 'rep21_gaussian1exponential1_independent_20_1_1000_50.csv',\n",
       " 'rep39_gaussian1exponential1_independent_20_1_1000_100.csv',\n",
       " 'rep87_gaussian1gaussian1_independent_20_1_1000_10.csv',\n",
       " 'rep35_gaussian1uniform1_independent_20_1_1000_100.csv',\n",
       " 'rep98_gaussian1gaussian1_independent_20_1_1000_50.csv',\n",
       " 'rep1_gaussian1uniform1_independent_20_1_1000_10.csv',\n",
       " 'rep29_gaussian1exponential1_independent_20_1_1000_50.csv',\n",
       " 'rep38_gaussian1exponential1_independent_20_1_1000_500.csv',\n",
       " 'rep2_gaussian1exponential1_independent_20_1_1000_500.csv',\n",
       " 'rep24_gaussian1gaussian1_independent_20_1_1000_50.csv',\n",
       " 'rep16_gaussian1uniform1_independent_20_1_1000_1000.csv',\n",
       " 'rep79_gaussian1exponential1_independent_20_1_1000_1000.csv',\n",
       " 'rep77_gaussian1exponential1_independent_20_1_1000_50.csv',\n",
       " 'rep58_gaussian1uniform1_independent_20_1_1000_500.csv',\n",
       " 'rep4_gaussian1exponential1_independent_20_1_1000_100.csv',\n",
       " 'rep47_gaussian1uniform1_independent_20_1_1000_1000.csv',\n",
       " 'rep39_gaussian1exponential1_independent_20_1_1000_10.csv',\n",
       " 'rep9_gaussian1gaussian1_independent_20_1_1000_100.csv',\n",
       " 'rep13_gaussian1exponential1_independent_20_1_1000_1000.csv',\n",
       " 'rep67_gaussian1exponential1_independent_20_1_1000_1000.csv',\n",
       " 'rep79_gaussian1gaussian1_independent_20_1_1000_100.csv',\n",
       " 'rep20_gaussian1exponential1_independent_20_1_1000_10.csv',\n",
       " 'rep58_gaussian1gaussian1_independent_20_1_1000_50.csv',\n",
       " 'rep69_gaussian1uniform1_independent_20_1_1000_100.csv',\n",
       " 'rep59_gaussian1gaussian1_independent_20_1_1000_50.csv',\n",
       " 'rep76_gaussian1uniform1_independent_20_1_1000_500.csv',\n",
       " 'rep76_gaussian1exponential1_independent_20_1_1000_10.csv',\n",
       " 'rep72_gaussian1uniform1_independent_20_1_1000_100.csv',\n",
       " 'rep64_gaussian1exponential1_independent_20_1_1000_500.csv',\n",
       " 'rep5_gaussian1exponential1_independent_20_1_1000_100.csv',\n",
       " 'rep26_gaussian1exponential1_independent_20_1_1000_50.csv',\n",
       " 'rep25_gaussian1gaussian1_independent_20_1_1000_500.csv',\n",
       " 'rep100_gaussian1exponential1_independent_20_1_1000_10.csv',\n",
       " 'rep52_gaussian1uniform1_independent_20_1_1000_50.csv',\n",
       " 'rep76_gaussian1gaussian1_independent_20_1_1000_500.csv',\n",
       " 'rep25_gaussian1exponential1_independent_20_1_1000_10.csv',\n",
       " 'rep81_gaussian1exponential1_independent_20_1_1000_100.csv',\n",
       " 'rep77_gaussian1gaussian1_independent_20_1_1000_10.csv',\n",
       " 'rep69_gaussian1exponential1_independent_20_1_1000_100.csv',\n",
       " 'rep33_gaussian1uniform1_independent_20_1_1000_100.csv',\n",
       " 'rep51_gaussian1gaussian1_independent_20_1_1000_10.csv',\n",
       " 'rep84_gaussian1exponential1_independent_20_1_1000_50.csv',\n",
       " 'rep9_gaussian1exponential1_independent_20_1_1000_100.csv',\n",
       " 'rep23_gaussian1gaussian1_independent_20_1_1000_500.csv',\n",
       " 'rep33_gaussian1uniform1_independent_20_1_1000_1000.csv',\n",
       " 'rep44_gaussian1exponential1_independent_20_1_1000_10.csv',\n",
       " 'rep84_gaussian1gaussian1_independent_20_1_1000_100.csv',\n",
       " 'rep31_gaussian1gaussian1_independent_20_1_1000_100.csv',\n",
       " 'rep54_gaussian1gaussian1_independent_20_1_1000_500.csv',\n",
       " 'rep33_gaussian1exponential1_independent_20_1_1000_100.csv',\n",
       " 'rep33_gaussian1uniform1_independent_20_1_1000_500.csv',\n",
       " 'rep64_gaussian1exponential1_independent_20_1_1000_50.csv',\n",
       " 'rep87_gaussian1uniform1_independent_20_1_1000_1000.csv',\n",
       " 'rep89_gaussian1gaussian1_independent_20_1_1000_10.csv',\n",
       " 'rep9_gaussian1exponential1_independent_20_1_1000_1000.csv',\n",
       " 'rep93_gaussian1uniform1_independent_20_1_1000_50.csv',\n",
       " 'rep97_gaussian1uniform1_independent_20_1_1000_10.csv',\n",
       " 'rep41_gaussian1uniform1_independent_20_1_1000_500.csv',\n",
       " 'rep12_gaussian1exponential1_independent_20_1_1000_500.csv',\n",
       " 'rep96_gaussian1exponential1_independent_20_1_1000_1000.csv',\n",
       " 'rep19_gaussian1uniform1_independent_20_1_1000_50.csv',\n",
       " 'rep46_gaussian1exponential1_independent_20_1_1000_500.csv',\n",
       " 'rep55_gaussian1gaussian1_independent_20_1_1000_100.csv',\n",
       " 'rep66_gaussian1exponential1_independent_20_1_1000_500.csv',\n",
       " 'rep18_gaussian1gaussian1_independent_20_1_1000_1000.csv',\n",
       " 'rep7_gaussian1gaussian1_independent_20_1_1000_1000.csv',\n",
       " 'rep93_gaussian1gaussian1_independent_20_1_1000_10.csv',\n",
       " 'rep51_gaussian1gaussian1_independent_20_1_1000_500.csv',\n",
       " 'rep54_gaussian1uniform1_independent_20_1_1000_10.csv',\n",
       " 'rep55_gaussian1uniform1_independent_20_1_1000_50.csv',\n",
       " 'rep98_gaussian1gaussian1_independent_20_1_1000_10.csv',\n",
       " 'rep7_gaussian1uniform1_independent_20_1_1000_10.csv',\n",
       " 'rep32_gaussian1exponential1_independent_20_1_1000_100.csv',\n",
       " 'rep94_gaussian1gaussian1_independent_20_1_1000_50.csv',\n",
       " 'rep35_gaussian1uniform1_independent_20_1_1000_10.csv',\n",
       " 'rep46_gaussian1exponential1_independent_20_1_1000_10.csv',\n",
       " 'rep5_gaussian1uniform1_independent_20_1_1000_50.csv',\n",
       " 'rep97_gaussian1gaussian1_independent_20_1_1000_50.csv',\n",
       " 'rep10_gaussian1gaussian1_independent_20_1_1000_1000.csv',\n",
       " 'rep3_gaussian1gaussian1_independent_20_1_1000_10.csv',\n",
       " 'rep78_gaussian1exponential1_independent_20_1_1000_50.csv',\n",
       " 'rep100_gaussian1uniform1_independent_20_1_1000_500.csv',\n",
       " 'rep73_gaussian1exponential1_independent_20_1_1000_10.csv',\n",
       " 'rep16_gaussian1exponential1_independent_20_1_1000_100.csv',\n",
       " 'rep47_gaussian1gaussian1_independent_20_1_1000_10.csv',\n",
       " 'rep8_gaussian1uniform1_independent_20_1_1000_1000.csv',\n",
       " 'rep66_gaussian1uniform1_independent_20_1_1000_500.csv',\n",
       " 'rep28_gaussian1uniform1_independent_20_1_1000_50.csv',\n",
       " 'rep19_gaussian1uniform1_independent_20_1_1000_500.csv',\n",
       " 'rep90_gaussian1uniform1_independent_20_1_1000_10.csv',\n",
       " 'rep47_gaussian1exponential1_independent_20_1_1000_500.csv',\n",
       " 'rep23_gaussian1exponential1_independent_20_1_1000_500.csv',\n",
       " 'rep44_gaussian1gaussian1_independent_20_1_1000_10.csv',\n",
       " 'rep72_gaussian1uniform1_independent_20_1_1000_500.csv',\n",
       " 'rep78_gaussian1uniform1_independent_20_1_1000_1000.csv',\n",
       " 'rep98_gaussian1gaussian1_independent_20_1_1000_1000.csv',\n",
       " 'rep20_gaussian1gaussian1_independent_20_1_1000_500.csv',\n",
       " 'rep13_gaussian1exponential1_independent_20_1_1000_100.csv',\n",
       " 'rep68_gaussian1gaussian1_independent_20_1_1000_50.csv',\n",
       " 'rep78_gaussian1exponential1_independent_20_1_1000_1000.csv',\n",
       " 'rep39_gaussian1gaussian1_independent_20_1_1000_500.csv',\n",
       " 'rep69_gaussian1exponential1_independent_20_1_1000_1000.csv',\n",
       " 'rep21_gaussian1gaussian1_independent_20_1_1000_10.csv',\n",
       " 'rep43_gaussian1gaussian1_independent_20_1_1000_50.csv',\n",
       " 'rep86_gaussian1gaussian1_independent_20_1_1000_500.csv',\n",
       " 'rep95_gaussian1exponential1_independent_20_1_1000_50.csv',\n",
       " 'rep43_gaussian1uniform1_independent_20_1_1000_10.csv',\n",
       " 'rep4_gaussian1exponential1_independent_20_1_1000_1000.csv',\n",
       " 'rep59_gaussian1uniform1_independent_20_1_1000_50.csv',\n",
       " 'rep93_gaussian1exponential1_independent_20_1_1000_500.csv',\n",
       " 'rep26_gaussian1uniform1_independent_20_1_1000_100.csv',\n",
       " 'rep79_gaussian1exponential1_independent_20_1_1000_50.csv',\n",
       " 'rep19_gaussian1gaussian1_independent_20_1_1000_500.csv',\n",
       " 'rep2_gaussian1gaussian1_independent_20_1_1000_100.csv',\n",
       " 'rep87_gaussian1gaussian1_independent_20_1_1000_100.csv',\n",
       " 'rep78_gaussian1gaussian1_independent_20_1_1000_10.csv',\n",
       " 'rep11_gaussian1exponential1_independent_20_1_1000_1000.csv',\n",
       " 'rep22_gaussian1gaussian1_independent_20_1_1000_500.csv',\n",
       " 'rep57_gaussian1exponential1_independent_20_1_1000_1000.csv',\n",
       " 'rep50_gaussian1exponential1_independent_20_1_1000_50.csv',\n",
       " 'rep33_gaussian1gaussian1_independent_20_1_1000_50.csv',\n",
       " 'rep95_gaussian1uniform1_independent_20_1_1000_1000.csv',\n",
       " 'rep49_gaussian1gaussian1_independent_20_1_1000_100.csv',\n",
       " 'rep33_gaussian1exponential1_independent_20_1_1000_500.csv',\n",
       " 'rep17_gaussian1gaussian1_independent_20_1_1000_1000.csv',\n",
       " 'rep98_gaussian1exponential1_independent_20_1_1000_1000.csv',\n",
       " 'rep100_gaussian1uniform1_independent_20_1_1000_1000.csv',\n",
       " 'rep2_gaussian1gaussian1_independent_20_1_1000_50.csv',\n",
       " 'rep86_gaussian1gaussian1_independent_20_1_1000_100.csv',\n",
       " 'rep53_gaussian1exponential1_independent_20_1_1000_10.csv',\n",
       " 'rep69_gaussian1gaussian1_independent_20_1_1000_50.csv',\n",
       " 'rep34_gaussian1uniform1_independent_20_1_1000_500.csv',\n",
       " 'rep80_gaussian1exponential1_independent_20_1_1000_50.csv',\n",
       " 'rep21_gaussian1exponential1_independent_20_1_1000_10.csv',\n",
       " 'rep7_gaussian1exponential1_independent_20_1_1000_1000.csv',\n",
       " 'rep18_gaussian1exponential1_independent_20_1_1000_500.csv',\n",
       " 'rep6_gaussian1exponential1_independent_20_1_1000_100.csv',\n",
       " 'rep76_gaussian1gaussian1_independent_20_1_1000_10.csv',\n",
       " 'rep52_gaussian1gaussian1_independent_20_1_1000_10.csv',\n",
       " 'rep64_gaussian1exponential1_independent_20_1_1000_100.csv',\n",
       " 'rep69_gaussian1gaussian1_independent_20_1_1000_100.csv',\n",
       " 'rep65_gaussian1exponential1_independent_20_1_1000_1000.csv',\n",
       " 'rep49_gaussian1uniform1_independent_20_1_1000_50.csv',\n",
       " 'rep58_gaussian1gaussian1_independent_20_1_1000_100.csv',\n",
       " 'rep41_gaussian1gaussian1_independent_20_1_1000_50.csv',\n",
       " 'rep99_gaussian1gaussian1_independent_20_1_1000_1000.csv',\n",
       " 'rep49_gaussian1exponential1_independent_20_1_1000_1000.csv',\n",
       " 'rep44_gaussian1exponential1_independent_20_1_1000_500.csv',\n",
       " 'rep21_gaussian1gaussian1_independent_20_1_1000_1000.csv',\n",
       " 'rep31_gaussian1gaussian1_independent_20_1_1000_1000.csv',\n",
       " 'rep56_gaussian1gaussian1_independent_20_1_1000_10.csv',\n",
       " 'rep78_gaussian1exponential1_independent_20_1_1000_100.csv',\n",
       " 'rep27_gaussian1exponential1_independent_20_1_1000_1000.csv',\n",
       " 'rep74_gaussian1gaussian1_independent_20_1_1000_1000.csv',\n",
       " 'rep19_gaussian1uniform1_independent_20_1_1000_10.csv',\n",
       " 'rep51_gaussian1uniform1_independent_20_1_1000_1000.csv',\n",
       " 'rep24_gaussian1exponential1_independent_20_1_1000_50.csv',\n",
       " 'rep27_gaussian1uniform1_independent_20_1_1000_500.csv',\n",
       " 'rep91_gaussian1exponential1_independent_20_1_1000_50.csv',\n",
       " 'rep89_gaussian1uniform1_independent_20_1_1000_1000.csv',\n",
       " 'rep13_gaussian1gaussian1_independent_20_1_1000_10.csv',\n",
       " 'rep23_gaussian1exponential1_independent_20_1_1000_50.csv',\n",
       " 'rep21_gaussian1exponential1_independent_20_1_1000_1000.csv',\n",
       " 'rep24_gaussian1exponential1_independent_20_1_1000_10.csv',\n",
       " 'rep96_gaussian1gaussian1_independent_20_1_1000_1000.csv',\n",
       " 'rep72_gaussian1gaussian1_independent_20_1_1000_10.csv',\n",
       " 'rep55_gaussian1exponential1_independent_20_1_1000_500.csv',\n",
       " 'rep57_gaussian1uniform1_independent_20_1_1000_1000.csv',\n",
       " 'rep31_gaussian1uniform1_independent_20_1_1000_10.csv',\n",
       " 'rep31_gaussian1uniform1_independent_20_1_1000_50.csv',\n",
       " 'rep53_gaussian1gaussian1_independent_20_1_1000_500.csv',\n",
       " 'rep58_gaussian1gaussian1_independent_20_1_1000_1000.csv',\n",
       " 'rep45_gaussian1gaussian1_independent_20_1_1000_100.csv',\n",
       " 'rep59_gaussian1exponential1_independent_20_1_1000_10.csv',\n",
       " 'rep82_gaussian1uniform1_independent_20_1_1000_50.csv',\n",
       " 'rep24_gaussian1uniform1_independent_20_1_1000_10.csv',\n",
       " 'rep13_gaussian1uniform1_independent_20_1_1000_500.csv',\n",
       " 'rep29_gaussian1uniform1_independent_20_1_1000_1000.csv',\n",
       " 'rep6_gaussian1exponential1_independent_20_1_1000_50.csv',\n",
       " 'rep14_gaussian1uniform1_independent_20_1_1000_10.csv',\n",
       " 'rep96_gaussian1exponential1_independent_20_1_1000_100.csv',\n",
       " 'rep51_gaussian1exponential1_independent_20_1_1000_100.csv',\n",
       " 'rep45_gaussian1exponential1_independent_20_1_1000_50.csv',\n",
       " 'rep52_gaussian1uniform1_independent_20_1_1000_500.csv',\n",
       " 'rep79_gaussian1uniform1_independent_20_1_1000_10.csv',\n",
       " 'rep63_gaussian1exponential1_independent_20_1_1000_500.csv',\n",
       " 'rep23_gaussian1uniform1_independent_20_1_1000_500.csv',\n",
       " 'rep100_gaussian1gaussian1_independent_20_1_1000_10.csv',\n",
       " 'rep44_gaussian1gaussian1_independent_20_1_1000_100.csv',\n",
       " 'rep14_gaussian1uniform1_independent_20_1_1000_50.csv',\n",
       " 'rep72_gaussian1exponential1_independent_20_1_1000_500.csv',\n",
       " 'rep95_gaussian1uniform1_independent_20_1_1000_100.csv',\n",
       " 'rep60_gaussian1gaussian1_independent_20_1_1000_10.csv',\n",
       " 'rep87_gaussian1gaussian1_independent_20_1_1000_50.csv',\n",
       " 'rep3_gaussian1uniform1_independent_20_1_1000_10.csv',\n",
       " 'rep8_gaussian1uniform1_independent_20_1_1000_500.csv',\n",
       " 'rep25_gaussian1uniform1_independent_20_1_1000_100.csv',\n",
       " 'rep53_gaussian1exponential1_independent_20_1_1000_1000.csv',\n",
       " 'rep69_gaussian1uniform1_independent_20_1_1000_50.csv',\n",
       " 'rep12_gaussian1exponential1_independent_20_1_1000_10.csv',\n",
       " 'rep85_gaussian1uniform1_independent_20_1_1000_10.csv',\n",
       " 'rep67_gaussian1gaussian1_independent_20_1_1000_1000.csv',\n",
       " 'rep59_gaussian1uniform1_independent_20_1_1000_1000.csv',\n",
       " 'rep71_gaussian1gaussian1_independent_20_1_1000_500.csv',\n",
       " 'rep32_gaussian1gaussian1_independent_20_1_1000_100.csv',\n",
       " 'rep37_gaussian1gaussian1_independent_20_1_1000_1000.csv',\n",
       " 'rep43_gaussian1gaussian1_independent_20_1_1000_10.csv',\n",
       " 'rep27_gaussian1exponential1_independent_20_1_1000_500.csv',\n",
       " 'rep81_gaussian1exponential1_independent_20_1_1000_500.csv',\n",
       " 'rep45_gaussian1gaussian1_independent_20_1_1000_50.csv',\n",
       " 'rep29_gaussian1exponential1_independent_20_1_1000_10.csv',\n",
       " 'rep11_gaussian1uniform1_independent_20_1_1000_500.csv',\n",
       " 'rep76_gaussian1uniform1_independent_20_1_1000_50.csv',\n",
       " 'rep36_gaussian1gaussian1_independent_20_1_1000_1000.csv',\n",
       " 'rep63_gaussian1gaussian1_independent_20_1_1000_50.csv',\n",
       " 'rep23_gaussian1gaussian1_independent_20_1_1000_10.csv',\n",
       " 'rep73_gaussian1gaussian1_independent_20_1_1000_10.csv',\n",
       " 'rep3_gaussian1exponential1_independent_20_1_1000_50.csv',\n",
       " 'rep88_gaussian1exponential1_independent_20_1_1000_1000.csv',\n",
       " 'rep6_gaussian1exponential1_independent_20_1_1000_500.csv',\n",
       " 'rep36_gaussian1exponential1_independent_20_1_1000_10.csv',\n",
       " 'rep83_gaussian1uniform1_independent_20_1_1000_10.csv',\n",
       " 'rep16_gaussian1exponential1_independent_20_1_1000_10.csv',\n",
       " 'rep6_gaussian1exponential1_independent_20_1_1000_10.csv',\n",
       " 'rep39_gaussian1uniform1_independent_20_1_1000_50.csv',\n",
       " 'rep20_gaussian1uniform1_independent_20_1_1000_100.csv',\n",
       " 'rep63_gaussian1gaussian1_independent_20_1_1000_100.csv',\n",
       " 'rep46_gaussian1exponential1_independent_20_1_1000_1000.csv',\n",
       " 'rep32_gaussian1uniform1_independent_20_1_1000_500.csv',\n",
       " 'rep62_gaussian1exponential1_independent_20_1_1000_10.csv',\n",
       " 'rep32_gaussian1uniform1_independent_20_1_1000_1000.csv',\n",
       " 'rep1_gaussian1gaussian1_independent_20_1_1000_10.csv',\n",
       " 'rep75_gaussian1uniform1_independent_20_1_1000_10.csv',\n",
       " 'rep66_gaussian1gaussian1_independent_20_1_1000_50.csv',\n",
       " 'rep50_gaussian1exponential1_independent_20_1_1000_100.csv',\n",
       " 'rep37_gaussian1uniform1_independent_20_1_1000_50.csv',\n",
       " 'rep38_gaussian1uniform1_independent_20_1_1000_1000.csv',\n",
       " 'rep9_gaussian1uniform1_independent_20_1_1000_10.csv',\n",
       " 'rep24_gaussian1gaussian1_independent_20_1_1000_100.csv',\n",
       " 'rep21_gaussian1uniform1_independent_20_1_1000_1000.csv',\n",
       " 'rep20_gaussian1uniform1_independent_20_1_1000_50.csv',\n",
       " 'rep28_gaussian1uniform1_independent_20_1_1000_1000.csv',\n",
       " 'rep98_gaussian1uniform1_independent_20_1_1000_100.csv',\n",
       " 'rep12_gaussian1exponential1_independent_20_1_1000_50.csv',\n",
       " 'rep35_gaussian1exponential1_independent_20_1_1000_1000.csv',\n",
       " 'rep37_gaussian1gaussian1_independent_20_1_1000_500.csv',\n",
       " 'rep23_gaussian1uniform1_independent_20_1_1000_100.csv',\n",
       " 'rep47_gaussian1exponential1_independent_20_1_1000_10.csv',\n",
       " 'rep47_gaussian1gaussian1_independent_20_1_1000_500.csv',\n",
       " 'rep92_gaussian1uniform1_independent_20_1_1000_100.csv',\n",
       " 'rep94_gaussian1exponential1_independent_20_1_1000_1000.csv',\n",
       " 'rep77_gaussian1exponential1_independent_20_1_1000_500.csv',\n",
       " 'rep33_gaussian1gaussian1_independent_20_1_1000_100.csv',\n",
       " 'rep82_gaussian1exponential1_independent_20_1_1000_500.csv',\n",
       " 'rep40_gaussian1exponential1_independent_20_1_1000_500.csv',\n",
       " 'rep83_gaussian1exponential1_independent_20_1_1000_50.csv',\n",
       " 'rep87_gaussian1exponential1_independent_20_1_1000_10.csv',\n",
       " 'rep10_gaussian1uniform1_independent_20_1_1000_500.csv',\n",
       " 'rep43_gaussian1exponential1_independent_20_1_1000_500.csv',\n",
       " 'rep37_gaussian1gaussian1_independent_20_1_1000_50.csv',\n",
       " 'rep28_gaussian1exponential1_independent_20_1_1000_500.csv',\n",
       " 'rep50_gaussian1gaussian1_independent_20_1_1000_1000.csv',\n",
       " 'rep89_gaussian1exponential1_independent_20_1_1000_50.csv',\n",
       " 'rep97_gaussian1gaussian1_independent_20_1_1000_500.csv',\n",
       " 'rep84_gaussian1uniform1_independent_20_1_1000_500.csv',\n",
       " 'rep51_gaussian1exponential1_independent_20_1_1000_10.csv',\n",
       " 'rep80_gaussian1gaussian1_independent_20_1_1000_10.csv',\n",
       " 'rep54_gaussian1gaussian1_independent_20_1_1000_50.csv',\n",
       " 'rep97_gaussian1uniform1_independent_20_1_1000_1000.csv',\n",
       " 'rep76_gaussian1gaussian1_independent_20_1_1000_50.csv',\n",
       " 'rep49_gaussian1uniform1_independent_20_1_1000_500.csv',\n",
       " 'rep45_gaussian1gaussian1_independent_20_1_1000_1000.csv',\n",
       " 'rep85_gaussian1gaussian1_independent_20_1_1000_100.csv',\n",
       " 'rep95_gaussian1exponential1_independent_20_1_1000_100.csv',\n",
       " 'rep87_gaussian1exponential1_independent_20_1_1000_1000.csv',\n",
       " 'rep5_gaussian1gaussian1_independent_20_1_1000_10.csv',\n",
       " 'rep6_gaussian1uniform1_independent_20_1_1000_10.csv',\n",
       " 'rep30_gaussian1exponential1_independent_20_1_1000_100.csv',\n",
       " 'rep47_gaussian1exponential1_independent_20_1_1000_100.csv',\n",
       " 'rep96_gaussian1gaussian1_independent_20_1_1000_50.csv',\n",
       " 'rep85_gaussian1exponential1_independent_20_1_1000_100.csv',\n",
       " 'rep50_gaussian1uniform1_independent_20_1_1000_500.csv',\n",
       " 'rep84_gaussian1gaussian1_independent_20_1_1000_1000.csv',\n",
       " 'rep73_gaussian1exponential1_independent_20_1_1000_50.csv',\n",
       " 'rep55_gaussian1gaussian1_independent_20_1_1000_1000.csv',\n",
       " 'rep5_gaussian1exponential1_independent_20_1_1000_10.csv',\n",
       " 'rep8_gaussian1exponential1_independent_20_1_1000_1000.csv',\n",
       " 'rep39_gaussian1uniform1_independent_20_1_1000_500.csv',\n",
       " 'rep92_gaussian1exponential1_independent_20_1_1000_100.csv',\n",
       " 'rep48_gaussian1gaussian1_independent_20_1_1000_500.csv',\n",
       " 'rep50_gaussian1uniform1_independent_20_1_1000_50.csv',\n",
       " 'rep18_gaussian1uniform1_independent_20_1_1000_1000.csv',\n",
       " 'rep65_gaussian1uniform1_independent_20_1_1000_50.csv',\n",
       " 'rep97_gaussian1exponential1_independent_20_1_1000_10.csv',\n",
       " 'rep70_gaussian1gaussian1_independent_20_1_1000_500.csv',\n",
       " 'rep92_gaussian1exponential1_independent_20_1_1000_10.csv',\n",
       " 'rep97_gaussian1exponential1_independent_20_1_1000_50.csv',\n",
       " 'rep85_gaussian1uniform1_independent_20_1_1000_500.csv',\n",
       " 'rep91_gaussian1exponential1_independent_20_1_1000_500.csv',\n",
       " 'rep80_gaussian1exponential1_independent_20_1_1000_100.csv',\n",
       " 'rep77_gaussian1exponential1_independent_20_1_1000_1000.csv',\n",
       " 'rep79_gaussian1uniform1_independent_20_1_1000_1000.csv',\n",
       " 'rep90_gaussian1gaussian1_independent_20_1_1000_50.csv',\n",
       " 'rep70_gaussian1uniform1_independent_20_1_1000_10.csv',\n",
       " 'rep70_gaussian1gaussian1_independent_20_1_1000_10.csv',\n",
       " 'rep92_gaussian1gaussian1_independent_20_1_1000_500.csv',\n",
       " 'rep7_gaussian1gaussian1_independent_20_1_1000_500.csv',\n",
       " 'rep50_gaussian1uniform1_independent_20_1_1000_10.csv',\n",
       " 'rep20_gaussian1gaussian1_independent_20_1_1000_100.csv',\n",
       " 'rep31_gaussian1gaussian1_independent_20_1_1000_50.csv',\n",
       " 'rep54_gaussian1exponential1_independent_20_1_1000_100.csv',\n",
       " 'rep12_gaussian1uniform1_independent_20_1_1000_10.csv',\n",
       " 'rep1_gaussian1exponential1_independent_20_1_1000_500.csv',\n",
       " 'rep7_gaussian1gaussian1_independent_20_1_1000_10.csv',\n",
       " 'rep78_gaussian1gaussian1_independent_20_1_1000_50.csv',\n",
       " 'rep34_gaussian1exponential1_independent_20_1_1000_10.csv',\n",
       " 'rep63_gaussian1gaussian1_independent_20_1_1000_500.csv',\n",
       " 'rep39_gaussian1gaussian1_independent_20_1_1000_100.csv',\n",
       " 'rep52_gaussian1exponential1_independent_20_1_1000_50.csv',\n",
       " 'rep26_gaussian1uniform1_independent_20_1_1000_10.csv',\n",
       " 'rep28_gaussian1uniform1_independent_20_1_1000_10.csv',\n",
       " 'rep55_gaussian1uniform1_independent_20_1_1000_100.csv',\n",
       " 'rep52_gaussian1uniform1_independent_20_1_1000_10.csv',\n",
       " 'rep38_gaussian1uniform1_independent_20_1_1000_50.csv',\n",
       " 'rep89_gaussian1exponential1_independent_20_1_1000_100.csv',\n",
       " 'rep35_gaussian1exponential1_independent_20_1_1000_50.csv',\n",
       " 'rep45_gaussian1gaussian1_independent_20_1_1000_500.csv',\n",
       " 'rep29_gaussian1uniform1_independent_20_1_1000_100.csv',\n",
       " 'rep86_gaussian1uniform1_independent_20_1_1000_100.csv',\n",
       " 'rep6_gaussian1uniform1_independent_20_1_1000_500.csv',\n",
       " 'rep21_gaussian1gaussian1_independent_20_1_1000_100.csv',\n",
       " 'rep17_gaussian1gaussian1_independent_20_1_1000_50.csv',\n",
       " 'rep53_gaussian1uniform1_independent_20_1_1000_1000.csv',\n",
       " 'rep38_gaussian1uniform1_independent_20_1_1000_500.csv',\n",
       " 'rep88_gaussian1uniform1_independent_20_1_1000_10.csv',\n",
       " 'rep16_gaussian1uniform1_independent_20_1_1000_50.csv',\n",
       " 'rep46_gaussian1uniform1_independent_20_1_1000_500.csv',\n",
       " 'rep66_gaussian1gaussian1_independent_20_1_1000_100.csv',\n",
       " 'rep44_gaussian1gaussian1_independent_20_1_1000_1000.csv',\n",
       " 'rep36_gaussian1exponential1_independent_20_1_1000_50.csv',\n",
       " 'rep69_gaussian1uniform1_independent_20_1_1000_500.csv',\n",
       " 'rep72_gaussian1gaussian1_independent_20_1_1000_1000.csv',\n",
       " 'rep90_gaussian1uniform1_independent_20_1_1000_100.csv',\n",
       " 'rep4_gaussian1uniform1_independent_20_1_1000_50.csv',\n",
       " 'rep7_gaussian1uniform1_independent_20_1_1000_50.csv',\n",
       " 'rep46_gaussian1gaussian1_independent_20_1_1000_1000.csv',\n",
       " 'rep86_gaussian1exponential1_independent_20_1_1000_1000.csv',\n",
       " 'rep58_gaussian1exponential1_independent_20_1_1000_1000.csv',\n",
       " 'rep40_gaussian1gaussian1_independent_20_1_1000_1000.csv',\n",
       " 'rep38_gaussian1exponential1_independent_20_1_1000_10.csv',\n",
       " 'rep23_gaussian1uniform1_independent_20_1_1000_50.csv',\n",
       " 'rep68_gaussian1gaussian1_independent_20_1_1000_500.csv',\n",
       " 'rep78_gaussian1gaussian1_independent_20_1_1000_500.csv',\n",
       " 'rep88_gaussian1gaussian1_independent_20_1_1000_500.csv',\n",
       " 'rep50_gaussian1uniform1_independent_20_1_1000_100.csv',\n",
       " 'rep57_gaussian1gaussian1_independent_20_1_1000_500.csv',\n",
       " 'rep68_gaussian1uniform1_independent_20_1_1000_10.csv',\n",
       " 'rep54_gaussian1uniform1_independent_20_1_1000_100.csv',\n",
       " 'rep2_gaussian1uniform1_independent_20_1_1000_500.csv',\n",
       " 'rep9_gaussian1gaussian1_independent_20_1_1000_500.csv',\n",
       " 'rep77_gaussian1gaussian1_independent_20_1_1000_1000.csv',\n",
       " 'rep99_gaussian1exponential1_independent_20_1_1000_1000.csv',\n",
       " 'rep90_gaussian1exponential1_independent_20_1_1000_100.csv',\n",
       " 'rep87_gaussian1gaussian1_independent_20_1_1000_1000.csv',\n",
       " 'rep29_gaussian1gaussian1_independent_20_1_1000_500.csv',\n",
       " 'rep43_gaussian1exponential1_independent_20_1_1000_10.csv',\n",
       " 'rep96_gaussian1gaussian1_independent_20_1_1000_100.csv',\n",
       " 'rep86_gaussian1uniform1_independent_20_1_1000_1000.csv',\n",
       " 'rep92_gaussian1gaussian1_independent_20_1_1000_1000.csv',\n",
       " 'rep67_gaussian1uniform1_independent_20_1_1000_500.csv',\n",
       " 'rep91_gaussian1gaussian1_independent_20_1_1000_1000.csv',\n",
       " 'rep71_gaussian1gaussian1_independent_20_1_1000_10.csv',\n",
       " 'rep21_gaussian1uniform1_independent_20_1_1000_10.csv',\n",
       " 'rep2_gaussian1uniform1_independent_20_1_1000_100.csv',\n",
       " 'rep95_gaussian1exponential1_independent_20_1_1000_1000.csv',\n",
       " 'rep72_gaussian1exponential1_independent_20_1_1000_10.csv',\n",
       " 'rep54_gaussian1exponential1_independent_20_1_1000_500.csv',\n",
       " 'rep10_gaussian1gaussian1_independent_20_1_1000_10.csv',\n",
       " 'rep46_gaussian1uniform1_independent_20_1_1000_1000.csv',\n",
       " 'rep45_gaussian1exponential1_independent_20_1_1000_10.csv',\n",
       " 'rep88_gaussian1uniform1_independent_20_1_1000_500.csv',\n",
       " 'rep49_gaussian1uniform1_independent_20_1_1000_10.csv',\n",
       " 'rep12_gaussian1uniform1_independent_20_1_1000_500.csv',\n",
       " 'rep80_gaussian1uniform1_independent_20_1_1000_50.csv',\n",
       " 'rep83_gaussian1exponential1_independent_20_1_1000_10.csv',\n",
       " 'rep62_gaussian1gaussian1_independent_20_1_1000_10.csv',\n",
       " 'rep81_gaussian1uniform1_independent_20_1_1000_50.csv',\n",
       " 'rep34_gaussian1gaussian1_independent_20_1_1000_1000.csv',\n",
       " 'rep78_gaussian1gaussian1_independent_20_1_1000_100.csv',\n",
       " 'rep18_gaussian1uniform1_independent_20_1_1000_10.csv',\n",
       " 'rep89_gaussian1uniform1_independent_20_1_1000_10.csv',\n",
       " 'rep75_gaussian1uniform1_independent_20_1_1000_50.csv',\n",
       " 'rep19_gaussian1uniform1_independent_20_1_1000_100.csv',\n",
       " 'rep97_gaussian1gaussian1_independent_20_1_1000_10.csv',\n",
       " 'rep22_gaussian1exponential1_independent_20_1_1000_1000.csv',\n",
       " 'rep3_gaussian1gaussian1_independent_20_1_1000_1000.csv',\n",
       " 'rep54_gaussian1uniform1_independent_20_1_1000_1000.csv',\n",
       " 'rep70_gaussian1uniform1_independent_20_1_1000_1000.csv',\n",
       " 'rep59_gaussian1exponential1_independent_20_1_1000_100.csv',\n",
       " 'rep1_gaussian1gaussian1_independent_20_1_1000_500.csv',\n",
       " 'rep33_gaussian1gaussian1_independent_20_1_1000_500.csv',\n",
       " 'rep5_gaussian1exponential1_independent_20_1_1000_500.csv',\n",
       " 'rep100_gaussian1exponential1_independent_20_1_1000_100.csv',\n",
       " 'rep51_gaussian1gaussian1_independent_20_1_1000_1000.csv',\n",
       " 'rep70_gaussian1uniform1_independent_20_1_1000_50.csv',\n",
       " 'rep92_gaussian1uniform1_independent_20_1_1000_500.csv',\n",
       " 'rep44_gaussian1uniform1_independent_20_1_1000_1000.csv',\n",
       " 'rep47_gaussian1gaussian1_independent_20_1_1000_100.csv',\n",
       " 'rep36_gaussian1gaussian1_independent_20_1_1000_500.csv',\n",
       " 'rep85_gaussian1uniform1_independent_20_1_1000_100.csv',\n",
       " 'rep27_gaussian1exponential1_independent_20_1_1000_100.csv',\n",
       " 'rep98_gaussian1gaussian1_independent_20_1_1000_100.csv',\n",
       " 'rep74_gaussian1exponential1_independent_20_1_1000_10.csv',\n",
       " 'rep57_gaussian1gaussian1_independent_20_1_1000_10.csv',\n",
       " 'rep3_gaussian1exponential1_independent_20_1_1000_10.csv',\n",
       " 'rep27_gaussian1gaussian1_independent_20_1_1000_100.csv',\n",
       " 'rep26_gaussian1exponential1_independent_20_1_1000_500.csv',\n",
       " 'rep36_gaussian1exponential1_independent_20_1_1000_100.csv',\n",
       " 'rep16_gaussian1gaussian1_independent_20_1_1000_1000.csv',\n",
       " 'rep38_gaussian1gaussian1_independent_20_1_1000_100.csv',\n",
       " 'rep66_gaussian1gaussian1_independent_20_1_1000_1000.csv',\n",
       " 'rep15_gaussian1exponential1_independent_20_1_1000_10.csv',\n",
       " 'rep71_gaussian1exponential1_independent_20_1_1000_100.csv',\n",
       " 'rep68_gaussian1exponential1_independent_20_1_1000_10.csv',\n",
       " 'rep44_gaussian1uniform1_independent_20_1_1000_10.csv',\n",
       " 'rep91_gaussian1gaussian1_independent_20_1_1000_500.csv',\n",
       " 'rep29_gaussian1gaussian1_independent_20_1_1000_10.csv',\n",
       " 'rep42_gaussian1uniform1_independent_20_1_1000_10.csv',\n",
       " 'rep11_gaussian1exponential1_independent_20_1_1000_50.csv',\n",
       " 'rep54_gaussian1gaussian1_independent_20_1_1000_10.csv',\n",
       " 'rep58_gaussian1exponential1_independent_20_1_1000_100.csv',\n",
       " 'rep97_gaussian1uniform1_independent_20_1_1000_500.csv',\n",
       " 'rep74_gaussian1exponential1_independent_20_1_1000_100.csv',\n",
       " 'rep17_gaussian1uniform1_independent_20_1_1000_500.csv',\n",
       " 'rep37_gaussian1uniform1_independent_20_1_1000_1000.csv',\n",
       " 'rep61_gaussian1gaussian1_independent_20_1_1000_500.csv',\n",
       " 'rep28_gaussian1exponential1_independent_20_1_1000_10.csv',\n",
       " 'rep13_gaussian1gaussian1_independent_20_1_1000_100.csv',\n",
       " 'rep26_gaussian1gaussian1_independent_20_1_1000_10.csv',\n",
       " 'rep42_gaussian1gaussian1_independent_20_1_1000_100.csv',\n",
       " 'rep95_gaussian1gaussian1_independent_20_1_1000_500.csv',\n",
       " 'rep5_gaussian1uniform1_independent_20_1_1000_10.csv',\n",
       " 'rep38_gaussian1gaussian1_independent_20_1_1000_1000.csv',\n",
       " 'rep26_gaussian1gaussian1_independent_20_1_1000_1000.csv',\n",
       " 'rep92_gaussian1exponential1_independent_20_1_1000_50.csv',\n",
       " 'rep24_gaussian1gaussian1_independent_20_1_1000_500.csv',\n",
       " 'rep61_gaussian1exponential1_independent_20_1_1000_50.csv',\n",
       " 'rep38_gaussian1exponential1_independent_20_1_1000_1000.csv',\n",
       " 'rep56_gaussian1uniform1_independent_20_1_1000_100.csv',\n",
       " 'rep25_gaussian1exponential1_independent_20_1_1000_500.csv',\n",
       " 'rep88_gaussian1uniform1_independent_20_1_1000_50.csv',\n",
       " 'rep95_gaussian1gaussian1_independent_20_1_1000_10.csv',\n",
       " 'rep46_gaussian1uniform1_independent_20_1_1000_50.csv',\n",
       " 'rep60_gaussian1gaussian1_independent_20_1_1000_100.csv',\n",
       " 'rep32_gaussian1gaussian1_independent_20_1_1000_10.csv',\n",
       " 'rep45_gaussian1uniform1_independent_20_1_1000_1000.csv',\n",
       " 'rep5_gaussian1exponential1_independent_20_1_1000_1000.csv',\n",
       " 'rep72_gaussian1gaussian1_independent_20_1_1000_50.csv',\n",
       " 'rep65_gaussian1exponential1_independent_20_1_1000_50.csv',\n",
       " 'rep4_gaussian1gaussian1_independent_20_1_1000_100.csv',\n",
       " 'rep9_gaussian1uniform1_independent_20_1_1000_50.csv',\n",
       " 'rep66_gaussian1uniform1_independent_20_1_1000_100.csv',\n",
       " 'rep68_gaussian1exponential1_independent_20_1_1000_1000.csv',\n",
       " 'rep11_gaussian1gaussian1_independent_20_1_1000_10.csv',\n",
       " 'rep4_gaussian1gaussian1_independent_20_1_1000_50.csv',\n",
       " 'rep65_gaussian1exponential1_independent_20_1_1000_500.csv',\n",
       " 'rep47_gaussian1gaussian1_independent_20_1_1000_1000.csv',\n",
       " 'rep50_gaussian1exponential1_independent_20_1_1000_500.csv',\n",
       " 'rep82_gaussian1exponential1_independent_20_1_1000_1000.csv',\n",
       " 'rep65_gaussian1gaussian1_independent_20_1_1000_100.csv',\n",
       " 'rep28_gaussian1uniform1_independent_20_1_1000_500.csv',\n",
       " 'rep17_gaussian1exponential1_independent_20_1_1000_100.csv',\n",
       " 'rep98_gaussian1exponential1_independent_20_1_1000_100.csv',\n",
       " 'rep46_gaussian1uniform1_independent_20_1_1000_100.csv',\n",
       " 'rep36_gaussian1gaussian1_independent_20_1_1000_50.csv',\n",
       " 'rep32_gaussian1gaussian1_independent_20_1_1000_1000.csv',\n",
       " 'rep61_gaussian1gaussian1_independent_20_1_1000_100.csv',\n",
       " 'rep82_gaussian1uniform1_independent_20_1_1000_100.csv',\n",
       " 'rep90_gaussian1exponential1_independent_20_1_1000_1000.csv',\n",
       " 'rep99_gaussian1exponential1_independent_20_1_1000_10.csv',\n",
       " 'rep65_gaussian1uniform1_independent_20_1_1000_500.csv',\n",
       " 'rep84_gaussian1exponential1_independent_20_1_1000_500.csv',\n",
       " 'rep7_gaussian1exponential1_independent_20_1_1000_100.csv',\n",
       " 'rep51_gaussian1gaussian1_independent_20_1_1000_50.csv',\n",
       " 'rep93_gaussian1uniform1_independent_20_1_1000_500.csv',\n",
       " 'rep66_gaussian1exponential1_independent_20_1_1000_1000.csv',\n",
       " 'rep11_gaussian1exponential1_independent_20_1_1000_10.csv',\n",
       " 'rep73_gaussian1exponential1_independent_20_1_1000_100.csv',\n",
       " 'rep81_gaussian1exponential1_independent_20_1_1000_10.csv',\n",
       " 'rep85_gaussian1gaussian1_independent_20_1_1000_1000.csv',\n",
       " 'rep78_gaussian1uniform1_independent_20_1_1000_500.csv',\n",
       " 'rep87_gaussian1uniform1_independent_20_1_1000_10.csv',\n",
       " 'rep92_gaussian1gaussian1_independent_20_1_1000_10.csv',\n",
       " 'rep22_gaussian1exponential1_independent_20_1_1000_100.csv',\n",
       " 'rep38_gaussian1gaussian1_independent_20_1_1000_50.csv',\n",
       " 'rep39_gaussian1uniform1_independent_20_1_1000_10.csv',\n",
       " 'rep18_gaussian1exponential1_independent_20_1_1000_50.csv',\n",
       " 'rep86_gaussian1gaussian1_independent_20_1_1000_1000.csv',\n",
       " 'rep15_gaussian1exponential1_independent_20_1_1000_100.csv',\n",
       " 'rep50_gaussian1gaussian1_independent_20_1_1000_10.csv',\n",
       " 'rep14_gaussian1exponential1_independent_20_1_1000_500.csv',\n",
       " 'rep81_gaussian1gaussian1_independent_20_1_1000_500.csv',\n",
       " 'rep100_gaussian1uniform1_independent_20_1_1000_100.csv',\n",
       " 'rep13_gaussian1exponential1_independent_20_1_1000_10.csv',\n",
       " 'rep62_gaussian1gaussian1_independent_20_1_1000_1000.csv',\n",
       " 'rep84_gaussian1exponential1_independent_20_1_1000_1000.csv',\n",
       " 'rep44_gaussian1uniform1_independent_20_1_1000_500.csv',\n",
       " 'rep3_gaussian1exponential1_independent_20_1_1000_100.csv',\n",
       " 'rep73_gaussian1gaussian1_independent_20_1_1000_50.csv',\n",
       " 'rep63_gaussian1uniform1_independent_20_1_1000_10.csv',\n",
       " 'rep17_gaussian1exponential1_independent_20_1_1000_10.csv',\n",
       " 'rep83_gaussian1exponential1_independent_20_1_1000_1000.csv',\n",
       " 'rep99_gaussian1exponential1_independent_20_1_1000_500.csv',\n",
       " 'rep2_gaussian1exponential1_independent_20_1_1000_100.csv',\n",
       " 'rep30_gaussian1uniform1_independent_20_1_1000_50.csv',\n",
       " 'rep63_gaussian1uniform1_independent_20_1_1000_500.csv',\n",
       " 'rep29_gaussian1exponential1_independent_20_1_1000_500.csv',\n",
       " 'rep14_gaussian1exponential1_independent_20_1_1000_100.csv',\n",
       " 'rep11_gaussian1gaussian1_independent_20_1_1000_500.csv',\n",
       " 'rep77_gaussian1uniform1_independent_20_1_1000_500.csv',\n",
       " 'rep66_gaussian1exponential1_independent_20_1_1000_10.csv',\n",
       " 'rep84_gaussian1gaussian1_independent_20_1_1000_50.csv',\n",
       " 'rep9_gaussian1gaussian1_independent_20_1_1000_50.csv',\n",
       " 'rep94_gaussian1gaussian1_independent_20_1_1000_500.csv',\n",
       " 'rep24_gaussian1exponential1_independent_20_1_1000_100.csv',\n",
       " 'rep11_gaussian1uniform1_independent_20_1_1000_50.csv',\n",
       " 'rep73_gaussian1gaussian1_independent_20_1_1000_500.csv',\n",
       " 'rep4_gaussian1gaussian1_independent_20_1_1000_500.csv',\n",
       " 'rep45_gaussian1uniform1_independent_20_1_1000_50.csv',\n",
       " 'rep16_gaussian1uniform1_independent_20_1_1000_10.csv',\n",
       " 'rep70_gaussian1exponential1_independent_20_1_1000_50.csv',\n",
       " 'rep59_gaussian1gaussian1_independent_20_1_1000_500.csv',\n",
       " 'rep9_gaussian1exponential1_independent_20_1_1000_500.csv',\n",
       " 'rep11_gaussian1exponential1_independent_20_1_1000_500.csv',\n",
       " 'rep90_gaussian1exponential1_independent_20_1_1000_50.csv',\n",
       " 'rep16_gaussian1gaussian1_independent_20_1_1000_100.csv',\n",
       " ...]"
      ]
     },
     "execution_count": 35,
     "metadata": {},
     "output_type": "execute_result"
    }
   ],
   "source": [
    "files = os.listdir(folder)\n",
    "files"
   ]
  },
  {
   "cell_type": "code",
   "execution_count": 36,
   "id": "7d07dec3",
   "metadata": {},
   "outputs": [
    {
     "data": {
      "text/plain": [
       "'rep55_gaussian1gaussian1_independent_20_1_1000_500.csv'"
      ]
     },
     "execution_count": 36,
     "metadata": {},
     "output_type": "execute_result"
    }
   ],
   "source": [
    "file = files[2]\n",
    "file"
   ]
  },
  {
   "cell_type": "code",
   "execution_count": 37,
   "id": "af50c126",
   "metadata": {},
   "outputs": [],
   "source": [
    "#file = \"rep57_gaussian1exponential1_independent_20_1_50_1000.csv\""
   ]
  },
  {
   "cell_type": "code",
   "execution_count": 38,
   "id": "250208b0",
   "metadata": {},
   "outputs": [],
   "source": [
    "x, y, Z, U, meta, idxs, beta_real, stds = readFile(folder, file)"
   ]
  },
  {
   "cell_type": "code",
   "execution_count": null,
   "id": "c6eaa4e7",
   "metadata": {},
   "outputs": [],
   "source": []
  },
  {
   "cell_type": "code",
   "execution_count": 39,
   "id": "fe6033be",
   "metadata": {},
   "outputs": [
    {
     "data": {
      "text/plain": [
       "20"
      ]
     },
     "execution_count": 39,
     "metadata": {},
     "output_type": "execute_result"
    }
   ],
   "source": [
    "meta[\"latents\"]"
   ]
  },
  {
   "cell_type": "code",
   "execution_count": 40,
   "id": "4d25c967",
   "metadata": {},
   "outputs": [
    {
     "data": {
      "text/plain": [
       "500"
      ]
     },
     "execution_count": 40,
     "metadata": {},
     "output_type": "execute_result"
    }
   ],
   "source": [
    "meta[\"size\"]"
   ]
  },
  {
   "cell_type": "code",
   "execution_count": 41,
   "id": "6e2c4951",
   "metadata": {},
   "outputs": [
    {
     "name": "stderr",
     "output_type": "stream",
     "text": [
      "/home/emiliano/anaconda3/lib/python3.7/site-packages/sklearn/decomposition/_fastica.py:120: ConvergenceWarning: FastICA did not converge. Consider increasing tolerance or the maximum number of iterations.\n",
      "  ConvergenceWarning)\n"
     ]
    },
    {
     "data": {
      "text/plain": [
       "DeviceArray([0., 0.], dtype=float32)"
      ]
     },
     "execution_count": 41,
     "metadata": {},
     "output_type": "execute_result"
    }
   ],
   "source": [
    "transformer = FastICA(n_components=meta[\"latents\"],random_state=0,whiten='unit-variance')\n",
    "X_transformed = transformer.fit_transform(onp.array(U))\n",
    "pvalsy = [sm.OLS(onp.array(y), sm.add_constant(onp.hstack([x, X_transformed[:,i][:,None]]))).fit().pvalues[2] for i in range(X_transformed.shape[1])]\n",
    "pvalsx = [sm.OLS(onp.array(x), sm.add_constant(X_transformed[:,i][:,None])).fit().pvalues[1] for i in range(X_transformed.shape[1])]\n",
    "pvals = np.array([pvalsx, pvalsy])\n",
    "sumpvals = onp.apply_along_axis(np.sum, 0, pvals)\n",
    "indxMin = onp.argmin(sumpvals)\n",
    "sumpvals[indxMin]\n",
    "pvals[:,indxMin]"
   ]
  },
  {
   "cell_type": "code",
   "execution_count": 42,
   "id": "cd506bf0",
   "metadata": {},
   "outputs": [
    {
     "data": {
      "text/plain": [
       "(500, 1000)"
      ]
     },
     "execution_count": 42,
     "metadata": {},
     "output_type": "execute_result"
    }
   ],
   "source": [
    "U.shape"
   ]
  },
  {
   "cell_type": "code",
   "execution_count": 43,
   "id": "25d60015",
   "metadata": {},
   "outputs": [
    {
     "data": {
      "text/plain": [
       "(5,)"
      ]
     },
     "execution_count": 43,
     "metadata": {},
     "output_type": "execute_result"
    }
   ],
   "source": [
    "np.ones(5).shape"
   ]
  },
  {
   "cell_type": "code",
   "execution_count": 44,
   "id": "b7d82abe",
   "metadata": {},
   "outputs": [
    {
     "data": {
      "text/plain": [
       "(500, 20)"
      ]
     },
     "execution_count": 44,
     "metadata": {},
     "output_type": "execute_result"
    }
   ],
   "source": [
    "X_transformed.shape"
   ]
  },
  {
   "cell_type": "code",
   "execution_count": 45,
   "id": "ec32001e",
   "metadata": {},
   "outputs": [
    {
     "data": {
      "text/plain": [
       "1"
      ]
     },
     "execution_count": 45,
     "metadata": {},
     "output_type": "execute_result"
    }
   ],
   "source": [
    "indxMin"
   ]
  },
  {
   "cell_type": "code",
   "execution_count": 46,
   "id": "f250dc2a",
   "metadata": {},
   "outputs": [
    {
     "data": {
      "text/plain": [
       "{'rep': '100',\n",
       " 'latents': 20,\n",
       " 'confounder': 1,\n",
       " 'proxy': 1000,\n",
       " 'dist': 'gaussian',\n",
       " 'distsd': '1',\n",
       " 'noise': 'gaussian',\n",
       " 'noisesd': 1.0,\n",
       " 'independent': True,\n",
       " 'noiseproxy': 1,\n",
       " 'outdir': 'data_noisyproxy2',\n",
       " 'ncl': 1,\n",
       " 'size': 500,\n",
       " 'ix': [9, 5, 18, 8, 4, 19],\n",
       " 'iy': [2, 1, 13, 16, 3, 10],\n",
       " 'ic': 20,\n",
       " 'causal_coeff': 1.28520154347643,\n",
       " 'coefx': [1.30660433368757,\n",
       "  0.594351336127147,\n",
       "  1.4071696435567,\n",
       "  0.543512439820915,\n",
       "  1.07543691410683,\n",
       "  1.47539009526372,\n",
       "  0.742164299124852],\n",
       " 'coefy': [1.03866463666782,\n",
       "  1.43202139018103,\n",
       "  1.06534445844591,\n",
       "  0.845704484265298,\n",
       "  0.739768077386543,\n",
       "  0.602315629832447,\n",
       "  1.30118575179949]}"
      ]
     },
     "execution_count": 46,
     "metadata": {},
     "output_type": "execute_result"
    }
   ],
   "source": [
    "meta"
   ]
  },
  {
   "cell_type": "code",
   "execution_count": 47,
   "id": "a8276c13",
   "metadata": {
    "scrolled": true
   },
   "outputs": [
    {
     "name": "stdout",
     "output_type": "stream",
     "text": [
      "[0, 2, 3, 4, 5, 6, 7, 8, 9, 10, 11, 12, 13, 14, 15, 16, 17, 18, 19]\n"
     ]
    }
   ],
   "source": [
    "idx_all = onp.arange(0, X_transformed.shape[1])\n",
    "idx_rest  = list(set(idx_all).difference(set([indxMin])))\n",
    "print(idx_rest)\n"
   ]
  },
  {
   "cell_type": "code",
   "execution_count": 48,
   "id": "2c81e444",
   "metadata": {},
   "outputs": [
    {
     "name": "stdout",
     "output_type": "stream",
     "text": [
      "pvals_restx:  [0.    0.    0.    0.    0.    0.    0.    0.    0.    0.    0.244 0.\n",
      " 0.055 0.    0.    0.    0.    0.    0.003]\n",
      "pvals_resty:  [0.    0.    0.    0.324 0.    0.    0.419 0.    0.239 0.018 0.    0.\n",
      " 0.    0.458 0.    0.001 0.528 0.029 0.   ]\n",
      "[ 0  2  3  5  6  8 10 11 12 13 15 16 18 19]\n",
      "[ 0  2  3  4  5  6  7  8  9 10 12 14 15 16 17 18 19]\n",
      "{0, 2, 3, 5, 6, 8, 10, 12, 15, 16, 18, 19}\n",
      "(500, 19)\n"
     ]
    }
   ],
   "source": [
    "pvals_resty = sm.OLS(onp.array(y), sm.add_constant(onp.hstack([x, X_transformed[:,indxMin][:,None] ,X_transformed[:,idx_rest]] ))).fit().pvalues\n",
    "pvals_resty = pvals_resty[3:(pvals_resty.shape[0])]\n",
    "\n",
    "pvals_restx = sm.OLS(onp.array(x), sm.add_constant(onp.hstack([X_transformed[:,indxMin][:,None] ,X_transformed[:,idx_rest]] ))).fit().pvalues\n",
    "pvals_restx = pvals_restx[2:(pvals_restx.shape[0])]\n",
    "\n",
    "print(\"pvals_restx: \", pvals_restx)\n",
    "print(\"pvals_resty: \", pvals_resty)\n",
    "\n",
    "#idx_y_c, = onp.where( (pvals_resty<pvals_restx)&(pvals_resty<0.05)&(pvals_restx>0.2))\n",
    "idx_y_c, = onp.where( (pvals_resty<0.05))\n",
    "idx_y_c = onp.array(idx_rest)[idx_y_c]\n",
    "print(idx_y_c)\n",
    "#idx_x_c, = onp.where( (pvals_resty>pvals_restx)&(pvals_restx<0.05)&(pvals_resty>0.2))\n",
    "idx_x_c, = onp.where((pvals_restx<0.05))\n",
    "idx_x_c = onp.array(idx_rest)[idx_x_c]\n",
    "print(idx_x_c)\n",
    "print(set(idx_x_c).intersection(idx_y_c))\n",
    "\n",
    "X_transformed_x = X_transformed[:,idx_x_c]\n",
    "X_transformed_y = X_transformed[:,idx_y_c]\n",
    "p_x = X_transformed_x.shape[1]\n",
    "p_y = X_transformed_y.shape[1]\n",
    "\n",
    "ymodel = sm.OLS(onp.array(y), sm.add_constant(onp.hstack([x, X_transformed[:,indxMin][:,None] ,X_transformed_y] ))).fit()\n",
    "alpha_y_ini = ymodel.params[3:(ymodel.params.shape[0])]\n",
    "\n",
    "X_transformed_x2 = sm.add_constant(onp.hstack([X_transformed[:,indxMin][:,None] ,X_transformed_x] ))\n",
    "print(X_transformed_x2.shape)\n",
    "xmodel = sm.OLS(onp.array(y), X_transformed_x2).fit()\n",
    "alpha_x_ini = xmodel.params[2:(xmodel.params.shape[0])]\n",
    "\n",
    "zx_ini = (X_transformed_x@alpha_x_ini)[:,None]\n",
    "zy_ini = (X_transformed_y@alpha_y_ini)[:,None]\n",
    "\n",
    "\n"
   ]
  },
  {
   "cell_type": "code",
   "execution_count": 49,
   "id": "4d8a6ded",
   "metadata": {},
   "outputs": [
    {
     "data": {
      "text/plain": [
       "array([ 0,  1,  2,  3,  4,  5,  6,  7,  8,  9, 10, 11, 12, 13, 14, 15, 16,\n",
       "       17, 18, 19])"
      ]
     },
     "execution_count": 49,
     "metadata": {},
     "output_type": "execute_result"
    }
   ],
   "source": [
    "idx_all"
   ]
  },
  {
   "cell_type": "code",
   "execution_count": 50,
   "id": "459b091c",
   "metadata": {},
   "outputs": [
    {
     "data": {
      "text/plain": [
       "array([ 0,  2,  3,  4,  5,  6,  7,  8,  9, 10, 12, 14, 15, 16, 17, 18, 19])"
      ]
     },
     "execution_count": 50,
     "metadata": {},
     "output_type": "execute_result"
    }
   ],
   "source": [
    "idx_x_c"
   ]
  },
  {
   "cell_type": "code",
   "execution_count": 51,
   "id": "9a68833a",
   "metadata": {},
   "outputs": [
    {
     "name": "stderr",
     "output_type": "stream",
     "text": [
      "/home/emiliano/anaconda3/lib/python3.7/site-packages/jax/lax/lax.py:5946: UserWarning: Explicitly requested dtype <class 'int'> requested in array is not available, and will be truncated to dtype int32. To enable more dtypes, set the jax_enable_x64 configuration option or the JAX_ENABLE_X64 shell environment variable. See https://github.com/google/jax#current-gotchas for more.\n",
      "  warnings.warn(msg.format(dtype, fun_name , truncated_dtype))\n"
     ]
    },
    {
     "data": {
      "text/plain": [
       "array([ 3.964,  0.   , -1.056,  3.694, -2.86 , -8.322,  5.093, -2.437,\n",
       "       -8.339, -3.077, -2.177,  0.   , -0.356,  0.   ,  8.759, -2.318,\n",
       "        1.565,  2.445,  4.045,  0.723])"
      ]
     },
     "execution_count": 51,
     "metadata": {},
     "output_type": "execute_result"
    }
   ],
   "source": [
    "one_hot_x = onp.zeros(X_transformed.shape[1])\n",
    "one_hot_x[idx_x_c] = 1\n",
    "one_hot_x = np.array(one_hot_x, dtype=int)\n",
    "alpha_x_ini2 = onp.zeros(X_transformed.shape[1])\n",
    "alpha_x_ini2[idx_x_c] = alpha_x_ini\n",
    "alpha_x_ini2"
   ]
  },
  {
   "cell_type": "code",
   "execution_count": 52,
   "id": "a1d71056",
   "metadata": {},
   "outputs": [
    {
     "data": {
      "text/plain": [
       "20"
      ]
     },
     "execution_count": 52,
     "metadata": {},
     "output_type": "execute_result"
    }
   ],
   "source": [
    "p_ica = X_transformed.shape[1]\n",
    "p_ica"
   ]
  },
  {
   "cell_type": "code",
   "execution_count": 53,
   "id": "8a9b148f",
   "metadata": {},
   "outputs": [],
   "source": [
    "reps = 5\n",
    "alpha_x_ini = onp.zeros((p_ica, p_ica,reps))\n",
    "alpha_x_ini[idx_x_c, idx_x_c,:] = 1\n",
    "alpha_x_ini = alpha_x_ini[:,idx_x_c,:]\n",
    "alpha_x_ini = np.array(alpha_x_ini)\n",
    "    \n",
    "alpha_y_ini = onp.zeros((p_ica, p_ica, reps))\n",
    "alpha_y_ini[idx_y_c, idx_y_c,:] = 1\n",
    "alpha_y_ini = alpha_y_ini[:,idx_y_c,:]\n",
    "alpha_y_ini = np.array(alpha_y_ini)\n"
   ]
  },
  {
   "cell_type": "code",
   "execution_count": 54,
   "id": "267216c9",
   "metadata": {},
   "outputs": [
    {
     "data": {
      "text/plain": [
       "(20, 17, 1)"
      ]
     },
     "execution_count": 54,
     "metadata": {},
     "output_type": "execute_result"
    }
   ],
   "source": [
    "alpha_x_ini[:,:,0][:,:,None].shape"
   ]
  },
  {
   "cell_type": "code",
   "execution_count": 55,
   "id": "17a508e3",
   "metadata": {},
   "outputs": [
    {
     "data": {
      "text/plain": [
       "(20, 17, 4)"
      ]
     },
     "execution_count": 55,
     "metadata": {},
     "output_type": "execute_result"
    }
   ],
   "source": [
    "(alpha_x_ini[:,:,0][:,:,None]*np.ones(4)).shape"
   ]
  },
  {
   "cell_type": "code",
   "execution_count": 56,
   "id": "f0ccb2fa",
   "metadata": {},
   "outputs": [
    {
     "data": {
      "text/plain": [
       "(500, 20)"
      ]
     },
     "execution_count": 56,
     "metadata": {},
     "output_type": "execute_result"
    }
   ],
   "source": [
    "U_ica = X_transformed\n",
    "U_ica.shape"
   ]
  },
  {
   "cell_type": "code",
   "execution_count": 57,
   "id": "8e12f80e",
   "metadata": {},
   "outputs": [],
   "source": [
    "def myNpDot(x,y):\n",
    "    print(x.shape)\n",
    "    print(y.shape)\n",
    "    res = np.dot(x,y)\n",
    "    print(res.shape)\n",
    "    #print(res)\n",
    "    return res"
   ]
  },
  {
   "cell_type": "code",
   "execution_count": 58,
   "id": "54667f3a",
   "metadata": {},
   "outputs": [
    {
     "data": {
      "text/plain": [
       "array([[ 0.065,  0.016, -0.005, ..., -0.042,  0.069,  0.001],\n",
       "       [-0.031,  0.017,  0.028, ..., -0.022, -0.055, -0.004],\n",
       "       [ 0.038,  0.016,  0.01 , ...,  0.027,  0.014,  0.102],\n",
       "       ...,\n",
       "       [ 0.057, -0.002, -0.023, ...,  0.113,  0.   ,  0.007],\n",
       "       [-0.151,  0.019,  0.063, ...,  0.021, -0.011,  0.015],\n",
       "       [-0.006, -0.004, -0.036, ...,  0.043, -0.076,  0.063]])"
      ]
     },
     "execution_count": 58,
     "metadata": {},
     "output_type": "execute_result"
    }
   ],
   "source": [
    "U_ica"
   ]
  },
  {
   "cell_type": "code",
   "execution_count": 59,
   "id": "c0188c92",
   "metadata": {},
   "outputs": [
    {
     "data": {
      "text/plain": [
       "(500, 17, 5)"
      ]
     },
     "execution_count": 59,
     "metadata": {},
     "output_type": "execute_result"
    }
   ],
   "source": [
    "#jax.vmap(np.dot,U_ica,alpha_x_ini)\n",
    "map1 = jax.vmap(lambda x, y: np.dot(x,y), in_axes=(None,2), out_axes=2)\n",
    "zx_ini = map1(U_ica, alpha_x_ini)\n",
    "zx_ini.shape"
   ]
  },
  {
   "cell_type": "code",
   "execution_count": 60,
   "id": "6d6442a4",
   "metadata": {},
   "outputs": [
    {
     "name": "stderr",
     "output_type": "stream",
     "text": [
      "/home/emiliano/anaconda3/lib/python3.7/site-packages/jax/lax/lax.py:5946: UserWarning: Explicitly requested dtype <class 'int'> requested in linspace is not available, and will be truncated to dtype int32. To enable more dtypes, set the jax_enable_x64 configuration option or the JAX_ENABLE_X64 shell environment variable. See https://github.com/google/jax#current-gotchas for more.\n",
      "  warnings.warn(msg.format(dtype, fun_name , truncated_dtype))\n"
     ]
    }
   ],
   "source": [
    "p = 5\n",
    "idx_rows = np.linspace(0, p - 1, p, dtype=int)[:, None]\n",
    "idx_cols = np.linspace(0, p - 1, p, dtype=int)[None,:] \n",
    "rep = 3\n",
    "idx_3d = np.array(rep)[None, None]\n",
    "idx = jax.ops.index[tuple([idx_rows, idx_cols, idx_3d])]"
   ]
  },
  {
   "cell_type": "code",
   "execution_count": 61,
   "id": "9f20ce9c",
   "metadata": {},
   "outputs": [
    {
     "data": {
      "text/plain": [
       "DeviceArray([[ 0.065, -0.005, -0.041,  0.011, -0.055],\n",
       "             [-0.031,  0.028,  0.048,  0.049, -0.055],\n",
       "             [ 0.038,  0.01 ,  0.03 , -0.028,  0.039],\n",
       "             [ 0.024, -0.085, -0.01 ,  0.034,  0.017],\n",
       "             [ 0.05 ,  0.011,  0.034, -0.05 , -0.048]], dtype=float32)"
      ]
     },
     "execution_count": 61,
     "metadata": {},
     "output_type": "execute_result"
    }
   ],
   "source": [
    "zx_ini[idx]"
   ]
  },
  {
   "cell_type": "code",
   "execution_count": 62,
   "id": "fd91b706",
   "metadata": {},
   "outputs": [
    {
     "data": {
      "text/plain": [
       "DeviceArray([[ 0.065, -0.005, -0.041,  0.011, -0.055],\n",
       "             [-0.031,  0.028,  0.048,  0.049, -0.055],\n",
       "             [ 0.038,  0.01 ,  0.03 , -0.028,  0.039],\n",
       "             [ 0.024, -0.085, -0.01 ,  0.034,  0.017],\n",
       "             [ 0.05 ,  0.011,  0.034, -0.05 , -0.048]], dtype=float32)"
      ]
     },
     "execution_count": 62,
     "metadata": {},
     "output_type": "execute_result"
    }
   ],
   "source": [
    "zx_ini[0:5,0:5,3]"
   ]
  },
  {
   "cell_type": "code",
   "execution_count": 63,
   "id": "a1206296",
   "metadata": {},
   "outputs": [
    {
     "data": {
      "text/plain": [
       "DeviceArray([0], dtype=int32)"
      ]
     },
     "execution_count": 63,
     "metadata": {},
     "output_type": "execute_result"
    }
   ],
   "source": [
    "p = 1\n",
    "np.linspace(0, p - 1, p, dtype=int)"
   ]
  },
  {
   "cell_type": "code",
   "execution_count": 64,
   "id": "b3a8c644",
   "metadata": {},
   "outputs": [],
   "source": [
    "alpha_x_ini = onp.zeros((p_ica, p_ica))\n",
    "alpha_x_ini[idx_x_c, idx_x_c] = 1\n",
    "alpha_x_ini = alpha_x_ini[:,idx_x_c]\n",
    "alpha_x_ini = np.array(alpha_x_ini)"
   ]
  },
  {
   "cell_type": "code",
   "execution_count": 65,
   "id": "b8a494a4",
   "metadata": {},
   "outputs": [],
   "source": [
    "zx_ini = X_transformed@alpha_x_ini"
   ]
  },
  {
   "cell_type": "code",
   "execution_count": 66,
   "id": "c7dfeb5b",
   "metadata": {},
   "outputs": [
    {
     "data": {
      "text/plain": [
       "(500, 17)"
      ]
     },
     "execution_count": 66,
     "metadata": {},
     "output_type": "execute_result"
    }
   ],
   "source": [
    "np.array([stdrze(zx_ini[:,i]) for i in range(zx_ini.shape[1])]).T.shape"
   ]
  },
  {
   "cell_type": "code",
   "execution_count": 67,
   "id": "c490497c",
   "metadata": {},
   "outputs": [
    {
     "data": {
      "text/plain": [
       "(19,)"
      ]
     },
     "execution_count": 67,
     "metadata": {},
     "output_type": "execute_result"
    }
   ],
   "source": [
    "xmodel.params.shape"
   ]
  },
  {
   "cell_type": "code",
   "execution_count": 68,
   "id": "7d784a6b",
   "metadata": {},
   "outputs": [
    {
     "data": {
      "text/plain": [
       "(500, 17)"
      ]
     },
     "execution_count": 68,
     "metadata": {},
     "output_type": "execute_result"
    }
   ],
   "source": [
    "X_transformed_x.shape"
   ]
  },
  {
   "cell_type": "code",
   "execution_count": 69,
   "id": "7f1443b5",
   "metadata": {},
   "outputs": [
    {
     "data": {
      "text/plain": [
       "(20, 17)"
      ]
     },
     "execution_count": 69,
     "metadata": {},
     "output_type": "execute_result"
    }
   ],
   "source": [
    "alpha_x_ini.shape"
   ]
  },
  {
   "cell_type": "code",
   "execution_count": 70,
   "id": "fe14d549",
   "metadata": {},
   "outputs": [
    {
     "data": {
      "text/plain": [
       "17"
      ]
     },
     "execution_count": 70,
     "metadata": {},
     "output_type": "execute_result"
    }
   ],
   "source": [
    "p_x"
   ]
  },
  {
   "cell_type": "code",
   "execution_count": null,
   "id": "86742f8c",
   "metadata": {},
   "outputs": [],
   "source": []
  },
  {
   "cell_type": "code",
   "execution_count": null,
   "id": "ef0f21d0",
   "metadata": {},
   "outputs": [],
   "source": []
  },
  {
   "cell_type": "code",
   "execution_count": 71,
   "id": "19889877",
   "metadata": {},
   "outputs": [
    {
     "name": "stdout",
     "output_type": "stream",
     "text": [
      "                            OLS Regression Results                            \n",
      "==============================================================================\n",
      "Dep. Variable:                      y   R-squared:                       0.963\n",
      "Model:                            OLS   Adj. R-squared:                  0.961\n",
      "Method:                 Least Squares   F-statistic:                     776.4\n",
      "Date:                Fri, 29 Sep 2023   Prob (F-statistic):               0.00\n",
      "Time:                        18:44:24   Log-Likelihood:                 111.89\n",
      "No. Observations:                 500   AIC:                            -189.8\n",
      "Df Residuals:                     483   BIC:                            -118.1\n",
      "Df Model:                          16                                         \n",
      "Covariance Type:            nonrobust                                         \n",
      "==============================================================================\n",
      "                 coef    std err          t      P>|t|      [0.025      0.975]\n",
      "------------------------------------------------------------------------------\n",
      "const      -2.174e-09      0.009  -2.47e-07      1.000      -0.017       0.017\n",
      "x1             0.7520      0.013     59.650      0.000       0.727       0.777\n",
      "x2            -5.1800      0.204    -25.423      0.000      -5.580      -4.780\n",
      "x3             2.7810      0.198     14.058      0.000       2.392       3.170\n",
      "x4            -3.0873      0.200    -15.455      0.000      -3.480      -2.695\n",
      "x5            -0.8254      0.211     -3.914      0.000      -1.240      -0.411\n",
      "x6            -2.3231      0.221    -10.510      0.000      -2.757      -1.889\n",
      "x7             3.7022      0.198     18.679      0.000       3.313       4.092\n",
      "x8            -2.2431      0.222    -10.114      0.000      -2.679      -1.807\n",
      "x9             0.4761      0.202      2.359      0.019       0.080       0.873\n",
      "x10           -3.3552      0.197    -17.041      0.000      -3.742      -2.968\n",
      "x11           -1.6411      0.198     -8.288      0.000      -2.030      -1.252\n",
      "x12            5.5203      0.197     28.022      0.000       5.133       5.907\n",
      "x13           -4.0882      0.199    -20.538      0.000      -4.479      -3.697\n",
      "x14            0.6726      0.197      3.407      0.001       0.285       1.060\n",
      "x15           -0.4856      0.211     -2.302      0.022      -0.900      -0.071\n",
      "x16            1.4825      0.197      7.516      0.000       1.095       1.870\n",
      "==============================================================================\n",
      "Omnibus:                        2.884   Durbin-Watson:                   1.809\n",
      "Prob(Omnibus):                  0.236   Jarque-Bera (JB):                2.335\n",
      "Skew:                           0.023   Prob(JB):                        0.311\n",
      "Kurtosis:                       2.668   Cond. No.                         32.1\n",
      "==============================================================================\n",
      "\n",
      "Notes:\n",
      "[1] Standard Errors assume that the covariance matrix of the errors is correctly specified.\n"
     ]
    }
   ],
   "source": [
    "print(ymodel.summary())"
   ]
  },
  {
   "cell_type": "code",
   "execution_count": 72,
   "id": "59a1bd3a",
   "metadata": {},
   "outputs": [],
   "source": [
    "modMat = onp.hstack([x, X_transformed[:,indxMin][:,None] ,X_transformed_y])\n",
    "ymodel = sm.OLS(onp.array(y), sm.add_constant(modMat)).fit()"
   ]
  },
  {
   "cell_type": "code",
   "execution_count": 73,
   "id": "2d614da6",
   "metadata": {},
   "outputs": [
    {
     "data": {
      "text/plain": [
       "array([-0.   ,  0.752, -5.18 ,  2.781, -3.087, -0.825, -2.323,  3.702,\n",
       "       -2.243,  0.476, -3.355, -1.641,  5.52 , -4.088,  0.673, -0.486,\n",
       "        1.483])"
      ]
     },
     "execution_count": 73,
     "metadata": {},
     "output_type": "execute_result"
    }
   ],
   "source": [
    "ymodel.params"
   ]
  },
  {
   "cell_type": "code",
   "execution_count": 74,
   "id": "27c078a6",
   "metadata": {},
   "outputs": [],
   "source": [
    "predictions = ymodel.predict()"
   ]
  },
  {
   "cell_type": "code",
   "execution_count": 75,
   "id": "4236bf80",
   "metadata": {},
   "outputs": [
    {
     "data": {
      "text/plain": [
       "()"
      ]
     },
     "execution_count": 75,
     "metadata": {},
     "output_type": "execute_result"
    }
   ],
   "source": [
    "newX = pd.DataFrame({\"Constant\":onp.ones(len(X))}).join(pd.DataFrame(modMat))\n",
    "MSE = (sum((y[:,0]-predictions)**2))/(len(newX)-len(newX.columns))\n",
    "MSE.shape"
   ]
  },
  {
   "cell_type": "code",
   "execution_count": 76,
   "id": "2d062dcf",
   "metadata": {},
   "outputs": [
    {
     "data": {
      "text/plain": [
       "983"
      ]
     },
     "execution_count": 76,
     "metadata": {},
     "output_type": "execute_result"
    }
   ],
   "source": [
    "newX.shape[0]-newX.shape[1]"
   ]
  },
  {
   "cell_type": "code",
   "execution_count": 77,
   "id": "8fc96919",
   "metadata": {},
   "outputs": [
    {
     "data": {
      "text/plain": [
       "numpy.float64"
      ]
     },
     "execution_count": 77,
     "metadata": {},
     "output_type": "execute_result"
    }
   ],
   "source": [
    "type(MSE)"
   ]
  },
  {
   "cell_type": "code",
   "execution_count": 78,
   "id": "222e2bf9",
   "metadata": {},
   "outputs": [
    {
     "data": {
      "text/plain": [
       "[nan,\n",
       " nan,\n",
       " nan,\n",
       " nan,\n",
       " nan,\n",
       " nan,\n",
       " nan,\n",
       " nan,\n",
       " nan,\n",
       " nan,\n",
       " nan,\n",
       " nan,\n",
       " nan,\n",
       " nan,\n",
       " nan,\n",
       " nan,\n",
       " nan]"
      ]
     },
     "execution_count": 78,
     "metadata": {},
     "output_type": "execute_result"
    }
   ],
   "source": [
    "#newX = onp.array(newX)\n",
    "# Note if you don't want to use a DataFrame replace the two lines above with\n",
    "# newX = np.append(np.ones((len(X),1)), X, axis=1)\n",
    "# MSE = (sum((y-predictions)**2))/(len(newX)-len(newX[0]))\n",
    "from scipy import stats\n",
    "var_b = MSE*(onp.linalg.inv(onp.dot(newX.T,newX)).diagonal())\n",
    "sd_b = onp.sqrt(var_b)\n",
    "ts_b = ymodel.params/ sd_b\n",
    "\n",
    "p_values =[2*(1-stats.t.cdf(onp.abs(i),(newX.shape[0]-newX.shape[1]))) for i in ts_b]\n",
    "p_values"
   ]
  },
  {
   "cell_type": "code",
   "execution_count": 79,
   "id": "8d1d25ad",
   "metadata": {},
   "outputs": [
    {
     "data": {
      "text/plain": [
       "(1000, 17)"
      ]
     },
     "execution_count": 79,
     "metadata": {},
     "output_type": "execute_result"
    }
   ],
   "source": [
    "ymodel.pvalues\n",
    "np.array(newX).shape"
   ]
  },
  {
   "cell_type": "code",
   "execution_count": 80,
   "id": "701e995e",
   "metadata": {},
   "outputs": [
    {
     "data": {
      "text/plain": [
       "[nan,\n",
       " nan,\n",
       " nan,\n",
       " nan,\n",
       " nan,\n",
       " nan,\n",
       " nan,\n",
       " nan,\n",
       " nan,\n",
       " nan,\n",
       " nan,\n",
       " nan,\n",
       " nan,\n",
       " nan,\n",
       " nan,\n",
       " nan,\n",
       " nan]"
      ]
     },
     "execution_count": 80,
     "metadata": {},
     "output_type": "execute_result"
    }
   ],
   "source": [
    "def linRegCoefStat2(coefs, modMat, mses ):\n",
    "    I = np.diag(np.ones(modMat.shape[1]))\n",
    "    var_b = mses*(np.linalg.inv(np.dot(modMat.T, modMat)+0.000001*I)).diagonal()\n",
    "    sd_b = np.sqrt(var_b)\n",
    "    \n",
    "    ts_b = coefs / sd_b\n",
    "    return ts_b\n",
    "\n",
    "statss = linRegCoefStat2(np.array(ymodel.params), np.array(newX), np.array(MSE) )\n",
    "p_values =[2*(1-stats.t.cdf(onp.abs(i),(newX.shape[0]-newX.shape[1]))) for i in statss]\n",
    "p_values"
   ]
  },
  {
   "cell_type": "code",
   "execution_count": 81,
   "id": "3494ef90",
   "metadata": {},
   "outputs": [
    {
     "data": {
      "text/plain": [
       "(500, 20)"
      ]
     },
     "execution_count": 81,
     "metadata": {},
     "output_type": "execute_result"
    }
   ],
   "source": [
    "X_transformed.shape"
   ]
  },
  {
   "cell_type": "code",
   "execution_count": 82,
   "id": "37f7203a",
   "metadata": {},
   "outputs": [
    {
     "data": {
      "text/plain": [
       "6.720773479329335e-05"
      ]
     },
     "execution_count": 82,
     "metadata": {},
     "output_type": "execute_result"
    }
   ],
   "source": [
    "i = 0\n",
    "aux = sm.add_constant(X_transformed[:,i][:,None])\n",
    "aux.shape\n",
    "y.shape\n",
    "sm.OLS(onp.array(y), aux).fit().pvalues[1]"
   ]
  },
  {
   "cell_type": "code",
   "execution_count": 83,
   "id": "962cae3a",
   "metadata": {},
   "outputs": [],
   "source": [
    "pvalsy = [sm.OLS(onp.array(y), sm.add_constant(X_transformed[:,i][:,None])).fit().pvalues[1] for i in idx_rest]\n",
    "pvalsx = [sm.OLS(onp.array(x), sm.add_constant(X_transformed[:,i][:,None])).fit().pvalues[1] for i in idx_rest]\n",
    "idx_x_c, = onp.where(onp.array(pvalsx)<onp.array(pvalsy))\n",
    "idx_y_c, = onp.where(onp.array(pvalsx)>onp.array(pvalsy))\n",
    "X_transformed_x = X_transformed[:,idx_x_c]\n",
    "X_transformed_y = X_transformed[:,idx_y_c]\n",
    "p_x = X_transformed_x.shape[1]\n",
    "p_y = X_transformed_y.shape[1]\n",
    "alpha_x_ini = onp.random.normal(size=p_x)\n",
    "alpha_y_ini = onp.random.normal(size=p_y)\n",
    "zx_ini = (X_transformed_x@alpha_x_ini)[:,None]\n",
    "zy_ini = (X_transformed_y@alpha_y_ini)[:,None]"
   ]
  },
  {
   "cell_type": "code",
   "execution_count": null,
   "id": "cc9dff10",
   "metadata": {},
   "outputs": [],
   "source": []
  },
  {
   "cell_type": "code",
   "execution_count": 84,
   "id": "a91228ba",
   "metadata": {},
   "outputs": [
    {
     "data": {
      "text/plain": [
       "(500, 1)"
      ]
     },
     "execution_count": 84,
     "metadata": {},
     "output_type": "execute_result"
    }
   ],
   "source": [
    "zy_ini.shape"
   ]
  },
  {
   "cell_type": "code",
   "execution_count": 85,
   "id": "5aaf8afa",
   "metadata": {},
   "outputs": [],
   "source": [
    "idx_x, idx_y, idx_c = idxs"
   ]
  },
  {
   "cell_type": "code",
   "execution_count": 86,
   "id": "fc8a642e",
   "metadata": {},
   "outputs": [
    {
     "data": {
      "text/plain": [
       "DeviceArray(-0.097, dtype=float32)"
      ]
     },
     "execution_count": 86,
     "metadata": {},
     "output_type": "execute_result"
    },
    {
     "data": {
      "image/png": "[encoded data removed]",
      "text/plain": [
       "<Figure size 640x480 with 1 Axes>"
      ]
     },
     "metadata": {},
     "output_type": "display_data"
    }
   ],
   "source": [
    "plt.scatter(Z[:,idx_c], X_transformed[:,indxMin])\n",
    "corrcoef(Z[:,idx_c], X_transformed[:,indxMin])"
   ]
  },
  {
   "cell_type": "code",
   "execution_count": 87,
   "id": "e075b570",
   "metadata": {},
   "outputs": [
    {
     "data": {
      "text/plain": [
       "500"
      ]
     },
     "execution_count": 87,
     "metadata": {},
     "output_type": "execute_result"
    }
   ],
   "source": [
    "N = x.shape[0]\n",
    "N"
   ]
  },
  {
   "cell_type": "code",
   "execution_count": 88,
   "id": "2c359eb8",
   "metadata": {},
   "outputs": [
    {
     "name": "stdout",
     "output_type": "stream",
     "text": [
      "batch_size:  50\n"
     ]
    }
   ],
   "source": [
    "# epchs:int, bs:int, reps:int, lr: float, job:int\n",
    "num_epochs = 3000\n",
    "report_freq = 30#num_epochs\n",
    "num_reps = 5\n",
    "batch_size = 100\n",
    "batch_size2 = int(onp.floor(onp.min([onp.max([25, batch_size/1000*N]), 300])))\n",
    "learning_rate = 0.001\n",
    "job = 1\n",
    "print(\"batch_size: \", batch_size2)"
   ]
  },
  {
   "cell_type": "code",
   "execution_count": 89,
   "id": "68956f5f",
   "metadata": {},
   "outputs": [
    {
     "data": {
      "text/plain": [
       "{'rep': '100',\n",
       " 'latents': 20,\n",
       " 'confounder': 1,\n",
       " 'proxy': 1000,\n",
       " 'dist': 'gaussian',\n",
       " 'distsd': '1',\n",
       " 'noise': 'gaussian',\n",
       " 'noisesd': 1.0,\n",
       " 'independent': True,\n",
       " 'noiseproxy': 1,\n",
       " 'outdir': 'data_noisyproxy2',\n",
       " 'ncl': 1,\n",
       " 'size': 500,\n",
       " 'ix': [9, 5, 18, 8, 4, 19],\n",
       " 'iy': [2, 1, 13, 16, 3, 10],\n",
       " 'ic': 20,\n",
       " 'causal_coeff': 1.28520154347643,\n",
       " 'coefx': [1.30660433368757,\n",
       "  0.594351336127147,\n",
       "  1.4071696435567,\n",
       "  0.543512439820915,\n",
       "  1.07543691410683,\n",
       "  1.47539009526372,\n",
       "  0.742164299124852],\n",
       " 'coefy': [1.03866463666782,\n",
       "  1.43202139018103,\n",
       "  1.06534445844591,\n",
       "  0.845704484265298,\n",
       "  0.739768077386543,\n",
       "  0.602315629832447,\n",
       "  1.30118575179949]}"
      ]
     },
     "execution_count": 89,
     "metadata": {},
     "output_type": "execute_result"
    }
   ],
   "source": [
    "meta"
   ]
  },
  {
   "cell_type": "code",
   "execution_count": 90,
   "id": "b4c23399",
   "metadata": {},
   "outputs": [
    {
     "data": {
      "text/plain": [
       "<matplotlib.collections.PathCollection at 0x7fc2c4108b10>"
      ]
     },
     "execution_count": 90,
     "metadata": {},
     "output_type": "execute_result"
    },
    {
     "data": {
      "image/png": "[encoded data removed]",
      "text/plain": [
       "<Figure size 640x480 with 1 Axes>"
      ]
     },
     "metadata": {},
     "output_type": "display_data"
    }
   ],
   "source": [
    "plt.scatter(x, y)"
   ]
  },
  {
   "cell_type": "code",
   "execution_count": 91,
   "id": "f82b6e6b",
   "metadata": {},
   "outputs": [
    {
     "data": {
      "text/plain": [
       "array([[1.   , 0.839],\n",
       "       [0.839, 1.   ]])"
      ]
     },
     "execution_count": 91,
     "metadata": {},
     "output_type": "execute_result"
    }
   ],
   "source": [
    "onp.corrcoef(x, y, rowvar=False)"
   ]
  },
  {
   "cell_type": "code",
   "execution_count": 92,
   "id": "d03c2e7e",
   "metadata": {},
   "outputs": [],
   "source": [
    "embedding = Isomap(n_components=10)\n",
    "xy = onp.hstack([x, y])\n",
    "xy_transformed = embedding.fit_transform(xy)\n",
    "zc_ini = np.array(xy_transformed[:,3])[:,None]"
   ]
  },
  {
   "cell_type": "code",
   "execution_count": 93,
   "id": "bfefea63",
   "metadata": {},
   "outputs": [
    {
     "data": {
      "text/plain": [
       "DeviceArray(0.467, dtype=float32)"
      ]
     },
     "execution_count": 93,
     "metadata": {},
     "output_type": "execute_result"
    }
   ],
   "source": [
    "hsicRBF(x, y)"
   ]
  },
  {
   "cell_type": "code",
   "execution_count": 94,
   "id": "9c0a5218",
   "metadata": {},
   "outputs": [
    {
     "data": {
      "text/plain": [
       "DeviceArray(0.069, dtype=float32)"
      ]
     },
     "execution_count": 94,
     "metadata": {},
     "output_type": "execute_result"
    }
   ],
   "source": [
    "hsicRBF(zc_ini, y)"
   ]
  },
  {
   "cell_type": "code",
   "execution_count": 95,
   "id": "50950402",
   "metadata": {},
   "outputs": [
    {
     "data": {
      "text/plain": [
       "DeviceArray(0.202, dtype=float32)"
      ]
     },
     "execution_count": 95,
     "metadata": {},
     "output_type": "execute_result"
    }
   ],
   "source": [
    "hsicRBF(zc_ini, x)"
   ]
  },
  {
   "cell_type": "code",
   "execution_count": 96,
   "id": "c5ffec29",
   "metadata": {},
   "outputs": [
    {
     "data": {
      "text/plain": [
       "(500, 1)"
      ]
     },
     "execution_count": 96,
     "metadata": {},
     "output_type": "execute_result"
    }
   ],
   "source": [
    "y.shape"
   ]
  },
  {
   "cell_type": "code",
   "execution_count": 97,
   "id": "e00a5a3c",
   "metadata": {},
   "outputs": [],
   "source": [
    "idx_x, idx_y, idx_c = idxs\n",
    "    \n",
    "zx_real = Z[:,idx_x]\n",
    "zy_real = Z[:,idx_y]\n",
    "zc_real = Z[:,idx_c]"
   ]
  },
  {
   "cell_type": "code",
   "execution_count": 98,
   "id": "3d6f60d5",
   "metadata": {},
   "outputs": [
    {
     "data": {
      "text/plain": [
       "DeviceArray([20], dtype=int32)"
      ]
     },
     "execution_count": 98,
     "metadata": {},
     "output_type": "execute_result"
    }
   ],
   "source": [
    "idx_c"
   ]
  },
  {
   "cell_type": "code",
   "execution_count": 99,
   "id": "2822a887",
   "metadata": {},
   "outputs": [
    {
     "data": {
      "text/plain": [
       "jax.interpreters.xla.DeviceArray"
      ]
     },
     "execution_count": 99,
     "metadata": {},
     "output_type": "execute_result"
    }
   ],
   "source": [
    "type(lam)"
   ]
  },
  {
   "cell_type": "code",
   "execution_count": 100,
   "id": "ad05f659",
   "metadata": {},
   "outputs": [],
   "source": [
    "# read in indices and beta real"
   ]
  },
  {
   "cell_type": "code",
   "execution_count": 101,
   "id": "76ed7b08",
   "metadata": {},
   "outputs": [],
   "source": [
    "nm = \"test\""
   ]
  },
  {
   "cell_type": "code",
   "execution_count": null,
   "id": "061be0fd",
   "metadata": {
    "scrolled": false
   },
   "outputs": [
    {
     "name": "stdout",
     "output_type": "stream",
     "text": [
      "nm: test\n"
     ]
    },
    {
     "name": "stderr",
     "output_type": "stream",
     "text": [
      "/home/emiliano/anaconda3/lib/python3.7/site-packages/sklearn/decomposition/_fastica.py:120: ConvergenceWarning: FastICA did not converge. Consider increasing tolerance or the maximum number of iterations.\n",
      "  ConvergenceWarning)\n"
     ]
    },
    {
     "name": "stdout",
     "output_type": "stream",
     "text": [
      "alpha x shape:  (20, 11, 5)\n",
      "N:  500\n",
      "batch size:  100\n",
      "batch per_epoch:  5\n",
      "epochs2:  600\n",
      "epochs eff:  600\n",
      "num_iters:  3000\n",
      "num_reports:  101\n",
      "report_freq:  30\n",
      "iteration:  0\n"
     ]
    }
   ],
   "source": [
    "res = getLatentZ_wrapper_lin(x, y, Z, U, idxs, stds, beta_real, nm, pars, num_epochs, report_freq, num_reps, batch_size, learning_rate, job)"
   ]
  },
  {
   "cell_type": "code",
   "execution_count": null,
   "id": "06484483",
   "metadata": {},
   "outputs": [],
   "source": [
    "alpha_y_ini = onp.zeros((3, 3))\n",
    "alpha_y_ini.shape"
   ]
  },
  {
   "cell_type": "code",
   "execution_count": null,
   "id": "ac04214c",
   "metadata": {},
   "outputs": [],
   "source": [
    "alpha_y_ini"
   ]
  },
  {
   "cell_type": "code",
   "execution_count": null,
   "id": "0c84db8e",
   "metadata": {},
   "outputs": [],
   "source": [
    "res[\"params\"][\"alpha_c\"][0:10]"
   ]
  },
  {
   "cell_type": "code",
   "execution_count": null,
   "id": "8a46e28c",
   "metadata": {},
   "outputs": [],
   "source": [
    "res[\"params\"][\"alpha_x\"][0:10]"
   ]
  },
  {
   "cell_type": "code",
   "execution_count": null,
   "id": "450cae36",
   "metadata": {},
   "outputs": [],
   "source": [
    "res[\"params\"][\"alpha_y\"][0:10]"
   ]
  },
  {
   "cell_type": "code",
   "execution_count": null,
   "id": "6344a3b8",
   "metadata": {},
   "outputs": [],
   "source": [
    "D_u = covariance_matrix(sqeuclidean_distance, U, U)\n",
    "sigma_u = 1 / np.median(D_u)\n",
    "K_u = rbf_kernel_matrix({'gamma': sigma_u}, U, U)"
   ]
  },
  {
   "cell_type": "code",
   "execution_count": null,
   "id": "3742093c",
   "metadata": {},
   "outputs": [],
   "source": [
    "rep = 0\n",
    "zc_est = U@res[\"params\"][\"alpha_c\"][:,0,rep][:,None]"
   ]
  },
  {
   "cell_type": "code",
   "execution_count": null,
   "id": "079475d0",
   "metadata": {},
   "outputs": [],
   "source": [
    "zc_est[0:10]"
   ]
  },
  {
   "cell_type": "code",
   "execution_count": null,
   "id": "7176e75d",
   "metadata": {},
   "outputs": [],
   "source": [
    "plt.scatter(zc_real, zc_est)"
   ]
  },
  {
   "cell_type": "code",
   "execution_count": null,
   "id": "370b3696",
   "metadata": {},
   "outputs": [],
   "source": [
    "corrcoef(zc_real, zc_est)"
   ]
  },
  {
   "cell_type": "code",
   "execution_count": null,
   "id": "078b9a88",
   "metadata": {},
   "outputs": [],
   "source": [
    "res.keys()"
   ]
  },
  {
   "cell_type": "code",
   "execution_count": null,
   "id": "59be0af7",
   "metadata": {},
   "outputs": [],
   "source": [
    "beta"
   ]
  },
  {
   "cell_type": "code",
   "execution_count": null,
   "id": "3a708bfe",
   "metadata": {},
   "outputs": [],
   "source": [
    "res[\"path\"].keys()"
   ]
  },
  {
   "cell_type": "code",
   "execution_count": null,
   "id": "17e27a5e",
   "metadata": {},
   "outputs": [],
   "source": [
    "res[\"path\"][\"loss\"].shape"
   ]
  },
  {
   "cell_type": "code",
   "execution_count": null,
   "id": "0590884f",
   "metadata": {},
   "outputs": [],
   "source": [
    "plt.plot(onp.arange(res[\"path\"][\"loss\"].shape[0]),res[\"path\"][\"loss\"][:,:,0])"
   ]
  },
  {
   "cell_type": "code",
   "execution_count": null,
   "id": "a953765e",
   "metadata": {},
   "outputs": [],
   "source": [
    "plt.plot(onp.arange(res[\"path\"][\"loss\"].shape[0]),res[\"path\"][\"hsic_indep\"][:,:,0])"
   ]
  },
  {
   "cell_type": "code",
   "execution_count": null,
   "id": "cd5f20f9",
   "metadata": {},
   "outputs": [],
   "source": [
    "plt.plot(onp.arange(res[\"path\"][\"loss\"].shape[0]),res[\"path\"][\"hsic_resids\"][:,::,0])"
   ]
  },
  {
   "cell_type": "code",
   "execution_count": null,
   "id": "2867141c",
   "metadata": {},
   "outputs": [],
   "source": [
    "plt.plot(onp.arange(res[\"path\"][\"loss\"].shape[0]),res[\"path\"][\"mses\"][:,:,0])"
   ]
  },
  {
   "cell_type": "markdown",
   "id": "d8e15f78",
   "metadata": {},
   "source": [
    "## resids"
   ]
  },
  {
   "cell_type": "code",
   "execution_count": null,
   "id": "b9f268b4",
   "metadata": {},
   "outputs": [],
   "source": [
    "plt.plot(onp.arange(res[\"path\"][\"loss\"].shape[0]),res[\"path\"][\"hsic_rx_ax\"][:,:,0])"
   ]
  },
  {
   "cell_type": "code",
   "execution_count": null,
   "id": "a7ee27ea",
   "metadata": {},
   "outputs": [],
   "source": [
    "plt.plot(onp.arange(res[\"path\"][\"loss\"].shape[0]),res[\"path\"][\"hsic_ry_ay\"][:,:,0])"
   ]
  },
  {
   "cell_type": "markdown",
   "id": "b1ff6d89",
   "metadata": {},
   "source": [
    "## indeps"
   ]
  },
  {
   "cell_type": "code",
   "execution_count": null,
   "id": "d038e105",
   "metadata": {},
   "outputs": [],
   "source": [
    "plt.plot(onp.arange(res[\"path\"][\"loss\"].shape[0]),res[\"path\"][\"hsic_zx_zy\"][:,:,0])"
   ]
  },
  {
   "cell_type": "code",
   "execution_count": null,
   "id": "a2634ab2",
   "metadata": {},
   "outputs": [],
   "source": [
    "plt.plot(onp.arange(res[\"path\"][\"loss\"].shape[0]),res[\"path\"][\"hsic_zx_zc\"][:,:,0])"
   ]
  },
  {
   "cell_type": "code",
   "execution_count": null,
   "id": "60e042ea",
   "metadata": {},
   "outputs": [],
   "source": [
    "plt.plot(onp.arange(res[\"path\"][\"loss\"].shape[0]),res[\"path\"][\"hsic_zy_zc\"][:,:,0])"
   ]
  },
  {
   "cell_type": "code",
   "execution_count": null,
   "id": "f95b2524",
   "metadata": {},
   "outputs": [],
   "source": [
    "plt.plot(onp.arange(res[\"path\"][\"loss\"].shape[0]),res[\"path\"][\"hsic_zy_x\"][:,:,0])"
   ]
  },
  {
   "cell_type": "code",
   "execution_count": null,
   "id": "fbde1f6c",
   "metadata": {},
   "outputs": [],
   "source": [
    "plt.plot(onp.arange(res[\"path\"][\"loss\"].shape[0]),res[\"path\"][\"weight_orth\"][:,:,0])"
   ]
  },
  {
   "cell_type": "markdown",
   "id": "c8397038",
   "metadata": {},
   "source": [
    "# mses"
   ]
  },
  {
   "cell_type": "code",
   "execution_count": null,
   "id": "1ae392bb",
   "metadata": {},
   "outputs": [],
   "source": [
    "plt.plot(onp.arange(res[\"path\"][\"loss\"].shape[0]),res[\"path\"][\"mse_rx\"][:,:,0])"
   ]
  },
  {
   "cell_type": "code",
   "execution_count": null,
   "id": "dbe57357",
   "metadata": {},
   "outputs": [],
   "source": [
    "plt.plot(onp.arange(res[\"path\"][\"loss\"].shape[0]),res[\"path\"][\"mse_ry\"][:,:,0])"
   ]
  },
  {
   "cell_type": "code",
   "execution_count": null,
   "id": "30867bd6",
   "metadata": {},
   "outputs": [],
   "source": [
    "np.std(y)"
   ]
  },
  {
   "cell_type": "code",
   "execution_count": null,
   "id": "de5e218c",
   "metadata": {},
   "outputs": [],
   "source": [
    "plt.plot(onp.arange(res[\"path\"][\"loss\"].shape[0]),res[\"path\"][\"mse_rx_cross\"][:,:,0])"
   ]
  },
  {
   "cell_type": "code",
   "execution_count": null,
   "id": "594a5657",
   "metadata": {},
   "outputs": [],
   "source": [
    "plt.plot(onp.arange(res[\"path\"][\"loss\"].shape[0]),res[\"path\"][\"mse_ry_cross\"][:,:,0])"
   ]
  },
  {
   "cell_type": "markdown",
   "id": "963c4703",
   "metadata": {},
   "source": [
    "## zs vs z_est"
   ]
  },
  {
   "cell_type": "code",
   "execution_count": null,
   "id": "6d33279f",
   "metadata": {},
   "outputs": [],
   "source": [
    "plt.plot(onp.arange(res[\"path\"][\"loss\"].shape[0]),res[\"path\"][\"hsic_zx\"][:,:,0])"
   ]
  },
  {
   "cell_type": "code",
   "execution_count": null,
   "id": "6e926f5b",
   "metadata": {},
   "outputs": [],
   "source": [
    "plt.plot(onp.arange(res[\"path\"][\"loss\"].shape[0]),res[\"path\"][\"hsic_zy\"][:,:,0])"
   ]
  },
  {
   "cell_type": "code",
   "execution_count": null,
   "id": "3ed9c924",
   "metadata": {},
   "outputs": [],
   "source": [
    "plt.plot(onp.arange(res[\"path\"][\"loss\"].shape[0]),res[\"path\"][\"hsic_zc\"][:,:,0])"
   ]
  },
  {
   "cell_type": "code",
   "execution_count": null,
   "id": "d858e7a7",
   "metadata": {},
   "outputs": [],
   "source": [
    "onp.mean([mse(x,x[onp.random.choice(x.shape[0], size=x.shape[0], replace=False)]) for i in range(1000)])"
   ]
  },
  {
   "cell_type": "code",
   "execution_count": null,
   "id": "4df1b65b",
   "metadata": {},
   "outputs": [],
   "source": [
    "onp.mean([mse(y,y[onp.random.choice(y.shape[0], size=y.shape[0], replace=False)]) for i in range(1000)])"
   ]
  },
  {
   "cell_type": "code",
   "execution_count": null,
   "id": "21ca2661",
   "metadata": {},
   "outputs": [],
   "source": [
    "onp.sqrt(2)"
   ]
  },
  {
   "cell_type": "code",
   "execution_count": null,
   "id": "dcb3d37a",
   "metadata": {},
   "outputs": [],
   "source": [
    "onp.random.choice(6, size=6, replace=False)"
   ]
  },
  {
   "cell_type": "code",
   "execution_count": null,
   "id": "0c6ba13f",
   "metadata": {},
   "outputs": [],
   "source": [
    "plt.plot(onp.arange(res[\"path\"][\"loss\"].shape[0]),res[\"path\"][\"corr_zc\"][:,:,0])"
   ]
  },
  {
   "cell_type": "code",
   "execution_count": null,
   "id": "c1635e60",
   "metadata": {},
   "outputs": [],
   "source": [
    "plt.plot(onp.arange(res[\"path\"][\"loss\"].shape[0]), np.abs(res[\"path\"][\"stat_x\"][:,:,0]))"
   ]
  },
  {
   "cell_type": "code",
   "execution_count": null,
   "id": "841d81d4",
   "metadata": {},
   "outputs": [],
   "source": [
    "plt.plot(onp.arange(res[\"path\"][\"loss\"].shape[0]), np.abs(res[\"path\"][\"stat_y\"][:,:,0]))"
   ]
  },
  {
   "cell_type": "code",
   "execution_count": null,
   "id": "a9933548",
   "metadata": {},
   "outputs": [],
   "source": [
    "p_values_x =np.array([2*(1-stats.t.cdf(onp.abs(i[0]),(batch_size-2))) for i in res[\"path\"][\"stat_x\"][:,:,0]])\n",
    "p_values_y =np.array([2*(1-stats.t.cdf(onp.abs(i[0]),(batch_size-2))) for i in res[\"path\"][\"stat_y\"][:,:,0]])\n",
    "p_values = p_values_x+p_values_y"
   ]
  },
  {
   "cell_type": "code",
   "execution_count": null,
   "id": "ecbb666d",
   "metadata": {},
   "outputs": [],
   "source": [
    "plt.plot(onp.arange(res[\"path\"][\"loss\"].shape[0]), p_values_x)\n",
    "plt.plot(onp.arange(res[\"path\"][\"loss\"].shape[0]), p_values_y)\n",
    "plt.plot(onp.arange(res[\"path\"][\"loss\"].shape[0]), p_values)\n"
   ]
  },
  {
   "cell_type": "code",
   "execution_count": null,
   "id": "2ca9e1bf",
   "metadata": {},
   "outputs": [],
   "source": [
    "x.shape"
   ]
  },
  {
   "cell_type": "markdown",
   "id": "3b1a1e33",
   "metadata": {},
   "source": [
    "# cause estimation"
   ]
  },
  {
   "cell_type": "code",
   "execution_count": null,
   "id": "79fd6ca7",
   "metadata": {},
   "outputs": [],
   "source": [
    "beta_real"
   ]
  },
  {
   "cell_type": "code",
   "execution_count": null,
   "id": "024f46ec",
   "metadata": {},
   "outputs": [],
   "source": [
    "plt.plot(onp.arange(res[\"path\"][\"loss\"].shape[0]),res[\"path\"][\"beta_ce\"][:,:,0])"
   ]
  },
  {
   "cell_type": "code",
   "execution_count": null,
   "id": "35a530c0",
   "metadata": {},
   "outputs": [],
   "source": [
    "plt.plot(onp.arange(res[\"path\"][\"loss\"].shape[0]),res[\"path\"][\"beta_u\"][:,:,0])\n",
    "plt.plot(onp.arange(res[\"path\"][\"loss\"].shape[0]),res[\"path\"][\"beta_x\"][:,:,0])"
   ]
  },
  {
   "cell_type": "code",
   "execution_count": null,
   "id": "6b441aed",
   "metadata": {},
   "outputs": [],
   "source": []
  },
  {
   "cell_type": "markdown",
   "id": "da2eab3f",
   "metadata": {},
   "source": [
    "## zc in zx and zy "
   ]
  },
  {
   "cell_type": "code",
   "execution_count": null,
   "id": "bcbf9886",
   "metadata": {},
   "outputs": [],
   "source": [
    "plt.plot(onp.arange(res[\"path\"][\"loss\"].shape[0]),res[\"path\"][\"imp_zx\"][:,0:7,0])"
   ]
  },
  {
   "cell_type": "code",
   "execution_count": null,
   "id": "9bf05346",
   "metadata": {},
   "outputs": [],
   "source": [
    "plt.plot(onp.arange(res[\"path\"][\"loss\"].shape[0]),res[\"path\"][\"imp_zy\"][:,:,0])"
   ]
  },
  {
   "cell_type": "markdown",
   "id": "e1754ab0",
   "metadata": {},
   "source": [
    "# hsic(x, zc), hsic(y, zc)"
   ]
  },
  {
   "cell_type": "code",
   "execution_count": null,
   "id": "16fbf1cd",
   "metadata": {},
   "outputs": [],
   "source": [
    "zx_real = Z[:,[7,1,2]]\n",
    "zy_real = Z[:,[0,6,5]]\n",
    "zc_real = Z[:,idx_c]"
   ]
  },
  {
   "cell_type": "code",
   "execution_count": null,
   "id": "f7d13196",
   "metadata": {},
   "outputs": [],
   "source": [
    "hsicRBF(zc_real, x)"
   ]
  },
  {
   "cell_type": "code",
   "execution_count": null,
   "id": "719f0f64",
   "metadata": {},
   "outputs": [],
   "source": [
    "hsicRBF(zc_real, y)"
   ]
  },
  {
   "cell_type": "code",
   "execution_count": null,
   "id": "e268f3a5",
   "metadata": {},
   "outputs": [],
   "source": [
    "plt.plot(onp.arange(res[\"path\"][\"loss\"].shape[0]),res[\"path\"][\"hsic_x_zc\"][:,0:8,0])"
   ]
  },
  {
   "cell_type": "code",
   "execution_count": null,
   "id": "7bef7a89",
   "metadata": {},
   "outputs": [],
   "source": [
    "plt.plot(onp.arange(res[\"path\"][\"loss\"].shape[0]),res[\"path\"][\"hsic_y_zc\"][:,:,0])"
   ]
  },
  {
   "cell_type": "code",
   "execution_count": null,
   "id": "2a83201f",
   "metadata": {},
   "outputs": [],
   "source": []
  },
  {
   "cell_type": "markdown",
   "id": "7e47544f",
   "metadata": {},
   "source": [
    "## solution"
   ]
  },
  {
   "cell_type": "code",
   "execution_count": null,
   "id": "a6952c10",
   "metadata": {},
   "outputs": [],
   "source": [
    "params = res[\"params\"] "
   ]
  },
  {
   "cell_type": "code",
   "execution_count": null,
   "id": "1426f8a7",
   "metadata": {},
   "outputs": [],
   "source": [
    "params[\"alpha_x\"].shape"
   ]
  },
  {
   "cell_type": "code",
   "execution_count": null,
   "id": "23ccdeb4",
   "metadata": {},
   "outputs": [],
   "source": [
    "params[\"alpha_y\"].shape"
   ]
  },
  {
   "cell_type": "code",
   "execution_count": null,
   "id": "0f09448b",
   "metadata": {},
   "outputs": [],
   "source": [
    "N = x.shape[0]\n",
    "    \n",
    "\n",
    "D_x = covariance_matrix(sqeuclidean_distance, x, x)\n",
    "sigma_x_med = 1 / np.median(D_x)\n",
    "K_x = rbf_kernel_matrix({'gamma': sigma_x_med}, x, x)\n",
    "\n",
    "D_y = covariance_matrix(sqeuclidean_distance, y, y)\n",
    "sigma_y = 1 / np.median(D_y)\n",
    "K_y = rbf_kernel_matrix({'gamma': sigma_y}, y, y)\n",
    "    \n",
    "D_u = covariance_matrix(sqeuclidean_distance, U, U)\n",
    "sigma_u = 1 / np.median(D_u)\n",
    "K_u = rbf_kernel_matrix({'gamma': sigma_u}, U, U)"
   ]
  },
  {
   "cell_type": "code",
   "execution_count": null,
   "id": "8b816613",
   "metadata": {},
   "outputs": [],
   "source": [
    "Z.shape"
   ]
  },
  {
   "cell_type": "code",
   "execution_count": null,
   "id": "5467a90c",
   "metadata": {},
   "outputs": [],
   "source": [
    "transformer = FastICA(n_components=Z.shape[1],random_state=0,whiten='unit-variance')\n",
    "U_ica = transformer.fit_transform(onp.array(U))\n",
    "U_ica.shape"
   ]
  },
  {
   "cell_type": "code",
   "execution_count": null,
   "id": "f0d7ffdc",
   "metadata": {},
   "outputs": [],
   "source": [
    "rep = 0\n",
    "alpha_x = params[\"alpha_x\"][:,:,rep]\n",
    "alpha_y = params[\"alpha_y\"][:,:,rep]\n",
    "alpha_c = params[\"alpha_c\"][:,:,rep]\n",
    "    \n",
    "zx = U_ica@alpha_x\n",
    "zy = U_ica@alpha_y\n",
    "zc = U@alpha_c\n",
    "    \n",
    "#zx = (zx - np.mean(zx)) / (np.std(zx))\n",
    "#zy = (zy - np.mean(zy)) / (np.std(zy))\n",
    "#zc = (zc - np.mean(zc)) / (np.std(zc))\n",
    "\n",
    "#X_x = zc\n",
    "#X_y = np.hstack([x,zc])\n",
    "X_x = np.hstack([zx, zc])\n",
    "X_y = np.hstack([x,zy, zc])\n",
    "    \n",
    "ws = np.ones(X_y.shape[1])\n",
    "weights_y, resids_y, y_hat = rrModel(lam, X_y, y, ws)\n",
    "ws = np.ones(X_x.shape[1])\n",
    "weights_x, resids_x, x_hat = rrModel(lam, X_x, x, ws)"
   ]
  },
  {
   "cell_type": "code",
   "execution_count": null,
   "id": "e3abe0e3",
   "metadata": {},
   "outputs": [],
   "source": [
    "weights_x"
   ]
  },
  {
   "cell_type": "code",
   "execution_count": null,
   "id": "d1cb8c77",
   "metadata": {},
   "outputs": [],
   "source": [
    "weights_y"
   ]
  },
  {
   "cell_type": "code",
   "execution_count": null,
   "id": "3e6dc942",
   "metadata": {},
   "outputs": [],
   "source": [
    "plt.scatter(zc_real, zc)"
   ]
  },
  {
   "cell_type": "code",
   "execution_count": null,
   "id": "3dd7a494",
   "metadata": {},
   "outputs": [],
   "source": [
    "corrcoef(zc_real, zc)"
   ]
  },
  {
   "cell_type": "code",
   "execution_count": null,
   "id": "f555c1ff",
   "metadata": {},
   "outputs": [],
   "source": [
    "onp.abs(onp.corrcoef(zc_real, zc, rowvar=False)[0,1])"
   ]
  },
  {
   "cell_type": "code",
   "execution_count": null,
   "id": "9e6a4e2e",
   "metadata": {},
   "outputs": [],
   "source": [
    "plt.scatter(x, x_hat)"
   ]
  },
  {
   "cell_type": "code",
   "execution_count": null,
   "id": "bc633a68",
   "metadata": {},
   "outputs": [],
   "source": [
    "ws = np.ones(U.shape[1])\n",
    "_, _, xu_hat = rrModel(lam, U, x, ws)"
   ]
  },
  {
   "cell_type": "code",
   "execution_count": null,
   "id": "8eaae3bf",
   "metadata": {},
   "outputs": [],
   "source": [
    "plt.scatter(x, xu_hat)"
   ]
  },
  {
   "cell_type": "code",
   "execution_count": null,
   "id": "8a1f38ba",
   "metadata": {},
   "outputs": [],
   "source": [
    "np.max(y_hat)"
   ]
  },
  {
   "cell_type": "code",
   "execution_count": null,
   "id": "66c115b8",
   "metadata": {},
   "outputs": [],
   "source": [
    "plt.scatter(y, y_hat)"
   ]
  },
  {
   "cell_type": "code",
   "execution_count": null,
   "id": "a72110a8",
   "metadata": {},
   "outputs": [],
   "source": [
    "plt.scatter(y-y_hat, x)"
   ]
  },
  {
   "cell_type": "code",
   "execution_count": null,
   "id": "e8ba74f6",
   "metadata": {},
   "outputs": [],
   "source": [
    "onp.corrcoef(x=y, y=y_hat, rowvar=False)[0,0]"
   ]
  },
  {
   "cell_type": "code",
   "execution_count": null,
   "id": "8aeab8f0",
   "metadata": {},
   "outputs": [],
   "source": [
    "y_hat.shape"
   ]
  },
  {
   "cell_type": "code",
   "execution_count": null,
   "id": "947643fb",
   "metadata": {},
   "outputs": [],
   "source": [
    "ws = np.ones(U.shape[1])\n",
    "weights_yu, resids_yu, yu_hat = rrModel(lam, U, y, ws)"
   ]
  },
  {
   "cell_type": "code",
   "execution_count": null,
   "id": "76ba72d7",
   "metadata": {},
   "outputs": [],
   "source": [
    "plt.scatter(y, yu_hat)"
   ]
  },
  {
   "cell_type": "code",
   "execution_count": null,
   "id": "13824f1f",
   "metadata": {},
   "outputs": [],
   "source": [
    "ws = np.ones(x.shape[1])\n",
    "_, _, yx_hat = rrModel(lam, x, y, ws)"
   ]
  },
  {
   "cell_type": "code",
   "execution_count": null,
   "id": "53d8e780",
   "metadata": {},
   "outputs": [],
   "source": [
    "plt.scatter(y, yx_hat)"
   ]
  },
  {
   "cell_type": "code",
   "execution_count": null,
   "id": "708c70e6",
   "metadata": {},
   "outputs": [],
   "source": [
    "ws = np.ones(x.shape[1])\n",
    "_, _, yz_hat = rrModel(lam, zc, y, ws)"
   ]
  },
  {
   "cell_type": "code",
   "execution_count": null,
   "id": "9fdb6e1b",
   "metadata": {},
   "outputs": [],
   "source": [
    "plt.scatter(y, yz_hat)"
   ]
  },
  {
   "cell_type": "code",
   "execution_count": null,
   "id": "e3359782",
   "metadata": {},
   "outputs": [],
   "source": [
    "plt.scatter(zc, y-yz_hat)"
   ]
  },
  {
   "cell_type": "code",
   "execution_count": null,
   "id": "fa394200",
   "metadata": {},
   "outputs": [],
   "source": [
    "alpha_x = params[\"alpha_x\"][:,:,rep]\n",
    "alpha_y = params[\"alpha_y\"][:,:,rep]\n",
    "alpha_c = params[\"alpha_c\"][:,:,rep]\n",
    "    \n",
    "zx = U_ica@alpha_x\n",
    "zy = U_ica@alpha_y\n",
    "zc = U@alpha_c"
   ]
  },
  {
   "cell_type": "code",
   "execution_count": null,
   "id": "0d94a11d",
   "metadata": {},
   "outputs": [],
   "source": [
    "zx.shape"
   ]
  },
  {
   "cell_type": "code",
   "execution_count": null,
   "id": "7430623d",
   "metadata": {},
   "outputs": [],
   "source": [
    "zy.shape"
   ]
  },
  {
   "cell_type": "code",
   "execution_count": null,
   "id": "6451b2aa",
   "metadata": {},
   "outputs": [],
   "source": [
    "plt.scatter(zx[:,0], x)"
   ]
  },
  {
   "cell_type": "code",
   "execution_count": null,
   "id": "64a04a2e",
   "metadata": {},
   "outputs": [],
   "source": [
    "plt.scatter(zc, x)"
   ]
  },
  {
   "cell_type": "code",
   "execution_count": null,
   "id": "74da5834",
   "metadata": {},
   "outputs": [],
   "source": [
    "plt.scatter(zx[:,3], y)"
   ]
  },
  {
   "cell_type": "code",
   "execution_count": null,
   "id": "db6a2187",
   "metadata": {},
   "outputs": [],
   "source": [
    "plt.scatter(zy[:,2], y)"
   ]
  },
  {
   "cell_type": "code",
   "execution_count": null,
   "id": "3b751929",
   "metadata": {},
   "outputs": [],
   "source": [
    "plt.scatter(zc, y)"
   ]
  },
  {
   "cell_type": "code",
   "execution_count": null,
   "id": "e2927d32",
   "metadata": {},
   "outputs": [],
   "source": []
  },
  {
   "cell_type": "code",
   "execution_count": null,
   "id": "12e0dee8",
   "metadata": {},
   "outputs": [],
   "source": []
  },
  {
   "cell_type": "code",
   "execution_count": null,
   "id": "ec8d6a6f",
   "metadata": {},
   "outputs": [],
   "source": []
  },
  {
   "cell_type": "code",
   "execution_count": null,
   "id": "cf16334f",
   "metadata": {},
   "outputs": [],
   "source": []
  },
  {
   "cell_type": "code",
   "execution_count": null,
   "id": "866ede71",
   "metadata": {},
   "outputs": [],
   "source": []
  },
  {
   "cell_type": "code",
   "execution_count": null,
   "id": "72c413d5",
   "metadata": {},
   "outputs": [],
   "source": []
  },
  {
   "cell_type": "code",
   "execution_count": null,
   "id": "0230a058",
   "metadata": {},
   "outputs": [],
   "source": []
  }
 ],
 "metadata": {
  "kernelspec": {
   "display_name": "Python 3 (ipykernel)",
   "language": "python",
   "name": "python3"
  },
  "language_info": {
   "codemirror_mode": {
    "name": "ipython",
    "version": 3
   },
   "file_extension": ".py",
   "mimetype": "text/x-python",
   "name": "python",
   "nbconvert_exporter": "python",
   "pygments_lexer": "ipython3",
   "version": "3.7.12"
  }
 },
 "nbformat": 4,
 "nbformat_minor": 5
}
